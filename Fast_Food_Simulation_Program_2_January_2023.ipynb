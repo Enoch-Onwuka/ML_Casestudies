{
  "cells": [
    {
      "cell_type": "markdown",
      "metadata": {
        "id": "view-in-github",
        "colab_type": "text"
      },
      "source": [
        "<a href=\"https://colab.research.google.com/github/Enoch-Onwuka/ML_Casestudies/blob/master/Fast_Food_Simulation_Program_2_January_2023.ipynb\" target=\"_parent\"><img src=\"https://colab.research.google.com/assets/colab-badge.svg\" alt=\"Open In Colab\"/></a>"
      ]
    },
    {
      "cell_type": "markdown",
      "metadata": {
        "id": "FyNzJnO3gwBu"
      },
      "source": [
        "Name: ENOCH ONWUKA"
      ]
    },
    {
      "cell_type": "markdown",
      "metadata": {
        "id": "kBRundEqgwBw"
      },
      "source": [
        "Student ID: 2221982"
      ]
    },
    {
      "cell_type": "markdown",
      "metadata": {
        "id": "_pPahIRZgwBw"
      },
      "source": [
        "**Remember to COPY TO DRIVE before working on this assessment.**\n",
        "\n",
        "**Other than adding your name and your student ID, you DON'T need to add, delete or modify any of the Markdown cells in this notebook! You only need to work on the code cells!**"
      ]
    },
    {
      "cell_type": "markdown",
      "metadata": {
        "id": "UZJzeca_gwBx"
      },
      "source": [
        "# Coursework Part 1 Template\n",
        "\n",
        "RGyUm is a new business venture to get more fast food on-campus. The aim of this coursework is to design a program that simulates a fast-food environment. To do so, you will be provided with two small data files in .csv format, which you must manipulate in order to get a data frame which will be used as the input of your fast-food simulator program."
      ]
    },
    {
      "cell_type": "markdown",
      "metadata": {
        "id": "KSdsoTsxgwBx"
      },
      "source": [
        "You should copy this template to your Colab account and use it as a starting point for your work."
      ]
    },
    {
      "cell_type": "markdown",
      "metadata": {
        "id": "Z1iOgo6agwBx"
      },
      "source": [
        "Once you are done, you can download the .ipynb file and submit it to the Campus Moodle Dropbox. "
      ]
    },
    {
      "cell_type": "markdown",
      "metadata": {
        "id": "X4x-YRN-gwBy"
      },
      "source": [
        "## Section 1: Data loading and manipulation"
      ]
    },
    {
      "cell_type": "markdown",
      "metadata": {
        "id": "5XLSFtavgwBy"
      },
      "source": [
        "You will work with two files that are located in my dropbox:\n",
        "1. `menu.csv`: A table that shows the code to be entered in the fast food menu item keyboard to get a certain food. It also contains the amount of products available. The file can be read from this address: https://www.dropbox.com/s/aer7yfyzrd6yog5/menu.csv?raw=1\n",
        "\n",
        "2. `foods.csv`: A table with the name of each food (without capitalisation), the category and the price. The file can be read from this address: https://www.dropbox.com/s/ln97rid8o3bdh1h/foods.csv?raw=1"
      ]
    },
    {
      "cell_type": "markdown",
      "metadata": {
        "id": "lt2ymUWdgwBy"
      },
      "source": [
        "By running the following code cells, you can to read and print the two files as pandas data frames:"
      ]
    },
    {
      "cell_type": "code",
      "execution_count": 1,
      "metadata": {
        "id": "V4LrfkcMgwBz",
        "colab": {
          "base_uri": "https://localhost:8080/"
        },
        "outputId": "d7187a08-e774-46a8-edaf-5133c7a69388"
      },
      "outputs": [
        {
          "output_type": "stream",
          "name": "stdout",
          "text": [
            "\n",
            "Visualize Menu DataFrame:\n",
            "    menu_number             food  amount\n",
            "0           A1       Margherita     8.0\n",
            "1           A2        Pepperoni     5.0\n",
            "2           A3              NaN     NaN\n",
            "3           A4              NaN     NaN\n",
            "4           B1          Big Mac     6.0\n",
            "5           B2  Halloumi Burger     3.0\n",
            "6           B3              NaN     NaN\n",
            "7           B4              NaN     NaN\n",
            "8           C1              NaN     NaN\n",
            "9           C2            Gyoza     7.0\n",
            "10          C3            Ramen     4.0\n",
            "11          C4         Yakisoba     5.0\n",
            "12          D1              NaN     NaN\n",
            "13          D2     Glazed Donut     8.0\n",
            "14          D3              NaN     NaN\n",
            "15          D4              NaN     NaN\n",
            "\n",
            "Visualize Foods DataFrame:\n",
            "                              food category  price\n",
            "0             jomino's margherita    pizza   5.50\n",
            "1              jomino's pepperoni    pizza   6.75\n",
            "2              mctonald's big mac   burger   4.25\n",
            "3                   fitsu's gyoza  dim sum   5.00\n",
            "4                   fitsu's ramen  dim sum   7.52\n",
            "5  burger queen's halloumi burger   burger   5.10\n",
            "6            hey sushi's yakisoba  dim sum   8.23\n",
            "7     crispy creme's glazed donut   sweets   1.25\n"
          ]
        }
      ],
      "source": [
        "# Importing the require libraries\n",
        "import regex as re\n",
        "import pandas as pd\n",
        "import numpy as np\n",
        "\n",
        "\n",
        "# Loading the menu data\n",
        "menu = pd.read_csv('https://www.dropbox.com/s/aer7yfyzrd6yog5/menu.csv?raw=1')\n",
        "\n",
        "print(\"\\nVisualize Menu DataFrame:\\n\", menu)\n",
        "\n",
        "# Importing the foods data\n",
        "foods = pd.read_csv('https://www.dropbox.com/s/ln97rid8o3bdh1h/foods.csv?raw=1')\n",
        "\n",
        "print(\"\\nVisualize Foods DataFrame:\\n\", foods)\n"
      ]
    },
    {
      "cell_type": "markdown",
      "metadata": {
        "id": "MYXl5TiggwB0"
      },
      "source": [
        "### Question 1: Standardising the column names\n",
        "\n",
        "The food names are not written exactly in the same on both data frames! Most notably, you can see that in the `foods` data frame the foods have the brand before the food name, whereas in the `menu` data frame the foods are capitalised and do not have the brand name before. Therefore, you need to create and **apply** a function which cleans the `food` entries of the `foods` data frame to make them look **the same way** as in the `menu` data frame!"
      ]
    },
    {
      "cell_type": "code",
      "execution_count": 2,
      "metadata": {
        "id": "8ow3ZRcsgwB0",
        "colab": {
          "base_uri": "https://localhost:8080/"
        },
        "outputId": "9b1d3e59-a11c-458c-8f51-810c156b9dbd"
      },
      "outputs": [
        {
          "output_type": "stream",
          "name": "stdout",
          "text": [
            "\n",
            "Standardized Foods DataFrame:\n",
            "               food category  price\n",
            "0       Margherita    pizza   5.50\n",
            "1        Pepperoni    pizza   6.75\n",
            "2          Big Mac   burger   4.25\n",
            "3            Gyoza  dim sum   5.00\n",
            "4            Ramen  dim sum   7.52\n",
            "5  Halloumi Burger   burger   5.10\n",
            "6         Yakisoba  dim sum   8.23\n",
            "7     Glazed Donut   sweets   1.25\n"
          ]
        }
      ],
      "source": [
        "# Creating a regex function to capitalize the menu DataFrame\n",
        "def capitalize_menu(food_name):\n",
        "    food_name = food_name.lower()\n",
        "    food_name = re.sub(\"[^a-zA-Z]+\", \" \", food_name)\n",
        "    food_name = \" \".join([word.capitalize() for word in food_name.split()])\n",
        "    return food_name\n",
        "\n",
        "# Calling the capitalize_menu funtion and applying the lambda function\n",
        "foods[\"food\"] = foods[\"food\"].apply(lambda m: capitalize_menu(m.split(\"'s \")[-1]))\n",
        "\n",
        "# Print the data frames\n",
        "print(\"\\nStandardized Foods DataFrame:\\n\", foods)\n",
        "\n"
      ]
    },
    {
      "cell_type": "markdown",
      "metadata": {
        "id": "rrmD-L3sgwB1"
      },
      "source": [
        "### Question 2: Merging the Datasets\n",
        "\n",
        "Once that both columns look the same, you need to **merge** them as a single data frame so that this can be used in the program.\n",
        "\n",
        "*Hint:* The merged data frame can have `menu_number` as the index, and all the information from the `foods` data frame next to each product."
      ]
    },
    {
      "cell_type": "code",
      "execution_count": 3,
      "metadata": {
        "id": "70_yTGRZgwB1",
        "colab": {
          "base_uri": "https://localhost:8080/"
        },
        "outputId": "00f3e0e1-19f3-4d82-82d2-15f1b3981ea9"
      },
      "outputs": [
        {
          "output_type": "stream",
          "name": "stdout",
          "text": [
            "\n",
            "\n",
            "The Complete Food Table\n",
            "\n",
            "\n",
            "   menu_number             food  amount category  price\n",
            "0           A1       Margherita     8.0    pizza   5.50\n",
            "1           A2        Pepperoni     5.0    pizza   6.75\n",
            "2           A3              NaN     NaN      NaN    NaN\n",
            "3           A4              NaN     NaN      NaN    NaN\n",
            "4           B1          Big Mac     6.0   burger   4.25\n",
            "5           B2  Halloumi Burger     3.0   burger   5.10\n",
            "6           B3              NaN     NaN      NaN    NaN\n",
            "7           B4              NaN     NaN      NaN    NaN\n",
            "8           C1              NaN     NaN      NaN    NaN\n",
            "9           C2            Gyoza     7.0  dim sum   5.00\n",
            "10          C3            Ramen     4.0  dim sum   7.52\n",
            "11          C4         Yakisoba     5.0  dim sum   8.23\n",
            "12          D1              NaN     NaN      NaN    NaN\n",
            "13          D2     Glazed Donut     8.0   sweets   1.25\n",
            "14          D3              NaN     NaN      NaN    NaN\n",
            "15          D4              NaN     NaN      NaN    NaN\n"
          ]
        }
      ],
      "source": [
        "#Merging the Foods and Menu DataFrames \n",
        "food_menu = pd.merge(menu, foods, left_on='food', right_on='food', how='left')\n",
        "print('\\n' )\n",
        "print(\"The Complete Food Table\")\n",
        "print('\\n')\n",
        "print(food_menu)"
      ]
    },
    {
      "cell_type": "markdown",
      "metadata": {
        "id": "zLiKDNDsgwB1"
      },
      "source": [
        "### Question 3: Changing values in a data frame\n",
        "\n",
        "Oops! I forgot to add three Chips in B4! Can you add them to the data frame please?"
      ]
    },
    {
      "cell_type": "code",
      "execution_count": 4,
      "metadata": {
        "id": "2qxH152yYJY5",
        "colab": {
          "base_uri": "https://localhost:8080/"
        },
        "outputId": "f9e9f9ba-aa66-48a8-801d-b78ded58a446"
      },
      "outputs": [
        {
          "output_type": "stream",
          "name": "stdout",
          "text": [
            "Updated Food Menu\n",
            "\n",
            "\n",
            "                        food  amount category  price\n",
            "menu_number                                         \n",
            "A1                Margherita     8.0    pizza   5.50\n",
            "A2                 Pepperoni     5.0    pizza   6.75\n",
            "A3                       NaN     NaN      NaN    NaN\n",
            "A4                       NaN     NaN      NaN    NaN\n",
            "B1                   Big Mac     6.0   burger   4.25\n",
            "B2           Halloumi Burger     3.0   burger   5.10\n",
            "B3                       NaN     NaN      NaN    NaN\n",
            "B4              Potato Chips     3.0    Snack   5.00\n",
            "C1                       NaN     NaN      NaN    NaN\n",
            "C2                     Gyoza     7.0  dim sum   5.00\n",
            "C3                     Ramen     4.0  dim sum   7.52\n",
            "C4                  Yakisoba     5.0  dim sum   8.23\n",
            "D1                       NaN     NaN      NaN    NaN\n",
            "D2              Glazed Donut     8.0   sweets   1.25\n",
            "D3                       NaN     NaN      NaN    NaN\n",
            "D4                       NaN     NaN      NaN    NaN\n"
          ]
        }
      ],
      "source": [
        "# Adding 'Chips' to the menu at B4, setting index to menu_number and repalacing the null values with '0'\n",
        "food_menu.loc[food_menu['menu_number'] == 'B4', ['food','amount', 'category', 'price']] = ['Potato Chips',3,'Snack', 5.0]\n",
        "food_menu.set_index('menu_number', inplace=True)\n",
        "print('Updated Food Menu')\n",
        "print('\\n')\n",
        "print(food_menu)\n"
      ]
    },
    {
      "cell_type": "markdown",
      "metadata": {
        "id": "mjBtI4adgwB2"
      },
      "source": [
        "## Section 2: Fast-Food Simulation Program"
      ]
    },
    {
      "cell_type": "markdown",
      "metadata": {
        "id": "721a9JbCgwB2"
      },
      "source": [
        "Once that you have generated your merged dataset, you will use the following code cell to write a small program with the following *four* options:\n",
        "\n",
        "1. **Admin login**: This option will simulate how the fast-food operator validates their credentials. When this option is selected, the user should be prompted to input their username and password. The username should be *admin* and the password should be any number smaller than *10* (including float and negative numbers). You should allow the user to try *four* times, if all of them are incorrect, then the program stops and the program cell needs to be run again.\n",
        "\n",
        "  * Note: Once that an admin has logged in, this option has to be disabled (i.e. the user cannot go back and select this option).\n",
        "\n",
        "2. **Add products**: This option can only be accessed once option 1 has been completed, otherwise the message *login first!* should be displayed and the program should go back to the main menu. In this option, the admin will be shown the list of foods and categories in the fast-food menu. Then, the admin can input a menu number  to add *one more product* for that certain menu slot. Afterwards, the program should show the new foods and go back to the main menu.\n",
        "  \n",
        "  * Note: Keep in mind that each space in the fast-food menu can hold a maximum of *eight* products (of the same food, of course). Also, you cannot add products in the empty menu slots. Therefore, your program should warn the admin in case that they want to add more products of a specific food in a menu slot, or if the admin wants to add products in an empty slot.\n",
        "\n",
        "3. **Buy food**: This option can be accessed by \"anyone\", so there is no need for a validation. If this option is selected, the user will be shown the list of foods, amounts and prices. Then, the user will be requested to select one food item based on the `menu_number`. Once the food is selected, your program must display the price of the selected product. Then, the user will be prompted to pay. To simulate this payment, you will ask the user for an input and write any positive number (if the user inputs something invalid, ask to try again). Then, your program must check this number against the price of the product to be bought. If the input number is larger than the price, then you should return *your change is...* and the subtraction of the payment minus the price of the snack. If the number is equal to the price, then you must return *thanks for paying*. Else, you should output *you need to pay more* and allow the user to write another amount. After the \"purchase\", you should output to the user the number of products left for that particular food (therefore, you need to update the data frame!). Notice that if there were zero products left for the food selected, then you must prompt this to the user in advance before letting them buy, and ask them to select another food.\n",
        "\n",
        "4. **Exit**"
      ]
    },
    {
      "cell_type": "code",
      "execution_count": 5,
      "metadata": {
        "id": "0Xefh4m7gwB2",
        "scrolled": false,
        "colab": {
          "base_uri": "https://localhost:8080/",
          "height": 1000
        },
        "outputId": "9b25e48e-d356-4996-f9e1-af0ef8b98c65"
      },
      "outputs": [
        {
          "name": "stdout",
          "output_type": "stream",
          "text": [
            "\n",
            "\n",
            "Welcome to the RGyUm Fast-Food Menu. Select an option:\n",
            "1. Log in (admin only)\n",
            "2. Add one more product of a certain food (admin only)\n",
            "3. Buy products\n",
            "4. Exit\n",
            "\n",
            "\n",
            "Enter Option:>> 1\n",
            "Enter Username:>> Admin\n",
            "Enter password:>> 3\n",
            ">> Access Granted\n",
            "\n",
            "\n",
            "Welcome to the RGyUm Fast-Food Menu. Select an option:\n",
            "1. Log in (admin only)\n",
            "2. Add one more product of a certain food (admin only)\n",
            "3. Buy products\n",
            "4. Exit\n",
            "\n",
            "\n",
            "Enter Option:>> 2\n",
            "Select operation:\n",
            " \n",
            "                                [1] Visualize Food Menu \n",
            " \n",
            "                                [2] Update Food menu \n",
            "1\n",
            "\n",
            "\n",
            "***Welcome to RGyUm fast-food!***\n",
            "\n",
            "\n",
            "***Admin Food Menu!***\n",
            "\n",
            "\n",
            "                        food  amount category   price\n",
            "menu_number                                          \n",
            "A1                Margherita     8.0    pizza   £5.50\n",
            "A2                 Pepperoni     5.0    pizza   £6.75\n",
            "A3                       NaN     NaN      NaN     NaN\n",
            "A4                       NaN     NaN      NaN     NaN\n",
            "B1                   Big Mac     6.0   burger   £4.25\n",
            "B2           Halloumi Burger     3.0   burger   £5.10\n",
            "B3                       NaN     NaN      NaN     NaN\n",
            "B4              Potato Chips     3.0    Snack   £5.00\n",
            "C1                       NaN     NaN      NaN     NaN\n",
            "C2                     Gyoza     7.0  dim sum   £5.00\n",
            "C3                     Ramen     4.0  dim sum   £7.52\n",
            "C4                  Yakisoba     5.0  dim sum   £8.23\n",
            "D1                       NaN     NaN      NaN     NaN\n",
            "D2              Glazed Donut     8.0   sweets   £1.25\n",
            "D3                       NaN     NaN      NaN     NaN\n",
            "D4                       NaN     NaN      NaN     NaN\n",
            "Select operation:\n",
            " \n",
            "                                [1] Visualize Food Menu \n",
            " \n",
            "                                [2] Update Food menu \n",
            "2\n",
            "\n",
            "\n",
            "Would you like to update Food Menu? (Y/N)Y\n",
            "\n",
            "\n",
            "Enter Menu Number:>>  D5\n",
            "\n",
            "\n",
            ">> This menu number is available!\n",
            "\n",
            "\n",
            "Enter Food:>> Rice\n",
            "Enter Amount:>>  8\n",
            "Enter Category:>> African\n",
            "Enter Price:>>  2\n",
            "Confirm Menu Number:>>  D5\n",
            ">> WARNING: You've reached the entry limit of 8 entries per product\n",
            "\n",
            "\n",
            ">> Menu Update was Successful!\n",
            "\n",
            "\n",
            ">> Updated Admin Food Menu\n",
            "\n",
            "\n",
            "                        food  amount category  price\n",
            "menu_number                                         \n",
            "A1                Margherita     8.0    pizza   5.50\n",
            "A2                 Pepperoni     5.0    pizza   6.75\n",
            "A3                       NaN     NaN      NaN    NaN\n",
            "A4                       NaN     NaN      NaN    NaN\n",
            "B1                   Big Mac     6.0   burger   4.25\n",
            "B2           Halloumi Burger     3.0   burger   5.10\n",
            "B3                       NaN     NaN      NaN    NaN\n",
            "B4              Potato Chips     3.0    Snack   5.00\n",
            "C1                       NaN     NaN      NaN    NaN\n",
            "C2                     Gyoza     7.0  dim sum   5.00\n",
            "C3                     Ramen     4.0  dim sum   7.52\n",
            "C4                  Yakisoba     5.0  dim sum   8.23\n",
            "D1                       NaN     NaN      NaN    NaN\n",
            "D2              Glazed Donut     8.0   sweets   1.25\n",
            "D3                       NaN     NaN      NaN    NaN\n",
            "D4                       NaN     NaN      NaN    NaN\n",
            "D5                      Rice     8.0  African   2.00\n",
            "\n",
            "\n",
            "Welcome to the RGyUm Fast-Food Menu. Select an option:\n",
            "1. Log in (admin only)\n",
            "2. Add one more product of a certain food (admin only)\n",
            "3. Buy products\n",
            "4. Exit\n",
            "\n",
            "\n",
            "Enter Option:>> 3\n",
            "\n",
            "\n",
            "**Select menu number and press enter to select an item**\n",
            "**Enter 'done' to finish your order and tabulate your bill**\n",
            "**Enter 'exit' to cancel your orders**\n",
            "\n",
            "\n",
            "***WELCOME TO THE RGyUM FAST FOOD MENU***\n",
            "                        food  amount category  price\n",
            "menu_number                                         \n",
            "A1                Margherita     8.0    pizza   5.50\n",
            "A2                 Pepperoni     5.0    pizza   6.75\n",
            "B1                   Big Mac     6.0   burger   4.25\n",
            "B2           Halloumi Burger     3.0   burger   5.10\n",
            "B4              Potato Chips     3.0    Snack   5.00\n",
            "C2                     Gyoza     7.0  dim sum   5.00\n",
            "C3                     Ramen     4.0  dim sum   7.52\n",
            "C4                  Yakisoba     5.0  dim sum   8.23\n",
            "D2              Glazed Donut     8.0   sweets   1.25\n",
            "D5                      Rice     8.0  African   2.00\n",
            "\n",
            "\n",
            "Enter Menu Number to select item, Enter \"done\" to make payment and \"exit\" to cancel transaction:>> D5\n"
          ]
        },
        {
          "output_type": "stream",
          "name": "stderr",
          "text": [
            "<ipython-input-5-cbd043f0a9f4>:139: SettingWithCopyWarning: \n",
            "A value is trying to be set on a copy of a slice from a DataFrame\n",
            "\n",
            "See the caveats in the documentation: https://pandas.pydata.org/pandas-docs/stable/user_guide/indexing.html#returning-a-view-versus-a-copy\n",
            "  food_menu.amount[order] = avail_amount\n"
          ]
        },
        {
          "name": "stdout",
          "output_type": "stream",
          "text": [
            "\n",
            "\n",
            ">> You've selected Rice! That would be £2.00\n",
            ">> 7 Items are available now for ordering.\n",
            ">> You can now make payment OR Add more item\n",
            "\n",
            "\n",
            "\n",
            "\n",
            "**Select menu number and press enter to select an item**\n",
            "**Enter 'done' to finish your order and tabulate your bill**\n",
            "**Enter 'exit' to cancel your orders**\n",
            "\n",
            "\n",
            "***WELCOME TO THE RGyUM FAST FOOD MENU***\n",
            "                        food  amount category  price\n",
            "menu_number                                         \n",
            "A1                Margherita     8.0    pizza   5.50\n",
            "A2                 Pepperoni     5.0    pizza   6.75\n",
            "B1                   Big Mac     6.0   burger   4.25\n",
            "B2           Halloumi Burger     3.0   burger   5.10\n",
            "B4              Potato Chips     3.0    Snack   5.00\n",
            "C2                     Gyoza     7.0  dim sum   5.00\n",
            "C3                     Ramen     4.0  dim sum   7.52\n",
            "C4                  Yakisoba     5.0  dim sum   8.23\n",
            "D2              Glazed Donut     8.0   sweets   1.25\n",
            "D5                      Rice     7.0  African   2.00\n",
            "\n",
            "\n",
            "Enter Menu Number to select item, Enter \"done\" to make payment and \"exit\" to cancel transaction:>> D2\n"
          ]
        },
        {
          "output_type": "stream",
          "name": "stderr",
          "text": [
            "<ipython-input-5-cbd043f0a9f4>:139: SettingWithCopyWarning: \n",
            "A value is trying to be set on a copy of a slice from a DataFrame\n",
            "\n",
            "See the caveats in the documentation: https://pandas.pydata.org/pandas-docs/stable/user_guide/indexing.html#returning-a-view-versus-a-copy\n",
            "  food_menu.amount[order] = avail_amount\n"
          ]
        },
        {
          "output_type": "stream",
          "name": "stdout",
          "text": [
            "\n",
            "\n",
            ">> You've selected Glazed Donut! That would be £1.25\n",
            ">> 7 Items are available now for ordering.\n",
            ">> You can now make payment OR Add more item\n",
            "\n",
            "\n",
            "\n",
            "\n",
            "**Select menu number and press enter to select an item**\n",
            "**Enter 'done' to finish your order and tabulate your bill**\n",
            "**Enter 'exit' to cancel your orders**\n",
            "\n",
            "\n",
            "***WELCOME TO THE RGyUM FAST FOOD MENU***\n",
            "                        food  amount category  price\n",
            "menu_number                                         \n",
            "A1                Margherita     8.0    pizza   5.50\n",
            "A2                 Pepperoni     5.0    pizza   6.75\n",
            "B1                   Big Mac     6.0   burger   4.25\n",
            "B2           Halloumi Burger     3.0   burger   5.10\n",
            "B4              Potato Chips     3.0    Snack   5.00\n",
            "C2                     Gyoza     7.0  dim sum   5.00\n",
            "C3                     Ramen     4.0  dim sum   7.52\n",
            "C4                  Yakisoba     5.0  dim sum   8.23\n",
            "D2              Glazed Donut     7.0   sweets   1.25\n",
            "D5                      Rice     7.0  African   2.00\n",
            "\n",
            "\n",
            "Enter Menu Number to select item, Enter \"done\" to make payment and \"exit\" to cancel transaction:>> done\n",
            "\n",
            "\n",
            ">> Your total bill is £3.25\n",
            "\n",
            "\n",
            "Enter Payment:>> 5\n",
            "\n",
            "\n",
            ">> Your total order is £3.25 Change is £1.75\n",
            ">> Trasaction Completed, Thanks for buying!\n",
            "\n",
            "\n",
            "Welcome to the RGyUm Fast-Food Menu. Select an option:\n",
            "1. Log in (admin only)\n",
            "2. Add one more product of a certain food (admin only)\n",
            "3. Buy products\n",
            "4. Exit\n",
            "\n",
            "\n",
            "Enter Option:>> exit\n",
            ">> Invalid input. Try again\n",
            ">> Number of incorrect Entries:  1\n",
            "\n",
            "\n",
            "Welcome to the RGyUm Fast-Food Menu. Select an option:\n",
            "1. Log in (admin only)\n",
            "2. Add one more product of a certain food (admin only)\n",
            "3. Buy products\n",
            "4. Exit\n",
            "\n",
            "\n",
            "Enter Option:>> 4\n",
            "\n",
            "\n",
            ">> Good Bye\n"
          ]
        },
        {
          "output_type": "error",
          "ename": "SystemExit",
          "evalue": "ignored",
          "traceback": [
            "An exception has occurred, use %tb to see the full traceback.\n",
            "\u001b[0;31mSystemExit\u001b[0m\n"
          ]
        },
        {
          "output_type": "stream",
          "name": "stderr",
          "text": [
            "/usr/local/lib/python3.8/dist-packages/IPython/core/interactiveshell.py:3334: UserWarning: To exit: use 'exit', 'quit', or Ctrl-D.\n",
            "  warn(\"To exit: use 'exit', 'quit', or Ctrl-D.\", stacklevel=1)\n"
          ]
        }
      ],
      "source": [
        "# Setting up the operation menu options\n",
        "counter = 0       \n",
        "flag = 0\n",
        "memory = []\n",
        "loop = True\n",
        "while loop == True and counter<5:\n",
        "    print('\\n')\n",
        "    print('Welcome to the RGyUm Fast-Food Menu. Select an option:') \n",
        "    print('1. Log in (admin only)')\n",
        "    print('2. Add one more product of a certain food (admin only)')\n",
        "    print('3. Buy products')\n",
        "    print('4. Exit')\n",
        "    print('\\n')\n",
        "#------------------------------------------------------------------------------\n",
        "  # Admin Access Control\n",
        "    opt = input('Enter Option:>> ')\n",
        "    try:                       \n",
        "        int(opt)\n",
        "        memory.append(opt)\n",
        "        if opt == \"1\":        \n",
        "            loop2 = True\n",
        "            while loop2 == True:\n",
        "                username = input('Enter Username:>> ')\n",
        "                if flag==0 and username == \"Admin\"  and len(username)<10 and ' ' not in username:\n",
        "                    numbersinname = False                   \n",
        "                    for dig in username:\n",
        "                        if dig.isdigit()==True:\n",
        "                            numbersinname = True\n",
        "                    if numbersinname == False:    \n",
        "                        pwd =float(input(\"Enter password:>> \"))\n",
        "                        if pwd < 10:\n",
        "                            print(\">> Access Granted\") \n",
        "                            Flag = 1\n",
        "                            loop2 = False                           \n",
        "                        else:                          \n",
        "                            print('>> Invalid Password, Enter Password under 10')\n",
        "                            counter+=1\n",
        "                        if  counter == 4:\n",
        "                            print(\">> You've reached your limit, Contact Support\")\n",
        "                            print('\\n')\n",
        " #----------------------------------------------------------------------------                     \n",
        "  # Admin food menu operations\n",
        "\n",
        "        elif opt ==\"2\":# Extracting the menu from the pandas DataFrame using iloc\n",
        "            loop3 = True # and generating the menu table for a prospective customer\n",
        "            while loop3 == True:\n",
        "                operation = input('''Select operation:\\n \n",
        "                                [1] Visualize Food Menu \\n \n",
        "                                [2] Update Food menu \\n''')\n",
        "                if  operation == '1':                               \n",
        "                    food_menu.iloc[:18,0:4] \n",
        "                    total_bill = 0.0                  \n",
        "                    print('\\n')            \n",
        "                    print(\"***Welcome to RGyUm fast-food!***\") \n",
        "                    print('\\n')\n",
        "                    print(\"***Admin Food Menu!***\")\n",
        "                    print('\\n')     \n",
        "                    print(food_menu.to_string(justify='right', header=True,\\\n",
        "                                      formatters={ 'price':'  £{:.2f}'.format})) \n",
        "                    continue\n",
        "                  #-----------------------------                                                  \n",
        "                elif operation == '2':\n",
        "                    print('\\n')\n",
        "                    menu_update = input('Would you like to update Food Menu? (Y/N)')\n",
        "                    if menu_update.upper() == 'Y':\n",
        "                        print('\\n')\n",
        "                        menu_number = input('Enter Menu Number:>>  ')\n",
        "                        print('\\n')\n",
        "                        index_list = food_menu.index.values.tolist()\n",
        "                        if menu_number in index_list:\n",
        "                            print(\">> This Menu number alreay exist!\")\n",
        "                            break\n",
        "                        else:\n",
        "                            print(\">> This menu number is available!\")\n",
        "                            print('\\n')\n",
        "                            for menu_number in food_menu.index:\n",
        "                                food_menu.loc[input('Confirm Menu Number:>>  ')] = [str(input('Enter Food:>> ')),\n",
        "                                                                                       float(input('Enter Amount:>>  ')),\n",
        "                                                                                    str(input('Enter Category:>> ')), \n",
        "                                                                                  float(input('Enter Price:>>  '))]\n",
        "                                slot_entry = int(food_menu['amount'].loc[menu_number])\n",
        "                                if slot_entry < 8:   \n",
        "                                    print('Slot Limit is witin Range of 8 entries per product')\n",
        "                                    print('\\n')             \n",
        "                                    print('>> Menu Update was Successful!')\n",
        "                                    print('\\n')\n",
        "                                    print('>> Updated Admin Food Menu')\n",
        "                                    print('\\n')     \n",
        "                                    print(food_menu)\n",
        "                                    break\n",
        "                                elif slot_entry ==8:\n",
        "                                    print(\">> WARNING: You've reached the entry limit of 8 entries per product\")\n",
        "                                    print('\\n')             \n",
        "                                    print('>> Menu Update was Successful!')\n",
        "                                    print('\\n')\n",
        "                                    print('>> Updated Admin Food Menu')\n",
        "                                    print('\\n')     \n",
        "                                    print(food_menu)\n",
        "                                    break\n",
        "                                else:\n",
        "                                    print('>> WARNING: You have Exceeded the slot limit of 8 entries per product')\n",
        "                                    print('\\n')             \n",
        "                                    print('>> Menu Update was Successful!')\n",
        "                                    print('\\n')\n",
        "                                    print('>> Updated Admin Food Menu')\n",
        "                                    print('\\n')     \n",
        "                                    print(food_menu)\n",
        "                                    break                           \n",
        "                    elif menu_update.upper() == 'N':\n",
        "                        print('\\n')\n",
        "                        print(food_menu)\n",
        "                        print('\\n')\n",
        "                    flag = 2\n",
        "                    loop3 = False \n",
        "#-----------------------------------------------------------------------------          \n",
        " # Access to Menu  and food item selection      \n",
        "        elif opt ==\"3\":    # Enabling prospective customer to access the menu and-\n",
        "            loop4 = True               # make selection of desired food item\n",
        "            while loop4 == True:\n",
        "                def order():\n",
        "                    order = input()\n",
        "                    return order           \n",
        "                print('\\n')\n",
        "                print(\"**Select menu number and press enter to select an item**\")\n",
        "                print(\"**Enter 'done' to finish your order and tabulate your bill**\")\n",
        "                print(\"**Enter 'exit' to cancel your orders**\")  \n",
        "                print('\\n')\n",
        "                print('***WELCOME TO THE RGyUM FAST FOOD MENU***')\n",
        "                customer_menu = food_menu.dropna() \n",
        "                print(customer_menu)\n",
        "                print('\\n')                                 \n",
        "#----------------------------------------------------------------------------         \n",
        "                order = input('Enter Menu Number to select item, Enter \"done\" to make payment and \"exit\" to cancel transaction:>> ')                \n",
        "                \n",
        "                if order in food_menu.index:\n",
        "                    item = food_menu.loc[order, \"food\"]     # Get the respective items             \n",
        "                    price = food_menu.loc[order, \"price\"] # by indexing order input             \n",
        "                    avail_amount = int(food_menu['amount'].loc[order]) - 1 \n",
        "                    food_menu.amount[order] = avail_amount\n",
        "                    total_bill += price \n",
        "                    print('\\n')                                \n",
        "                    print(\">> You've selected {}! That would be £{:.2f}\".format(item, price))\n",
        "                    print(f'>> {avail_amount} Items are available now for ordering.') \n",
        "                    print(\">> You can now make payment OR Add more item\")\n",
        "                    print('\\n')             \n",
        "                    continue\n",
        "                elif order == 'exit':\n",
        "                    print('>> Thanks for visiting') \n",
        "                    print('\\n')                                     \n",
        "                elif order == 'done':\n",
        "                    print('\\n')\n",
        "                    print(\">> Your total bill is £{:.2f}\".format(total_bill))\n",
        "                    print('\\n')\n",
        "                elif avail_amount == 0:\n",
        "                    print('>> Item is Out of Stock!')\n",
        "                    break\n",
        "                elif avail_amount <= 2:\n",
        "                    print('>> Item is Low on Stock, re-stock food')                                 \n",
        "                else:               \n",
        "                    print('>> Stock Available!')\n",
        "                    print('\\n')                                                                     \n",
        "#----------------------------------------------------------------------------             \n",
        " # Customer Payment Simulation\n",
        "                make_payment = float(input('Enter Payment:>> '))\n",
        "                \n",
        "                if make_payment > total_bill:\n",
        "                    change = make_payment - total_bill\n",
        "                    print('\\n')\n",
        "                    print(f\">> Your total order is £{total_bill} Change is £{change}\")                                                       \n",
        "                    print(\">> Trasaction Completed, Thanks for buying!\")  \n",
        "                    break     \n",
        "                elif make_payment < total_bill:\n",
        "                    print('>> Invalid Transaction: Try Again!') \n",
        "                    break  \n",
        "                elif make_payment == total_bill:\n",
        "                    print(\">> Transaction Completed, Thanks for buying!\")\n",
        "                    break\n",
        "                else:\n",
        "                    print(\">> Place Your Order\")\n",
        "                    print('\\n') \n",
        "                    flag = 3\n",
        "                    loop4 = False\n",
        "#----------------------------------------------------------------------------\n",
        "        elif opt ==\"4\":\n",
        "            loop5 = True            # The Exit option to shutdown the program\n",
        "            while loop5 == True:\n",
        "                print('\\n')\n",
        "                print(\">> Good Bye\")\n",
        "                Flag = 4\n",
        "                raise SystemExit\n",
        "    except ValueError:\n",
        "        print(\">> Invalid input. Try again\")\n",
        "        counter = counter+1            \n",
        "        print(\">> Number of incorrect Entries: \", counter)\n",
        "\n"
      ]
    },
    {
      "cell_type": "markdown",
      "metadata": {
        "id": "0G3QA8XNgwB2"
      },
      "source": [
        "Keep in mind that I will test your program as many times as I want, with the purpose of \"crashing it\"! So, be sure you are ready to address all possible input fails! Always check for the correct input, and verify that all error messages are shown correctly. Moreover, ensure that I can execute the options of the program in any order I want!"
      ]
    }
  ],
  "metadata": {
    "colab": {
      "provenance": [],
      "toc_visible": true,
      "include_colab_link": true
    },
    "kernelspec": {
      "display_name": "Python 3 (ipykernel)",
      "language": "python",
      "name": "python3"
    },
    "language_info": {
      "codemirror_mode": {
        "name": "ipython",
        "version": 3
      },
      "file_extension": ".py",
      "mimetype": "text/x-python",
      "name": "python",
      "nbconvert_exporter": "python",
      "pygments_lexer": "ipython3",
      "version": "3.9.12"
    },
    "polyglot_notebook": {
      "kernelInfo": {
        "defaultKernelName": "csharp",
        "items": [
          {
            "aliases": [
              "c#",
              "C#"
            ],
            "languageName": "C#",
            "name": "csharp"
          },
          {
            "aliases": [
              "js"
            ],
            "languageName": "JavaScript",
            "name": "javascript"
          },
          {
            "aliases": [],
            "name": "webview"
          },
          {
            "aliases": [
              "frontend"
            ],
            "languageName": null,
            "name": "vscode"
          }
        ]
      }
    },
    "vscode": {
      "interpreter": {
        "hash": "27ce92cfbf1075c74d439ab60ca02431ede1daef6bc62f73e1388b40f2ee3a21"
      }
    }
  },
  "nbformat": 4,
  "nbformat_minor": 0
}