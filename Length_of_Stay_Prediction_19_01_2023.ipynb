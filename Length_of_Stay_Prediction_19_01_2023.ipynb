{
  "cells": [
    {
      "cell_type": "markdown",
      "metadata": {
        "id": "view-in-github",
        "colab_type": "text"
      },
      "source": [
        "<a href=\"https://colab.research.google.com/github/Enoch-Onwuka/ML_Casestudies/blob/master/Length_of_Stay_Prediction_19_01_2023.ipynb\" target=\"_parent\"><img src=\"https://colab.research.google.com/assets/colab-badge.svg\" alt=\"Open In Colab\"/></a>"
      ]
    },
    {
      "cell_type": "markdown",
      "metadata": {
        "id": "QmmAY9ANJdiZ"
      },
      "source": [
        "# **Hospital Length of Stay (LOS) Prediction**\n"
      ]
    },
    {
      "cell_type": "markdown",
      "metadata": {
        "id": "pG7RImq5Jnzy"
      },
      "source": [
        "## **Context:**\n",
        "\n",
        "Hospital management is a vital area that gained a lot of attention during the COVID-19 pandemic. **Inefficient distribution of resources like beds, ventilators might lead to a lot of complications**. However, this can be mitigated by **predicting the length of stay (LOS) of a patient before getting admitted**. Once this is determined, the hospital can plan a suitable treatment, resources, and staff to reduce the Length of Stay and increase the chances of recovery. The rooms and bed can also be planned in accordance with the intended solution.\n",
        "\n",
        "**Hospitals has been incurring a lot of losses in revenue and life due to its inefficient management system.** They have been unsuccessful in allocating pieces of equipment, beds, and hospital staff fairly. **A system that could estimate the length of stay (LOS) of a patient can solve this problem to a great extent.**"
      ]
    },
    {
      "cell_type": "markdown",
      "metadata": {
        "id": "jDFFGBh5JuM_"
      },
      "source": [
        "## **Objective:**\n",
        "\n",
        "To analyze the data, find out **what factors that mostly affect patients length of stay, LOS and come up with a machine learning model which can predict the Length of Stay of a patient** using the data available during admission and after running a few tests. Also, **bring about useful insights and policies from the data, which can help the hospital to improve their health care infrastructure and revenue.**"
      ]
    },
    {
      "cell_type": "markdown",
      "metadata": {
        "id": "BY6qQyYnn4av"
      },
      "source": [
        "## **Data Dictionary:**\n",
        "\n",
        "The data contains various information recorded during the time of admission of the patient. It only contains **records of patients who were admitted to the hospital.** The detailed data dictionary is given below:\n",
        "\t\t\t\n",
        "* **case_id**:\t            Case_ID registered in Hospital\t\t\t\n",
        "* **Hospital_code**:\t    Unique code for the Hospital\t\t\t\n",
        "* **Hospital_type_code**:\tUnique code for the type of Hospital\t\t\n",
        "* **City_Code_Hospital**:\tCity Code of the Hospital\t\t\t\n",
        "* **Hospital_region_code**:\tRegion Code of the Hospital\t\t\t\n",
        "* **Available Extra Rooms in Hospital**:\tNumber of Extra rooms available in the Hospital\t\n",
        "* **Department**:\t        Department overlooking the case\t\t\n",
        "* **Ward_Type**:\t        Code for the Ward type\t\t\t\n",
        "* **Ward_Facility_Code**:\tCode for the Ward Facility\t\t\t\n",
        "* **Bed Grade**:\t        Condition of Bed in the Ward\t\t\t\n",
        "* **Patientid**:\t        Unique Patient Id\t\t\t\t\n",
        "* **City_Code_Patient**:\tCity Code for the patient\t\t\t\n",
        "* **Type of Admission**:\tAdmission Type registered by the Hospital\t\n",
        "* **Severity of Illness**:\tSeverity of the illness recorded at the time of admission\n",
        "* **Visitors with Patient**:Number of Visitors with the patient\t\t\n",
        "* **Age**:\t                Age of the patient\t\t\t\t\n",
        "* **Admission_Deposit**:\tDeposit at the Admission Time\t\t\t\n",
        "* **Stay**:\t                Stay Days by the patient\t\t\t\n",
        "\n"
      ]
    },
    {
      "cell_type": "markdown",
      "metadata": {
        "id": "1HwCLXEdleNm"
      },
      "source": [
        "## **Approach to solve the problem:**\n",
        "\n",
        "1. Import the necessary libraries.\n",
        "2. Read the dataset and get an overview.\n",
        "3. Exploratory data analysis. a.Univariate b.Bivariate.\n",
        "4. Data preprocessing if any.\n",
        "5. Define the performance metric and build ML models\n",
        "6. Checking for assumptions\n",
        "7. Compare models and determine the best one.\n",
        "8. Observations and business insights."
      ]
    },
    {
      "cell_type": "markdown",
      "metadata": {
        "id": "vh6pbSWLJ7pT"
      },
      "source": [
        "## **Importing Libraries**"
      ]
    },
    {
      "cell_type": "code",
      "execution_count": null,
      "metadata": {
        "id": "tu98q-R-KFfP"
      },
      "outputs": [],
      "source": [
        "\n",
        "\n",
        "# importing the required libraries\n",
        "%matplotlib inline\n",
        "import numpy as np\n",
        "import pandas as pd\n",
        "import seaborn as sns\n",
        "import matplotlib.pyplot as plt\n",
        "from numpy import mean\n",
        "\n",
        "# To help with model building\n",
        "from sklearn.linear_model import LogisticRegression\n",
        "\n",
        "# To build classification models \n",
        "from sklearn.naive_bayes import GaussianNB\n",
        "from sklearn.metrics import f1_score\n",
        "from sklearn.tree import DecisionTreeClassifier\n",
        "from sklearn.ensemble import RandomForestClassifier\n",
        "from sklearn.linear_model import LogisticRegression\n",
        "from sklearn.datasets import make_classification\n",
        "from sklearn.model_selection import train_test_split\n",
        "from sklearn.model_selection import KFold\n",
        "from sklearn.model_selection import cross_val_score\n",
        "from sklearn.model_selection import RepeatedStratifiedKFold\n",
        "from sklearn import model_selection\n",
        "from sklearn import metrics\n",
        "from sklearn.metrics import confusion_matrix,classification_report,accuracy_score\n",
        "from sklearn.preprocessing import StandardScaler,LabelEncoder\n",
        "from sklearn.model_selection import GridSearchCV\n",
        "from xgboost import XGBClassifier\n",
        "import pickle\n",
        "\n",
        "# Removes the limit for the number of displayed columns\n",
        "pd.set_option(\"display.max_columns\", None)\n",
        "# Sets the limit for the number of displayed rows\n",
        "pd.set_option(\"display.max_rows\", 200)\n",
        "# Setting the precision of floating numbers to 5 decimal points\n",
        "pd.set_option(\"display.float_format\", lambda x: \"%.5f\" % x)\n",
        "\n",
        "#for tuning the model\n",
        "from sklearn.model_selection import GridSearchCV\n",
        "\n",
        "# To tune model, get different metric scores, and split data\n",
        "from sklearn.metrics import (\n",
        "    f1_score,\n",
        "    accuracy_score,\n",
        "    recall_score,\n",
        "    precision_score,\n",
        "    confusion_matrix,\n",
        "    roc_auc_score,\n",
        "    classification_report,\n",
        "    precision_recall_curve\n",
        ")\n",
        "\n",
        "\n",
        "import warnings\n",
        "warnings.filterwarnings(\"ignore\")"
      ]
    },
    {
      "cell_type": "code",
      "execution_count": null,
      "metadata": {
        "id": "VvautAjCU6Im"
      },
      "outputs": [],
      "source": [
        "#read the healthcare dataset file\n",
        "data=pd.read_csv(r'/content/data.csv')"
      ]
    },
    {
      "cell_type": "code",
      "execution_count": null,
      "metadata": {
        "id": "HAW7LbQGDzc_"
      },
      "outputs": [],
      "source": [
        "# copying data to another variable to avoid any changes to original data\n",
        "same_data = data.copy()"
      ]
    },
    {
      "cell_type": "markdown",
      "metadata": {
        "id": "uUEuNqtbPVT0"
      },
      "source": [
        "## **Data Overview**"
      ]
    },
    {
      "cell_type": "code",
      "execution_count": null,
      "metadata": {
        "id": "1WBP3qyFFlAM",
        "colab": {
          "base_uri": "https://localhost:8080/"
        },
        "outputId": "8619ae1e-0c8f-401f-d695-8c1406c51210"
      },
      "outputs": [
        {
          "output_type": "execute_result",
          "data": {
            "text/plain": [
              "   case_id  Hospital_code Hospital_type_code  City_Code_Hospital  \\\n",
              "0        1              8                  c                   3   \n",
              "1        2              2                  c                   5   \n",
              "2        3             10                  e                   1   \n",
              "3        4             26                  b                   2   \n",
              "4        5             26                  b                   2   \n",
              "\n",
              "  Hospital_region_code  Available Extra Rooms in Hospital    Department  \\\n",
              "0                    Z                                  3  radiotherapy   \n",
              "1                    Z                                  2  radiotherapy   \n",
              "2                    X                                  2    anesthesia   \n",
              "3                    Y                                  2  radiotherapy   \n",
              "4                    Y                                  2  radiotherapy   \n",
              "\n",
              "  Ward_Type Ward_Facility_Code  Bed Grade  patientid  City_Code_Patient  \\\n",
              "0         R                  F    2.00000      31397            7.00000   \n",
              "1         S                  F    2.00000      31397            7.00000   \n",
              "2         S                  E    2.00000      31397            7.00000   \n",
              "3         R                  D    2.00000      31397            7.00000   \n",
              "4         S                  D    2.00000      31397            7.00000   \n",
              "\n",
              "  Type of Admission Severity of Illness  Visitors with Patient    Age  \\\n",
              "0         Emergency             Extreme                2.00000  51-60   \n",
              "1            Trauma             Extreme                2.00000  51-60   \n",
              "2            Trauma             Extreme                2.00000  51-60   \n",
              "3            Trauma             Extreme                2.00000  51-60   \n",
              "4            Trauma             Extreme                2.00000  51-60   \n",
              "\n",
              "   Admission_Deposit   Stay  \n",
              "0         4911.00000   0-10  \n",
              "1         5954.00000  41-50  \n",
              "2         4745.00000  31-40  \n",
              "3         7272.00000  41-50  \n",
              "4         5558.00000  41-50  "
            ],
            "text/html": [
              "\n",
              "  <div id=\"df-08e76e91-33d9-4c7e-8a62-704ca4849a78\">\n",
              "    <div class=\"colab-df-container\">\n",
              "      <div>\n",
              "<style scoped>\n",
              "    .dataframe tbody tr th:only-of-type {\n",
              "        vertical-align: middle;\n",
              "    }\n",
              "\n",
              "    .dataframe tbody tr th {\n",
              "        vertical-align: top;\n",
              "    }\n",
              "\n",
              "    .dataframe thead th {\n",
              "        text-align: right;\n",
              "    }\n",
              "</style>\n",
              "<table border=\"1\" class=\"dataframe\">\n",
              "  <thead>\n",
              "    <tr style=\"text-align: right;\">\n",
              "      <th></th>\n",
              "      <th>case_id</th>\n",
              "      <th>Hospital_code</th>\n",
              "      <th>Hospital_type_code</th>\n",
              "      <th>City_Code_Hospital</th>\n",
              "      <th>Hospital_region_code</th>\n",
              "      <th>Available Extra Rooms in Hospital</th>\n",
              "      <th>Department</th>\n",
              "      <th>Ward_Type</th>\n",
              "      <th>Ward_Facility_Code</th>\n",
              "      <th>Bed Grade</th>\n",
              "      <th>patientid</th>\n",
              "      <th>City_Code_Patient</th>\n",
              "      <th>Type of Admission</th>\n",
              "      <th>Severity of Illness</th>\n",
              "      <th>Visitors with Patient</th>\n",
              "      <th>Age</th>\n",
              "      <th>Admission_Deposit</th>\n",
              "      <th>Stay</th>\n",
              "    </tr>\n",
              "  </thead>\n",
              "  <tbody>\n",
              "    <tr>\n",
              "      <th>0</th>\n",
              "      <td>1</td>\n",
              "      <td>8</td>\n",
              "      <td>c</td>\n",
              "      <td>3</td>\n",
              "      <td>Z</td>\n",
              "      <td>3</td>\n",
              "      <td>radiotherapy</td>\n",
              "      <td>R</td>\n",
              "      <td>F</td>\n",
              "      <td>2.00000</td>\n",
              "      <td>31397</td>\n",
              "      <td>7.00000</td>\n",
              "      <td>Emergency</td>\n",
              "      <td>Extreme</td>\n",
              "      <td>2.00000</td>\n",
              "      <td>51-60</td>\n",
              "      <td>4911.00000</td>\n",
              "      <td>0-10</td>\n",
              "    </tr>\n",
              "    <tr>\n",
              "      <th>1</th>\n",
              "      <td>2</td>\n",
              "      <td>2</td>\n",
              "      <td>c</td>\n",
              "      <td>5</td>\n",
              "      <td>Z</td>\n",
              "      <td>2</td>\n",
              "      <td>radiotherapy</td>\n",
              "      <td>S</td>\n",
              "      <td>F</td>\n",
              "      <td>2.00000</td>\n",
              "      <td>31397</td>\n",
              "      <td>7.00000</td>\n",
              "      <td>Trauma</td>\n",
              "      <td>Extreme</td>\n",
              "      <td>2.00000</td>\n",
              "      <td>51-60</td>\n",
              "      <td>5954.00000</td>\n",
              "      <td>41-50</td>\n",
              "    </tr>\n",
              "    <tr>\n",
              "      <th>2</th>\n",
              "      <td>3</td>\n",
              "      <td>10</td>\n",
              "      <td>e</td>\n",
              "      <td>1</td>\n",
              "      <td>X</td>\n",
              "      <td>2</td>\n",
              "      <td>anesthesia</td>\n",
              "      <td>S</td>\n",
              "      <td>E</td>\n",
              "      <td>2.00000</td>\n",
              "      <td>31397</td>\n",
              "      <td>7.00000</td>\n",
              "      <td>Trauma</td>\n",
              "      <td>Extreme</td>\n",
              "      <td>2.00000</td>\n",
              "      <td>51-60</td>\n",
              "      <td>4745.00000</td>\n",
              "      <td>31-40</td>\n",
              "    </tr>\n",
              "    <tr>\n",
              "      <th>3</th>\n",
              "      <td>4</td>\n",
              "      <td>26</td>\n",
              "      <td>b</td>\n",
              "      <td>2</td>\n",
              "      <td>Y</td>\n",
              "      <td>2</td>\n",
              "      <td>radiotherapy</td>\n",
              "      <td>R</td>\n",
              "      <td>D</td>\n",
              "      <td>2.00000</td>\n",
              "      <td>31397</td>\n",
              "      <td>7.00000</td>\n",
              "      <td>Trauma</td>\n",
              "      <td>Extreme</td>\n",
              "      <td>2.00000</td>\n",
              "      <td>51-60</td>\n",
              "      <td>7272.00000</td>\n",
              "      <td>41-50</td>\n",
              "    </tr>\n",
              "    <tr>\n",
              "      <th>4</th>\n",
              "      <td>5</td>\n",
              "      <td>26</td>\n",
              "      <td>b</td>\n",
              "      <td>2</td>\n",
              "      <td>Y</td>\n",
              "      <td>2</td>\n",
              "      <td>radiotherapy</td>\n",
              "      <td>S</td>\n",
              "      <td>D</td>\n",
              "      <td>2.00000</td>\n",
              "      <td>31397</td>\n",
              "      <td>7.00000</td>\n",
              "      <td>Trauma</td>\n",
              "      <td>Extreme</td>\n",
              "      <td>2.00000</td>\n",
              "      <td>51-60</td>\n",
              "      <td>5558.00000</td>\n",
              "      <td>41-50</td>\n",
              "    </tr>\n",
              "  </tbody>\n",
              "</table>\n",
              "</div>\n",
              "      <button class=\"colab-df-convert\" onclick=\"convertToInteractive('df-08e76e91-33d9-4c7e-8a62-704ca4849a78')\"\n",
              "              title=\"Convert this dataframe to an interactive table.\"\n",
              "              style=\"display:none;\">\n",
              "        \n",
              "  <svg xmlns=\"http://www.w3.org/2000/svg\" height=\"24px\"viewBox=\"0 0 24 24\"\n",
              "       width=\"24px\">\n",
              "    <path d=\"M0 0h24v24H0V0z\" fill=\"none\"/>\n",
              "    <path d=\"M18.56 5.44l.94 2.06.94-2.06 2.06-.94-2.06-.94-.94-2.06-.94 2.06-2.06.94zm-11 1L8.5 8.5l.94-2.06 2.06-.94-2.06-.94L8.5 2.5l-.94 2.06-2.06.94zm10 10l.94 2.06.94-2.06 2.06-.94-2.06-.94-.94-2.06-.94 2.06-2.06.94z\"/><path d=\"M17.41 7.96l-1.37-1.37c-.4-.4-.92-.59-1.43-.59-.52 0-1.04.2-1.43.59L10.3 9.45l-7.72 7.72c-.78.78-.78 2.05 0 2.83L4 21.41c.39.39.9.59 1.41.59.51 0 1.02-.2 1.41-.59l7.78-7.78 2.81-2.81c.8-.78.8-2.07 0-2.86zM5.41 20L4 18.59l7.72-7.72 1.47 1.35L5.41 20z\"/>\n",
              "  </svg>\n",
              "      </button>\n",
              "      \n",
              "  <style>\n",
              "    .colab-df-container {\n",
              "      display:flex;\n",
              "      flex-wrap:wrap;\n",
              "      gap: 12px;\n",
              "    }\n",
              "\n",
              "    .colab-df-convert {\n",
              "      background-color: #E8F0FE;\n",
              "      border: none;\n",
              "      border-radius: 50%;\n",
              "      cursor: pointer;\n",
              "      display: none;\n",
              "      fill: #1967D2;\n",
              "      height: 32px;\n",
              "      padding: 0 0 0 0;\n",
              "      width: 32px;\n",
              "    }\n",
              "\n",
              "    .colab-df-convert:hover {\n",
              "      background-color: #E2EBFA;\n",
              "      box-shadow: 0px 1px 2px rgba(60, 64, 67, 0.3), 0px 1px 3px 1px rgba(60, 64, 67, 0.15);\n",
              "      fill: #174EA6;\n",
              "    }\n",
              "\n",
              "    [theme=dark] .colab-df-convert {\n",
              "      background-color: #3B4455;\n",
              "      fill: #D2E3FC;\n",
              "    }\n",
              "\n",
              "    [theme=dark] .colab-df-convert:hover {\n",
              "      background-color: #434B5C;\n",
              "      box-shadow: 0px 1px 3px 1px rgba(0, 0, 0, 0.15);\n",
              "      filter: drop-shadow(0px 1px 2px rgba(0, 0, 0, 0.3));\n",
              "      fill: #FFFFFF;\n",
              "    }\n",
              "  </style>\n",
              "\n",
              "      <script>\n",
              "        const buttonEl =\n",
              "          document.querySelector('#df-08e76e91-33d9-4c7e-8a62-704ca4849a78 button.colab-df-convert');\n",
              "        buttonEl.style.display =\n",
              "          google.colab.kernel.accessAllowed ? 'block' : 'none';\n",
              "\n",
              "        async function convertToInteractive(key) {\n",
              "          const element = document.querySelector('#df-08e76e91-33d9-4c7e-8a62-704ca4849a78');\n",
              "          const dataTable =\n",
              "            await google.colab.kernel.invokeFunction('convertToInteractive',\n",
              "                                                     [key], {});\n",
              "          if (!dataTable) return;\n",
              "\n",
              "          const docLinkHtml = 'Like what you see? Visit the ' +\n",
              "            '<a target=\"_blank\" href=https://colab.research.google.com/notebooks/data_table.ipynb>data table notebook</a>'\n",
              "            + ' to learn more about interactive tables.';\n",
              "          element.innerHTML = '';\n",
              "          dataTable['output_type'] = 'display_data';\n",
              "          await google.colab.output.renderOutput(dataTable, element);\n",
              "          const docLink = document.createElement('div');\n",
              "          docLink.innerHTML = docLinkHtml;\n",
              "          element.appendChild(docLink);\n",
              "        }\n",
              "      </script>\n",
              "    </div>\n",
              "  </div>\n",
              "  "
            ]
          },
          "metadata": {},
          "execution_count": 9
        }
      ],
      "source": [
        "# View the first 5 rows of the dataset\n",
        "data.head()"
      ]
    },
    {
      "cell_type": "code",
      "execution_count": null,
      "metadata": {
        "id": "G-JcE75QFv6o",
        "colab": {
          "base_uri": "https://localhost:8080/"
        },
        "outputId": "d8641c29-3602-435f-e7a2-d3ecb3cef9e5"
      },
      "outputs": [
        {
          "output_type": "execute_result",
          "data": {
            "text/plain": [
              "        case_id  Hospital_code Hospital_type_code  City_Code_Hospital  \\\n",
              "186255   186256              6                  a                   6   \n",
              "186256   186257             10                  e                   1   \n",
              "186257   186258             21                  c                   3   \n",
              "186258   186259             13                  a                   5   \n",
              "186259   186260              9                  d                   5   \n",
              "\n",
              "       Hospital_region_code  Available Extra Rooms in Hospital  Department  \\\n",
              "186255                    X                                  2  gynecology   \n",
              "186256                    X                                  2  gynecology   \n",
              "186257                    Z                                  3  gynecology   \n",
              "186258                    Z                                  2  gynecology   \n",
              "186259                    Z                                  2  gynecology   \n",
              "\n",
              "       Ward_Type Ward_Facility_Code  Bed Grade  patientid  City_Code_Patient  \\\n",
              "186255         R                  F    2.00000      98764            3.00000   \n",
              "186256         S                  E    1.00000      98764            3.00000   \n",
              "186257         R                  A    3.00000      98764            3.00000   \n",
              "186258         R                  F    3.00000      98764            3.00000   \n",
              "186259         Q                  F    3.00000      98764            3.00000   \n",
              "\n",
              "       Type of Admission Severity of Illness  Visitors with Patient    Age  \\\n",
              "186255         Emergency             Extreme                3.00000  31-40   \n",
              "186256         Emergency             Extreme                2.00000  31-40   \n",
              "186257         Emergency             Extreme                3.00000  31-40   \n",
              "186258         Emergency             Extreme                3.00000  31-40   \n",
              "186259         Emergency                 Ext                    NaN    NaN   \n",
              "\n",
              "        Admission_Deposit   Stay  \n",
              "186255         5046.00000  31-40  \n",
              "186256         4565.00000  11-20  \n",
              "186257         9104.00000  41-50  \n",
              "186258         6349.00000  31-40  \n",
              "186259                NaN    NaN  "
            ],
            "text/html": [
              "\n",
              "  <div id=\"df-8e012e48-841c-4ab9-b4ac-5d257f84dd90\">\n",
              "    <div class=\"colab-df-container\">\n",
              "      <div>\n",
              "<style scoped>\n",
              "    .dataframe tbody tr th:only-of-type {\n",
              "        vertical-align: middle;\n",
              "    }\n",
              "\n",
              "    .dataframe tbody tr th {\n",
              "        vertical-align: top;\n",
              "    }\n",
              "\n",
              "    .dataframe thead th {\n",
              "        text-align: right;\n",
              "    }\n",
              "</style>\n",
              "<table border=\"1\" class=\"dataframe\">\n",
              "  <thead>\n",
              "    <tr style=\"text-align: right;\">\n",
              "      <th></th>\n",
              "      <th>case_id</th>\n",
              "      <th>Hospital_code</th>\n",
              "      <th>Hospital_type_code</th>\n",
              "      <th>City_Code_Hospital</th>\n",
              "      <th>Hospital_region_code</th>\n",
              "      <th>Available Extra Rooms in Hospital</th>\n",
              "      <th>Department</th>\n",
              "      <th>Ward_Type</th>\n",
              "      <th>Ward_Facility_Code</th>\n",
              "      <th>Bed Grade</th>\n",
              "      <th>patientid</th>\n",
              "      <th>City_Code_Patient</th>\n",
              "      <th>Type of Admission</th>\n",
              "      <th>Severity of Illness</th>\n",
              "      <th>Visitors with Patient</th>\n",
              "      <th>Age</th>\n",
              "      <th>Admission_Deposit</th>\n",
              "      <th>Stay</th>\n",
              "    </tr>\n",
              "  </thead>\n",
              "  <tbody>\n",
              "    <tr>\n",
              "      <th>186255</th>\n",
              "      <td>186256</td>\n",
              "      <td>6</td>\n",
              "      <td>a</td>\n",
              "      <td>6</td>\n",
              "      <td>X</td>\n",
              "      <td>2</td>\n",
              "      <td>gynecology</td>\n",
              "      <td>R</td>\n",
              "      <td>F</td>\n",
              "      <td>2.00000</td>\n",
              "      <td>98764</td>\n",
              "      <td>3.00000</td>\n",
              "      <td>Emergency</td>\n",
              "      <td>Extreme</td>\n",
              "      <td>3.00000</td>\n",
              "      <td>31-40</td>\n",
              "      <td>5046.00000</td>\n",
              "      <td>31-40</td>\n",
              "    </tr>\n",
              "    <tr>\n",
              "      <th>186256</th>\n",
              "      <td>186257</td>\n",
              "      <td>10</td>\n",
              "      <td>e</td>\n",
              "      <td>1</td>\n",
              "      <td>X</td>\n",
              "      <td>2</td>\n",
              "      <td>gynecology</td>\n",
              "      <td>S</td>\n",
              "      <td>E</td>\n",
              "      <td>1.00000</td>\n",
              "      <td>98764</td>\n",
              "      <td>3.00000</td>\n",
              "      <td>Emergency</td>\n",
              "      <td>Extreme</td>\n",
              "      <td>2.00000</td>\n",
              "      <td>31-40</td>\n",
              "      <td>4565.00000</td>\n",
              "      <td>11-20</td>\n",
              "    </tr>\n",
              "    <tr>\n",
              "      <th>186257</th>\n",
              "      <td>186258</td>\n",
              "      <td>21</td>\n",
              "      <td>c</td>\n",
              "      <td>3</td>\n",
              "      <td>Z</td>\n",
              "      <td>3</td>\n",
              "      <td>gynecology</td>\n",
              "      <td>R</td>\n",
              "      <td>A</td>\n",
              "      <td>3.00000</td>\n",
              "      <td>98764</td>\n",
              "      <td>3.00000</td>\n",
              "      <td>Emergency</td>\n",
              "      <td>Extreme</td>\n",
              "      <td>3.00000</td>\n",
              "      <td>31-40</td>\n",
              "      <td>9104.00000</td>\n",
              "      <td>41-50</td>\n",
              "    </tr>\n",
              "    <tr>\n",
              "      <th>186258</th>\n",
              "      <td>186259</td>\n",
              "      <td>13</td>\n",
              "      <td>a</td>\n",
              "      <td>5</td>\n",
              "      <td>Z</td>\n",
              "      <td>2</td>\n",
              "      <td>gynecology</td>\n",
              "      <td>R</td>\n",
              "      <td>F</td>\n",
              "      <td>3.00000</td>\n",
              "      <td>98764</td>\n",
              "      <td>3.00000</td>\n",
              "      <td>Emergency</td>\n",
              "      <td>Extreme</td>\n",
              "      <td>3.00000</td>\n",
              "      <td>31-40</td>\n",
              "      <td>6349.00000</td>\n",
              "      <td>31-40</td>\n",
              "    </tr>\n",
              "    <tr>\n",
              "      <th>186259</th>\n",
              "      <td>186260</td>\n",
              "      <td>9</td>\n",
              "      <td>d</td>\n",
              "      <td>5</td>\n",
              "      <td>Z</td>\n",
              "      <td>2</td>\n",
              "      <td>gynecology</td>\n",
              "      <td>Q</td>\n",
              "      <td>F</td>\n",
              "      <td>3.00000</td>\n",
              "      <td>98764</td>\n",
              "      <td>3.00000</td>\n",
              "      <td>Emergency</td>\n",
              "      <td>Ext</td>\n",
              "      <td>NaN</td>\n",
              "      <td>NaN</td>\n",
              "      <td>NaN</td>\n",
              "      <td>NaN</td>\n",
              "    </tr>\n",
              "  </tbody>\n",
              "</table>\n",
              "</div>\n",
              "      <button class=\"colab-df-convert\" onclick=\"convertToInteractive('df-8e012e48-841c-4ab9-b4ac-5d257f84dd90')\"\n",
              "              title=\"Convert this dataframe to an interactive table.\"\n",
              "              style=\"display:none;\">\n",
              "        \n",
              "  <svg xmlns=\"http://www.w3.org/2000/svg\" height=\"24px\"viewBox=\"0 0 24 24\"\n",
              "       width=\"24px\">\n",
              "    <path d=\"M0 0h24v24H0V0z\" fill=\"none\"/>\n",
              "    <path d=\"M18.56 5.44l.94 2.06.94-2.06 2.06-.94-2.06-.94-.94-2.06-.94 2.06-2.06.94zm-11 1L8.5 8.5l.94-2.06 2.06-.94-2.06-.94L8.5 2.5l-.94 2.06-2.06.94zm10 10l.94 2.06.94-2.06 2.06-.94-2.06-.94-.94-2.06-.94 2.06-2.06.94z\"/><path d=\"M17.41 7.96l-1.37-1.37c-.4-.4-.92-.59-1.43-.59-.52 0-1.04.2-1.43.59L10.3 9.45l-7.72 7.72c-.78.78-.78 2.05 0 2.83L4 21.41c.39.39.9.59 1.41.59.51 0 1.02-.2 1.41-.59l7.78-7.78 2.81-2.81c.8-.78.8-2.07 0-2.86zM5.41 20L4 18.59l7.72-7.72 1.47 1.35L5.41 20z\"/>\n",
              "  </svg>\n",
              "      </button>\n",
              "      \n",
              "  <style>\n",
              "    .colab-df-container {\n",
              "      display:flex;\n",
              "      flex-wrap:wrap;\n",
              "      gap: 12px;\n",
              "    }\n",
              "\n",
              "    .colab-df-convert {\n",
              "      background-color: #E8F0FE;\n",
              "      border: none;\n",
              "      border-radius: 50%;\n",
              "      cursor: pointer;\n",
              "      display: none;\n",
              "      fill: #1967D2;\n",
              "      height: 32px;\n",
              "      padding: 0 0 0 0;\n",
              "      width: 32px;\n",
              "    }\n",
              "\n",
              "    .colab-df-convert:hover {\n",
              "      background-color: #E2EBFA;\n",
              "      box-shadow: 0px 1px 2px rgba(60, 64, 67, 0.3), 0px 1px 3px 1px rgba(60, 64, 67, 0.15);\n",
              "      fill: #174EA6;\n",
              "    }\n",
              "\n",
              "    [theme=dark] .colab-df-convert {\n",
              "      background-color: #3B4455;\n",
              "      fill: #D2E3FC;\n",
              "    }\n",
              "\n",
              "    [theme=dark] .colab-df-convert:hover {\n",
              "      background-color: #434B5C;\n",
              "      box-shadow: 0px 1px 3px 1px rgba(0, 0, 0, 0.15);\n",
              "      filter: drop-shadow(0px 1px 2px rgba(0, 0, 0, 0.3));\n",
              "      fill: #FFFFFF;\n",
              "    }\n",
              "  </style>\n",
              "\n",
              "      <script>\n",
              "        const buttonEl =\n",
              "          document.querySelector('#df-8e012e48-841c-4ab9-b4ac-5d257f84dd90 button.colab-df-convert');\n",
              "        buttonEl.style.display =\n",
              "          google.colab.kernel.accessAllowed ? 'block' : 'none';\n",
              "\n",
              "        async function convertToInteractive(key) {\n",
              "          const element = document.querySelector('#df-8e012e48-841c-4ab9-b4ac-5d257f84dd90');\n",
              "          const dataTable =\n",
              "            await google.colab.kernel.invokeFunction('convertToInteractive',\n",
              "                                                     [key], {});\n",
              "          if (!dataTable) return;\n",
              "\n",
              "          const docLinkHtml = 'Like what you see? Visit the ' +\n",
              "            '<a target=\"_blank\" href=https://colab.research.google.com/notebooks/data_table.ipynb>data table notebook</a>'\n",
              "            + ' to learn more about interactive tables.';\n",
              "          element.innerHTML = '';\n",
              "          dataTable['output_type'] = 'display_data';\n",
              "          await google.colab.output.renderOutput(dataTable, element);\n",
              "          const docLink = document.createElement('div');\n",
              "          docLink.innerHTML = docLinkHtml;\n",
              "          element.appendChild(docLink);\n",
              "        }\n",
              "      </script>\n",
              "    </div>\n",
              "  </div>\n",
              "  "
            ]
          },
          "metadata": {},
          "execution_count": 10
        }
      ],
      "source": [
        "# View the last 5 rows of the dataset\n",
        "data.tail()"
      ]
    },
    {
      "cell_type": "code",
      "execution_count": null,
      "metadata": {
        "id": "oh0JY34cdYHB",
        "colab": {
          "base_uri": "https://localhost:8080/"
        },
        "outputId": "19c14569-b89d-4dc3-ab51-47ca6472dfa9"
      },
      "outputs": [
        {
          "output_type": "execute_result",
          "data": {
            "text/plain": [
              "(186260, 18)"
            ]
          },
          "metadata": {},
          "execution_count": 11
        }
      ],
      "source": [
        "#Understand the shape of the data\n",
        "data.shape"
      ]
    },
    {
      "cell_type": "markdown",
      "metadata": {
        "id": "JKUvaKzkdjUc"
      },
      "source": [
        "- The dataset has **318,438 rows and 18 columns**"
      ]
    },
    {
      "cell_type": "code",
      "execution_count": null,
      "metadata": {
        "id": "shfF1UM7Ke5E",
        "colab": {
          "base_uri": "https://localhost:8080/"
        },
        "outputId": "ecc66fa7-22a6-4764-c77b-ee6f21cab0e2"
      },
      "outputs": [
        {
          "output_type": "stream",
          "name": "stdout",
          "text": [
            "<class 'pandas.core.frame.DataFrame'>\n",
            "RangeIndex: 186260 entries, 0 to 186259\n",
            "Data columns (total 18 columns):\n",
            " #   Column                             Non-Null Count   Dtype  \n",
            "---  ------                             --------------   -----  \n",
            " 0   case_id                            186260 non-null  int64  \n",
            " 1   Hospital_code                      186260 non-null  int64  \n",
            " 2   Hospital_type_code                 186260 non-null  object \n",
            " 3   City_Code_Hospital                 186260 non-null  int64  \n",
            " 4   Hospital_region_code               186260 non-null  object \n",
            " 5   Available Extra Rooms in Hospital  186260 non-null  int64  \n",
            " 6   Department                         186260 non-null  object \n",
            " 7   Ward_Type                          186260 non-null  object \n",
            " 8   Ward_Facility_Code                 186260 non-null  object \n",
            " 9   Bed Grade                          186192 non-null  float64\n",
            " 10  patientid                          186260 non-null  int64  \n",
            " 11  City_Code_Patient                  184000 non-null  float64\n",
            " 12  Type of Admission                  186260 non-null  object \n",
            " 13  Severity of Illness                186260 non-null  object \n",
            " 14  Visitors with Patient              186259 non-null  float64\n",
            " 15  Age                                186259 non-null  object \n",
            " 16  Admission_Deposit                  186259 non-null  float64\n",
            " 17  Stay                               186259 non-null  object \n",
            "dtypes: float64(4), int64(5), object(9)\n",
            "memory usage: 25.6+ MB\n"
          ]
        }
      ],
      "source": [
        "#Checking the info of the data\n",
        "data.info()"
      ]
    },
    {
      "cell_type": "markdown",
      "metadata": {
        "id": "1LQeBs4sPHNK"
      },
      "source": [
        "**Observations:**\n",
        "\n",
        "-  case_id,Hospital_codeAvailable Extra Rooms in Hospital, patientid,  City_Code_Patient, Bed Grade, Visitors with Patient, Admission_Deposit are of **numeric data type** and the rest of the columns are of **object data type*.\n",
        "- The number of non-null values is not the same as the total number of entries in the Bed Grade & patient_id data i.e. **there are null values.**\n",
        "- The column patientid is an identifier for patients in the data. "
      ]
    },
    {
      "cell_type": "code",
      "execution_count": null,
      "metadata": {
        "id": "z73h7AF9r1PM",
        "colab": {
          "base_uri": "https://localhost:8080/"
        },
        "outputId": "00a4314e-94eb-49e3-9321-2b03f051618c"
      },
      "outputs": [
        {
          "output_type": "execute_result",
          "data": {
            "text/plain": [
              "0"
            ]
          },
          "metadata": {},
          "execution_count": 13
        }
      ],
      "source": [
        "# checking for duplicate values in the Data\n",
        "data.duplicated().sum()"
      ]
    },
    {
      "cell_type": "markdown",
      "metadata": {
        "id": "kp4_mcJjP3LE"
      },
      "source": [
        "**Observations:** \n",
        "- Data has unique rows only. There is no need to remove any rows."
      ]
    },
    {
      "cell_type": "code",
      "execution_count": null,
      "metadata": {
        "scrolled": true,
        "id": "kvOBf7idmO2r",
        "colab": {
          "base_uri": "https://localhost:8080/"
        },
        "outputId": "33bbcb66-2ecc-40df-f81f-4c26986235e2"
      },
      "outputs": [
        {
          "output_type": "execute_result",
          "data": {
            "text/plain": [
              "case_id                              0\n",
              "Hospital_code                        0\n",
              "Hospital_type_code                   0\n",
              "City_Code_Hospital                   0\n",
              "Hospital_region_code                 0\n",
              "Available Extra Rooms in Hospital    0\n",
              "Department                           0\n",
              "Ward_Type                            0\n",
              "Ward_Facility_Code                   0\n",
              "Bed Grade                            0\n",
              "patientid                            0\n",
              "City_Code_Patient                    0\n",
              "Type of Admission                    0\n",
              "Severity of Illness                  0\n",
              "Visitors with Patient                1\n",
              "Age                                  1\n",
              "Admission_Deposit                    1\n",
              "Stay                                 1\n",
              "dtype: int64"
            ]
          },
          "metadata": {},
          "execution_count": 14
        }
      ],
      "source": [
        "# Treating the null values\n",
        "data['Bed Grade'] = data['Bed Grade'].fillna(data['Bed Grade'].value_counts().index[0])\n",
        "data['City_Code_Patient'] = data['City_Code_Patient'].fillna(data['City_Code_Patient'].value_counts().index[0])\n",
        "data.isnull().sum()"
      ]
    },
    {
      "cell_type": "code",
      "execution_count": null,
      "metadata": {
        "id": "LpNjlaRemO2s",
        "colab": {
          "base_uri": "https://localhost:8080/"
        },
        "outputId": "db1adba9-52dc-4bf4-c882-0ca1fae0a84c"
      },
      "outputs": [
        {
          "output_type": "execute_result",
          "data": {
            "text/plain": [
              "array(['0-10', '41-50', '31-40', '11-20', '51-60', '21-30', '71-80',\n",
              "       'More than 100 Days', '81-90', '61-70', '91-100', nan],\n",
              "      dtype=object)"
            ]
          },
          "metadata": {},
          "execution_count": 15
        }
      ],
      "source": [
        "# Stay Unique values\n",
        "data.Stay.unique()"
      ]
    },
    {
      "cell_type": "markdown",
      "metadata": {
        "id": "ONbkz2FQmO2s"
      },
      "source": [
        "We need to get an average of the stay days to enable us analyze and visual the data"
      ]
    },
    {
      "cell_type": "code",
      "execution_count": null,
      "metadata": {
        "id": "VTeHb8bHmO2s"
      },
      "outputs": [],
      "source": [
        "# Converting bins to average\n",
        "\n",
        "data['Average_Stay'] = data['Stay'].replace({'0-10':5.5, '11-20':15.5, '21-30':25.5, '31-40':35.5, '41-50':45.5, '51-60':55.5, '61-70':65.5,\n",
        "       '71-80':75.5, '81-90':85.5, '91-100':95.5, 'More than 100 Days':105.5})"
      ]
    },
    {
      "cell_type": "code",
      "execution_count": null,
      "metadata": {
        "id": "el4FdEKBmO2s",
        "colab": {
          "base_uri": "https://localhost:8080/"
        },
        "outputId": "54407c61-6142-47ce-da00-c19a4f254ea5"
      },
      "outputs": [
        {
          "output_type": "execute_result",
          "data": {
            "text/plain": [
              "0         5.50000\n",
              "1        45.50000\n",
              "2        35.50000\n",
              "3        45.50000\n",
              "4        45.50000\n",
              "           ...   \n",
              "186255   35.50000\n",
              "186256   15.50000\n",
              "186257   45.50000\n",
              "186258   35.50000\n",
              "186259        NaN\n",
              "Name: Average_Stay, Length: 186260, dtype: float64"
            ]
          },
          "metadata": {},
          "execution_count": 17
        }
      ],
      "source": [
        "#Convert to Float\n",
        "data['Average_Stay'].astype(float)"
      ]
    },
    {
      "cell_type": "code",
      "execution_count": null,
      "metadata": {
        "id": "DjMwxcenmO2t"
      },
      "outputs": [],
      "source": [
        "# Replacing 'More than 100 Days'\n",
        "\n",
        "data['Stay'] = data['Stay'].replace({'More than 100 Days': '> 100'})"
      ]
    },
    {
      "cell_type": "code",
      "execution_count": null,
      "metadata": {
        "id": "dSq7VLxEmO2t",
        "colab": {
          "base_uri": "https://localhost:8080/"
        },
        "outputId": "38146880-71ac-41b2-c25b-493e01562ff2"
      },
      "outputs": [
        {
          "output_type": "execute_result",
          "data": {
            "text/plain": [
              "   case_id  Hospital_code Hospital_type_code  City_Code_Hospital  \\\n",
              "0        1              8                  c                   3   \n",
              "1        2              2                  c                   5   \n",
              "2        3             10                  e                   1   \n",
              "3        4             26                  b                   2   \n",
              "4        5             26                  b                   2   \n",
              "\n",
              "  Hospital_region_code  Available Extra Rooms in Hospital    Department  \\\n",
              "0                    Z                                  3  radiotherapy   \n",
              "1                    Z                                  2  radiotherapy   \n",
              "2                    X                                  2    anesthesia   \n",
              "3                    Y                                  2  radiotherapy   \n",
              "4                    Y                                  2  radiotherapy   \n",
              "\n",
              "  Ward_Type Ward_Facility_Code  Bed Grade  patientid  City_Code_Patient  \\\n",
              "0         R                  F    2.00000      31397            7.00000   \n",
              "1         S                  F    2.00000      31397            7.00000   \n",
              "2         S                  E    2.00000      31397            7.00000   \n",
              "3         R                  D    2.00000      31397            7.00000   \n",
              "4         S                  D    2.00000      31397            7.00000   \n",
              "\n",
              "  Type of Admission Severity of Illness  Visitors with Patient    Age  \\\n",
              "0         Emergency             Extreme                2.00000  51-60   \n",
              "1            Trauma             Extreme                2.00000  51-60   \n",
              "2            Trauma             Extreme                2.00000  51-60   \n",
              "3            Trauma             Extreme                2.00000  51-60   \n",
              "4            Trauma             Extreme                2.00000  51-60   \n",
              "\n",
              "   Admission_Deposit   Stay  Average_Stay  \n",
              "0         4911.00000   0-10       5.50000  \n",
              "1         5954.00000  41-50      45.50000  \n",
              "2         4745.00000  31-40      35.50000  \n",
              "3         7272.00000  41-50      45.50000  \n",
              "4         5558.00000  41-50      45.50000  "
            ],
            "text/html": [
              "\n",
              "  <div id=\"df-3b56fb57-9ae6-4d52-b5cf-ecff2f1d69b6\">\n",
              "    <div class=\"colab-df-container\">\n",
              "      <div>\n",
              "<style scoped>\n",
              "    .dataframe tbody tr th:only-of-type {\n",
              "        vertical-align: middle;\n",
              "    }\n",
              "\n",
              "    .dataframe tbody tr th {\n",
              "        vertical-align: top;\n",
              "    }\n",
              "\n",
              "    .dataframe thead th {\n",
              "        text-align: right;\n",
              "    }\n",
              "</style>\n",
              "<table border=\"1\" class=\"dataframe\">\n",
              "  <thead>\n",
              "    <tr style=\"text-align: right;\">\n",
              "      <th></th>\n",
              "      <th>case_id</th>\n",
              "      <th>Hospital_code</th>\n",
              "      <th>Hospital_type_code</th>\n",
              "      <th>City_Code_Hospital</th>\n",
              "      <th>Hospital_region_code</th>\n",
              "      <th>Available Extra Rooms in Hospital</th>\n",
              "      <th>Department</th>\n",
              "      <th>Ward_Type</th>\n",
              "      <th>Ward_Facility_Code</th>\n",
              "      <th>Bed Grade</th>\n",
              "      <th>patientid</th>\n",
              "      <th>City_Code_Patient</th>\n",
              "      <th>Type of Admission</th>\n",
              "      <th>Severity of Illness</th>\n",
              "      <th>Visitors with Patient</th>\n",
              "      <th>Age</th>\n",
              "      <th>Admission_Deposit</th>\n",
              "      <th>Stay</th>\n",
              "      <th>Average_Stay</th>\n",
              "    </tr>\n",
              "  </thead>\n",
              "  <tbody>\n",
              "    <tr>\n",
              "      <th>0</th>\n",
              "      <td>1</td>\n",
              "      <td>8</td>\n",
              "      <td>c</td>\n",
              "      <td>3</td>\n",
              "      <td>Z</td>\n",
              "      <td>3</td>\n",
              "      <td>radiotherapy</td>\n",
              "      <td>R</td>\n",
              "      <td>F</td>\n",
              "      <td>2.00000</td>\n",
              "      <td>31397</td>\n",
              "      <td>7.00000</td>\n",
              "      <td>Emergency</td>\n",
              "      <td>Extreme</td>\n",
              "      <td>2.00000</td>\n",
              "      <td>51-60</td>\n",
              "      <td>4911.00000</td>\n",
              "      <td>0-10</td>\n",
              "      <td>5.50000</td>\n",
              "    </tr>\n",
              "    <tr>\n",
              "      <th>1</th>\n",
              "      <td>2</td>\n",
              "      <td>2</td>\n",
              "      <td>c</td>\n",
              "      <td>5</td>\n",
              "      <td>Z</td>\n",
              "      <td>2</td>\n",
              "      <td>radiotherapy</td>\n",
              "      <td>S</td>\n",
              "      <td>F</td>\n",
              "      <td>2.00000</td>\n",
              "      <td>31397</td>\n",
              "      <td>7.00000</td>\n",
              "      <td>Trauma</td>\n",
              "      <td>Extreme</td>\n",
              "      <td>2.00000</td>\n",
              "      <td>51-60</td>\n",
              "      <td>5954.00000</td>\n",
              "      <td>41-50</td>\n",
              "      <td>45.50000</td>\n",
              "    </tr>\n",
              "    <tr>\n",
              "      <th>2</th>\n",
              "      <td>3</td>\n",
              "      <td>10</td>\n",
              "      <td>e</td>\n",
              "      <td>1</td>\n",
              "      <td>X</td>\n",
              "      <td>2</td>\n",
              "      <td>anesthesia</td>\n",
              "      <td>S</td>\n",
              "      <td>E</td>\n",
              "      <td>2.00000</td>\n",
              "      <td>31397</td>\n",
              "      <td>7.00000</td>\n",
              "      <td>Trauma</td>\n",
              "      <td>Extreme</td>\n",
              "      <td>2.00000</td>\n",
              "      <td>51-60</td>\n",
              "      <td>4745.00000</td>\n",
              "      <td>31-40</td>\n",
              "      <td>35.50000</td>\n",
              "    </tr>\n",
              "    <tr>\n",
              "      <th>3</th>\n",
              "      <td>4</td>\n",
              "      <td>26</td>\n",
              "      <td>b</td>\n",
              "      <td>2</td>\n",
              "      <td>Y</td>\n",
              "      <td>2</td>\n",
              "      <td>radiotherapy</td>\n",
              "      <td>R</td>\n",
              "      <td>D</td>\n",
              "      <td>2.00000</td>\n",
              "      <td>31397</td>\n",
              "      <td>7.00000</td>\n",
              "      <td>Trauma</td>\n",
              "      <td>Extreme</td>\n",
              "      <td>2.00000</td>\n",
              "      <td>51-60</td>\n",
              "      <td>7272.00000</td>\n",
              "      <td>41-50</td>\n",
              "      <td>45.50000</td>\n",
              "    </tr>\n",
              "    <tr>\n",
              "      <th>4</th>\n",
              "      <td>5</td>\n",
              "      <td>26</td>\n",
              "      <td>b</td>\n",
              "      <td>2</td>\n",
              "      <td>Y</td>\n",
              "      <td>2</td>\n",
              "      <td>radiotherapy</td>\n",
              "      <td>S</td>\n",
              "      <td>D</td>\n",
              "      <td>2.00000</td>\n",
              "      <td>31397</td>\n",
              "      <td>7.00000</td>\n",
              "      <td>Trauma</td>\n",
              "      <td>Extreme</td>\n",
              "      <td>2.00000</td>\n",
              "      <td>51-60</td>\n",
              "      <td>5558.00000</td>\n",
              "      <td>41-50</td>\n",
              "      <td>45.50000</td>\n",
              "    </tr>\n",
              "  </tbody>\n",
              "</table>\n",
              "</div>\n",
              "      <button class=\"colab-df-convert\" onclick=\"convertToInteractive('df-3b56fb57-9ae6-4d52-b5cf-ecff2f1d69b6')\"\n",
              "              title=\"Convert this dataframe to an interactive table.\"\n",
              "              style=\"display:none;\">\n",
              "        \n",
              "  <svg xmlns=\"http://www.w3.org/2000/svg\" height=\"24px\"viewBox=\"0 0 24 24\"\n",
              "       width=\"24px\">\n",
              "    <path d=\"M0 0h24v24H0V0z\" fill=\"none\"/>\n",
              "    <path d=\"M18.56 5.44l.94 2.06.94-2.06 2.06-.94-2.06-.94-.94-2.06-.94 2.06-2.06.94zm-11 1L8.5 8.5l.94-2.06 2.06-.94-2.06-.94L8.5 2.5l-.94 2.06-2.06.94zm10 10l.94 2.06.94-2.06 2.06-.94-2.06-.94-.94-2.06-.94 2.06-2.06.94z\"/><path d=\"M17.41 7.96l-1.37-1.37c-.4-.4-.92-.59-1.43-.59-.52 0-1.04.2-1.43.59L10.3 9.45l-7.72 7.72c-.78.78-.78 2.05 0 2.83L4 21.41c.39.39.9.59 1.41.59.51 0 1.02-.2 1.41-.59l7.78-7.78 2.81-2.81c.8-.78.8-2.07 0-2.86zM5.41 20L4 18.59l7.72-7.72 1.47 1.35L5.41 20z\"/>\n",
              "  </svg>\n",
              "      </button>\n",
              "      \n",
              "  <style>\n",
              "    .colab-df-container {\n",
              "      display:flex;\n",
              "      flex-wrap:wrap;\n",
              "      gap: 12px;\n",
              "    }\n",
              "\n",
              "    .colab-df-convert {\n",
              "      background-color: #E8F0FE;\n",
              "      border: none;\n",
              "      border-radius: 50%;\n",
              "      cursor: pointer;\n",
              "      display: none;\n",
              "      fill: #1967D2;\n",
              "      height: 32px;\n",
              "      padding: 0 0 0 0;\n",
              "      width: 32px;\n",
              "    }\n",
              "\n",
              "    .colab-df-convert:hover {\n",
              "      background-color: #E2EBFA;\n",
              "      box-shadow: 0px 1px 2px rgba(60, 64, 67, 0.3), 0px 1px 3px 1px rgba(60, 64, 67, 0.15);\n",
              "      fill: #174EA6;\n",
              "    }\n",
              "\n",
              "    [theme=dark] .colab-df-convert {\n",
              "      background-color: #3B4455;\n",
              "      fill: #D2E3FC;\n",
              "    }\n",
              "\n",
              "    [theme=dark] .colab-df-convert:hover {\n",
              "      background-color: #434B5C;\n",
              "      box-shadow: 0px 1px 3px 1px rgba(0, 0, 0, 0.15);\n",
              "      filter: drop-shadow(0px 1px 2px rgba(0, 0, 0, 0.3));\n",
              "      fill: #FFFFFF;\n",
              "    }\n",
              "  </style>\n",
              "\n",
              "      <script>\n",
              "        const buttonEl =\n",
              "          document.querySelector('#df-3b56fb57-9ae6-4d52-b5cf-ecff2f1d69b6 button.colab-df-convert');\n",
              "        buttonEl.style.display =\n",
              "          google.colab.kernel.accessAllowed ? 'block' : 'none';\n",
              "\n",
              "        async function convertToInteractive(key) {\n",
              "          const element = document.querySelector('#df-3b56fb57-9ae6-4d52-b5cf-ecff2f1d69b6');\n",
              "          const dataTable =\n",
              "            await google.colab.kernel.invokeFunction('convertToInteractive',\n",
              "                                                     [key], {});\n",
              "          if (!dataTable) return;\n",
              "\n",
              "          const docLinkHtml = 'Like what you see? Visit the ' +\n",
              "            '<a target=\"_blank\" href=https://colab.research.google.com/notebooks/data_table.ipynb>data table notebook</a>'\n",
              "            + ' to learn more about interactive tables.';\n",
              "          element.innerHTML = '';\n",
              "          dataTable['output_type'] = 'display_data';\n",
              "          await google.colab.output.renderOutput(dataTable, element);\n",
              "          const docLink = document.createElement('div');\n",
              "          docLink.innerHTML = docLinkHtml;\n",
              "          element.appendChild(docLink);\n",
              "        }\n",
              "      </script>\n",
              "    </div>\n",
              "  </div>\n",
              "  "
            ]
          },
          "metadata": {},
          "execution_count": 19
        }
      ],
      "source": [
        "data.head()"
      ]
    },
    {
      "cell_type": "code",
      "execution_count": null,
      "metadata": {
        "id": "z5Xba7tEO9KE",
        "colab": {
          "base_uri": "https://localhost:8080/"
        },
        "outputId": "76cb97b6-700e-4363-f1e3-8a9a26c0ed40"
      },
      "outputs": [
        {
          "output_type": "execute_result",
          "data": {
            "text/plain": [
              "38525     39\n",
              "101359    36\n",
              "32886     32\n",
              "31203     30\n",
              "126596    29\n",
              "          ..\n",
              "37260      1\n",
              "94147      1\n",
              "10909      1\n",
              "42556      1\n",
              "7609       1\n",
              "Name: patientid, Length: 41765, dtype: int64"
            ]
          },
          "metadata": {},
          "execution_count": 20
        }
      ],
      "source": [
        "#To view patientid and the number of times they have visited the hospital\n",
        "data['patientid'].value_counts()"
      ]
    },
    {
      "cell_type": "markdown",
      "metadata": {
        "id": "4pgZWSL-1vS5"
      },
      "source": [
        "**Observations:**\n",
        "- **The maximum number of times the same patient admitted to the hospital is 50 and minimum is 1.**"
      ]
    },
    {
      "cell_type": "code",
      "execution_count": null,
      "metadata": {
        "scrolled": false,
        "id": "vCDySJcsmO2t",
        "colab": {
          "base_uri": "https://localhost:8080/"
        },
        "outputId": "2c7049b0-702c-4acb-c382-95dc433699f7"
      },
      "outputs": [
        {
          "output_type": "execute_result",
          "data": {
            "text/plain": [
              "2.00000     81334\n",
              "4.00000     46249\n",
              "3.00000     33922\n",
              "6.00000     11217\n",
              "5.00000      5590\n",
              "8.00000      2885\n",
              "7.00000      1483\n",
              "9.00000       781\n",
              "1.00000       699\n",
              "10.00000      681\n",
              "12.00000      574\n",
              "11.00000      202\n",
              "16.00000      165\n",
              "15.00000      122\n",
              "14.00000      111\n",
              "13.00000       72\n",
              "20.00000       43\n",
              "24.00000       32\n",
              "18.00000       28\n",
              "17.00000       12\n",
              "0.00000        11\n",
              "30.00000        9\n",
              "23.00000        8\n",
              "21.00000        8\n",
              "22.00000        8\n",
              "19.00000        6\n",
              "25.00000        6\n",
              "32.00000        1\n",
              "Name: Visitors with Patient, dtype: int64"
            ]
          },
          "metadata": {},
          "execution_count": 21
        }
      ],
      "source": [
        "#To view Visitors with Patient and the number of times they have visited the hospital\n",
        "data['Visitors with Patient'].value_counts()"
      ]
    },
    {
      "cell_type": "markdown",
      "metadata": {
        "id": "WJ1GuaMXmO2t"
      },
      "source": [
        "**Observations:**\n",
        "- **The maximum number of times the same Visitor with Patient visited the hospital is 138,417 and minimum is 9.**"
      ]
    },
    {
      "cell_type": "code",
      "execution_count": null,
      "metadata": {
        "id": "QIvXLbuuSuEE",
        "colab": {
          "base_uri": "https://localhost:8080/"
        },
        "outputId": "6cc53d76-ff37-4331-9cc3-d6f0365de4c9"
      },
      "outputs": [
        {
          "output_type": "execute_result",
          "data": {
            "text/plain": [
              "                                         count        mean         std  \\\n",
              "case_id                           186260.00000 93130.50000 53768.77491   \n",
              "Hospital_code                     186260.00000    18.58407     8.62024   \n",
              "City_Code_Hospital                186260.00000     4.80119     3.09442   \n",
              "Available Extra Rooms in Hospital 186260.00000     3.16495     1.14875   \n",
              "Bed Grade                         186260.00000     2.61554     0.87177   \n",
              "patientid                         186260.00000 65894.93470 38025.03795   \n",
              "City_Code_Patient                 186260.00000     7.02880     4.45012   \n",
              "Visitors with Patient             186259.00000     3.28672     1.76013   \n",
              "Admission_Deposit                 186259.00000  4912.70513  1065.30089   \n",
              "Average_Stay                      186259.00000    33.38681    21.60513   \n",
              "\n",
              "                                         min         25%         50%  \\\n",
              "case_id                              1.00000 46565.75000 93130.50000   \n",
              "Hospital_code                        1.00000    11.00000    19.00000   \n",
              "City_Code_Hospital                   1.00000     2.00000     5.00000   \n",
              "Available Extra Rooms in Hospital    0.00000     2.00000     3.00000   \n",
              "Bed Grade                            1.00000     2.00000     3.00000   \n",
              "patientid                            2.00000 32955.00000 65885.50000   \n",
              "City_Code_Patient                    1.00000     4.00000     8.00000   \n",
              "Visitors with Patient                0.00000     2.00000     3.00000   \n",
              "Admission_Deposit                 1800.00000  4231.00000  4780.00000   \n",
              "Average_Stay                         5.50000    15.50000    25.50000   \n",
              "\n",
              "                                           75%          max  \n",
              "case_id                           139695.25000 186260.00000  \n",
              "Hospital_code                         26.00000     32.00000  \n",
              "City_Code_Hospital                     7.00000     13.00000  \n",
              "Available Extra Rooms in Hospital      4.00000     21.00000  \n",
              "Bed Grade                              3.00000      4.00000  \n",
              "patientid                          98590.50000 131621.00000  \n",
              "City_Code_Patient                      8.00000     37.00000  \n",
              "Visitors with Patient                  4.00000     32.00000  \n",
              "Admission_Deposit                   5435.00000  11008.00000  \n",
              "Average_Stay                          35.50000    105.50000  "
            ],
            "text/html": [
              "\n",
              "  <div id=\"df-bbf10d4d-46ef-4f15-bffc-6682cc28e94d\">\n",
              "    <div class=\"colab-df-container\">\n",
              "      <div>\n",
              "<style scoped>\n",
              "    .dataframe tbody tr th:only-of-type {\n",
              "        vertical-align: middle;\n",
              "    }\n",
              "\n",
              "    .dataframe tbody tr th {\n",
              "        vertical-align: top;\n",
              "    }\n",
              "\n",
              "    .dataframe thead th {\n",
              "        text-align: right;\n",
              "    }\n",
              "</style>\n",
              "<table border=\"1\" class=\"dataframe\">\n",
              "  <thead>\n",
              "    <tr style=\"text-align: right;\">\n",
              "      <th></th>\n",
              "      <th>count</th>\n",
              "      <th>mean</th>\n",
              "      <th>std</th>\n",
              "      <th>min</th>\n",
              "      <th>25%</th>\n",
              "      <th>50%</th>\n",
              "      <th>75%</th>\n",
              "      <th>max</th>\n",
              "    </tr>\n",
              "  </thead>\n",
              "  <tbody>\n",
              "    <tr>\n",
              "      <th>case_id</th>\n",
              "      <td>186260.00000</td>\n",
              "      <td>93130.50000</td>\n",
              "      <td>53768.77491</td>\n",
              "      <td>1.00000</td>\n",
              "      <td>46565.75000</td>\n",
              "      <td>93130.50000</td>\n",
              "      <td>139695.25000</td>\n",
              "      <td>186260.00000</td>\n",
              "    </tr>\n",
              "    <tr>\n",
              "      <th>Hospital_code</th>\n",
              "      <td>186260.00000</td>\n",
              "      <td>18.58407</td>\n",
              "      <td>8.62024</td>\n",
              "      <td>1.00000</td>\n",
              "      <td>11.00000</td>\n",
              "      <td>19.00000</td>\n",
              "      <td>26.00000</td>\n",
              "      <td>32.00000</td>\n",
              "    </tr>\n",
              "    <tr>\n",
              "      <th>City_Code_Hospital</th>\n",
              "      <td>186260.00000</td>\n",
              "      <td>4.80119</td>\n",
              "      <td>3.09442</td>\n",
              "      <td>1.00000</td>\n",
              "      <td>2.00000</td>\n",
              "      <td>5.00000</td>\n",
              "      <td>7.00000</td>\n",
              "      <td>13.00000</td>\n",
              "    </tr>\n",
              "    <tr>\n",
              "      <th>Available Extra Rooms in Hospital</th>\n",
              "      <td>186260.00000</td>\n",
              "      <td>3.16495</td>\n",
              "      <td>1.14875</td>\n",
              "      <td>0.00000</td>\n",
              "      <td>2.00000</td>\n",
              "      <td>3.00000</td>\n",
              "      <td>4.00000</td>\n",
              "      <td>21.00000</td>\n",
              "    </tr>\n",
              "    <tr>\n",
              "      <th>Bed Grade</th>\n",
              "      <td>186260.00000</td>\n",
              "      <td>2.61554</td>\n",
              "      <td>0.87177</td>\n",
              "      <td>1.00000</td>\n",
              "      <td>2.00000</td>\n",
              "      <td>3.00000</td>\n",
              "      <td>3.00000</td>\n",
              "      <td>4.00000</td>\n",
              "    </tr>\n",
              "    <tr>\n",
              "      <th>patientid</th>\n",
              "      <td>186260.00000</td>\n",
              "      <td>65894.93470</td>\n",
              "      <td>38025.03795</td>\n",
              "      <td>2.00000</td>\n",
              "      <td>32955.00000</td>\n",
              "      <td>65885.50000</td>\n",
              "      <td>98590.50000</td>\n",
              "      <td>131621.00000</td>\n",
              "    </tr>\n",
              "    <tr>\n",
              "      <th>City_Code_Patient</th>\n",
              "      <td>186260.00000</td>\n",
              "      <td>7.02880</td>\n",
              "      <td>4.45012</td>\n",
              "      <td>1.00000</td>\n",
              "      <td>4.00000</td>\n",
              "      <td>8.00000</td>\n",
              "      <td>8.00000</td>\n",
              "      <td>37.00000</td>\n",
              "    </tr>\n",
              "    <tr>\n",
              "      <th>Visitors with Patient</th>\n",
              "      <td>186259.00000</td>\n",
              "      <td>3.28672</td>\n",
              "      <td>1.76013</td>\n",
              "      <td>0.00000</td>\n",
              "      <td>2.00000</td>\n",
              "      <td>3.00000</td>\n",
              "      <td>4.00000</td>\n",
              "      <td>32.00000</td>\n",
              "    </tr>\n",
              "    <tr>\n",
              "      <th>Admission_Deposit</th>\n",
              "      <td>186259.00000</td>\n",
              "      <td>4912.70513</td>\n",
              "      <td>1065.30089</td>\n",
              "      <td>1800.00000</td>\n",
              "      <td>4231.00000</td>\n",
              "      <td>4780.00000</td>\n",
              "      <td>5435.00000</td>\n",
              "      <td>11008.00000</td>\n",
              "    </tr>\n",
              "    <tr>\n",
              "      <th>Average_Stay</th>\n",
              "      <td>186259.00000</td>\n",
              "      <td>33.38681</td>\n",
              "      <td>21.60513</td>\n",
              "      <td>5.50000</td>\n",
              "      <td>15.50000</td>\n",
              "      <td>25.50000</td>\n",
              "      <td>35.50000</td>\n",
              "      <td>105.50000</td>\n",
              "    </tr>\n",
              "  </tbody>\n",
              "</table>\n",
              "</div>\n",
              "      <button class=\"colab-df-convert\" onclick=\"convertToInteractive('df-bbf10d4d-46ef-4f15-bffc-6682cc28e94d')\"\n",
              "              title=\"Convert this dataframe to an interactive table.\"\n",
              "              style=\"display:none;\">\n",
              "        \n",
              "  <svg xmlns=\"http://www.w3.org/2000/svg\" height=\"24px\"viewBox=\"0 0 24 24\"\n",
              "       width=\"24px\">\n",
              "    <path d=\"M0 0h24v24H0V0z\" fill=\"none\"/>\n",
              "    <path d=\"M18.56 5.44l.94 2.06.94-2.06 2.06-.94-2.06-.94-.94-2.06-.94 2.06-2.06.94zm-11 1L8.5 8.5l.94-2.06 2.06-.94-2.06-.94L8.5 2.5l-.94 2.06-2.06.94zm10 10l.94 2.06.94-2.06 2.06-.94-2.06-.94-.94-2.06-.94 2.06-2.06.94z\"/><path d=\"M17.41 7.96l-1.37-1.37c-.4-.4-.92-.59-1.43-.59-.52 0-1.04.2-1.43.59L10.3 9.45l-7.72 7.72c-.78.78-.78 2.05 0 2.83L4 21.41c.39.39.9.59 1.41.59.51 0 1.02-.2 1.41-.59l7.78-7.78 2.81-2.81c.8-.78.8-2.07 0-2.86zM5.41 20L4 18.59l7.72-7.72 1.47 1.35L5.41 20z\"/>\n",
              "  </svg>\n",
              "      </button>\n",
              "      \n",
              "  <style>\n",
              "    .colab-df-container {\n",
              "      display:flex;\n",
              "      flex-wrap:wrap;\n",
              "      gap: 12px;\n",
              "    }\n",
              "\n",
              "    .colab-df-convert {\n",
              "      background-color: #E8F0FE;\n",
              "      border: none;\n",
              "      border-radius: 50%;\n",
              "      cursor: pointer;\n",
              "      display: none;\n",
              "      fill: #1967D2;\n",
              "      height: 32px;\n",
              "      padding: 0 0 0 0;\n",
              "      width: 32px;\n",
              "    }\n",
              "\n",
              "    .colab-df-convert:hover {\n",
              "      background-color: #E2EBFA;\n",
              "      box-shadow: 0px 1px 2px rgba(60, 64, 67, 0.3), 0px 1px 3px 1px rgba(60, 64, 67, 0.15);\n",
              "      fill: #174EA6;\n",
              "    }\n",
              "\n",
              "    [theme=dark] .colab-df-convert {\n",
              "      background-color: #3B4455;\n",
              "      fill: #D2E3FC;\n",
              "    }\n",
              "\n",
              "    [theme=dark] .colab-df-convert:hover {\n",
              "      background-color: #434B5C;\n",
              "      box-shadow: 0px 1px 3px 1px rgba(0, 0, 0, 0.15);\n",
              "      filter: drop-shadow(0px 1px 2px rgba(0, 0, 0, 0.3));\n",
              "      fill: #FFFFFF;\n",
              "    }\n",
              "  </style>\n",
              "\n",
              "      <script>\n",
              "        const buttonEl =\n",
              "          document.querySelector('#df-bbf10d4d-46ef-4f15-bffc-6682cc28e94d button.colab-df-convert');\n",
              "        buttonEl.style.display =\n",
              "          google.colab.kernel.accessAllowed ? 'block' : 'none';\n",
              "\n",
              "        async function convertToInteractive(key) {\n",
              "          const element = document.querySelector('#df-bbf10d4d-46ef-4f15-bffc-6682cc28e94d');\n",
              "          const dataTable =\n",
              "            await google.colab.kernel.invokeFunction('convertToInteractive',\n",
              "                                                     [key], {});\n",
              "          if (!dataTable) return;\n",
              "\n",
              "          const docLinkHtml = 'Like what you see? Visit the ' +\n",
              "            '<a target=\"_blank\" href=https://colab.research.google.com/notebooks/data_table.ipynb>data table notebook</a>'\n",
              "            + ' to learn more about interactive tables.';\n",
              "          element.innerHTML = '';\n",
              "          dataTable['output_type'] = 'display_data';\n",
              "          await google.colab.output.renderOutput(dataTable, element);\n",
              "          const docLink = document.createElement('div');\n",
              "          docLink.innerHTML = docLinkHtml;\n",
              "          element.appendChild(docLink);\n",
              "        }\n",
              "      </script>\n",
              "    </div>\n",
              "  </div>\n",
              "  "
            ]
          },
          "metadata": {},
          "execution_count": 22
        }
      ],
      "source": [
        "#Checking the descriptive statistics of the columns\n",
        "data.describe().T"
      ]
    },
    {
      "cell_type": "markdown",
      "metadata": {
        "id": "sTfliAV--0q5"
      },
      "source": [
        "**Observations :**\n",
        "\n",
        "* There are around **3 rooms available in the hospital on an average** and there are times when the hospital is full and there are no rooms available. The **maximum number of rooms available in the hospital are 24**.\n",
        "* **On average there Bed Grade 3 is available to new patients** but it can also be 1 at times. The maximum Bed Grade available in the hospital is 4.\n",
        "* **On average around 3 visitors accompany the patient.** Some patients come on their own (minimum zero) and few cases have 32 visitors. It will be interesting to see if there is any relation between number of visitors and the severity of the patient.\n",
        "* **The average admission deposit lies around 4741 dollars and a minimum of 1800 dollars is paid on every admission.**\n",
        "* **Patient's stay has a large range from 5.5 to 105.5 days.** There might be outliers in this variable. The median length of stay is 25.5 days and there is a possibility of outliers for the patient stay days."
      ]
    },
    {
      "cell_type": "code",
      "execution_count": null,
      "metadata": {
        "id": "wYe3XYCFS1ru",
        "colab": {
          "base_uri": "https://localhost:8080/"
        },
        "outputId": "2441839e-cbc4-4ba1-e311-1ce255209b32"
      },
      "outputs": [
        {
          "output_type": "stream",
          "name": "stdout",
          "text": [
            "gynecology           77.54912\n",
            "anesthesia            9.74659\n",
            "radiotherapy          9.32567\n",
            "TB & Chest disease    2.95125\n",
            "surgery               0.42736\n",
            "Name: Department, dtype: float64\n",
            "-\n",
            "Trauma      50.94331\n",
            "Emergency   37.49651\n",
            "Urgent      11.56018\n",
            "Name: Type of Admission, dtype: float64\n",
            "-\n",
            "Moderate   57.35101\n",
            "Minor      21.95372\n",
            "Extreme    20.69473\n",
            "Ext         0.00054\n",
            "Name: Severity of Illness, dtype: float64\n",
            "-\n",
            "R   40.34468\n",
            "Q   32.47396\n",
            "S   25.11436\n",
            "P    1.56716\n",
            "T    0.49501\n",
            "U    0.00483\n",
            "Name: Ward_Type, dtype: float64\n",
            "-\n",
            "X   41.79963\n",
            "Y   39.00086\n",
            "Z   19.19951\n",
            "Name: Hospital_region_code, dtype: float64\n",
            "-\n",
            "a   45.14764\n",
            "b   22.01707\n",
            "c   13.90422\n",
            "e    8.09460\n",
            "d    6.22463\n",
            "f    3.47686\n",
            "g    1.13497\n",
            "Name: Hospital_type_code, dtype: float64\n",
            "-\n",
            "21-30    28.31541\n",
            "11-20    23.11459\n",
            "31-40    17.73713\n",
            "51-60    11.72614\n",
            "0-10      6.33902\n",
            "41-50     3.71418\n",
            "71-80     3.45165\n",
            "> 100     2.14594\n",
            "81-90     1.64287\n",
            "91-100    0.92720\n",
            "61-70     0.88586\n",
            "Name: Stay, dtype: float64\n",
            "-\n",
            "F   35.66627\n",
            "E   17.20337\n",
            "D   16.28637\n",
            "C   11.96983\n",
            "B   10.74466\n",
            "A    8.12950\n",
            "Name: Ward_Facility_Code, dtype: float64\n",
            "-\n",
            "31-40    20.26640\n",
            "41-50    20.23365\n",
            "51-60    15.60247\n",
            "71-80    12.52557\n",
            "21-30    11.71272\n",
            "61-70    11.28858\n",
            "11-20     3.98746\n",
            "81-90     2.83798\n",
            "0-10      1.12317\n",
            "91-100    0.42199\n",
            "Name: Age, dtype: float64\n",
            "-\n",
            "21-30    28.31541\n",
            "11-20    23.11459\n",
            "31-40    17.73713\n",
            "51-60    11.72614\n",
            "0-10      6.33902\n",
            "41-50     3.71418\n",
            "71-80     3.45165\n",
            "> 100     2.14594\n",
            "81-90     1.64287\n",
            "91-100    0.92720\n",
            "61-70     0.88586\n",
            "Name: Stay, dtype: float64\n",
            "-\n"
          ]
        }
      ],
      "source": [
        "# List of all important categorical variables\n",
        "cat_col = [\"Department\", \"Type of Admission\", 'Severity of Illness', 'Ward_Type', 'Hospital_region_code', 'Hospital_type_code', 'Stay', \"Ward_Facility_Code\", \"Age\", \"Stay\"]\n",
        "\n",
        "# Printing the number of occurrences of each unique value in each categorical column\n",
        "for column in cat_col:\n",
        "    print(data[column].value_counts(1)*100)\n",
        "    print(\"-\")"
      ]
    },
    {
      "cell_type": "markdown",
      "metadata": {
        "id": "NSIXtFmtgeNJ"
      },
      "source": [
        "**Observations :**\n",
        "\n",
        "- **The majority of patients (~55%) admit to the hospital with moderate and minor illness** which is understandable as extreme illness is less frequent than moderate and minor illness. \n",
        "- **Gynecology department gets the most number of patients (~78%)** in the hospital whereas patients in Surgery department are (~0%).\n",
        "- **Ward A and B accommodate the least number of patients (~12%).** These might be wards reserved for patient with extreme illness and patients who need surgery. It would be interesting to see if patients from these wards also stay for longer duration.\n",
        "- **The majority of patients belong to the age group of 21-80 (\\~87%)** These are most likely to be women since the number of patients in the gynecology department of the hospital is 78%.\n",
        "- Most of the patients admitted to the hospital are the **cases of trauma (~48%)**. \n",
        "- **The most of the patients' legnth of stay in the hospital is between the range of 11-40 days and on a rare occasions does  a patient stay more than 40 days while the minimum lenght of stay is between the range of 0-10 days.**\n"
      ]
    },
    {
      "cell_type": "markdown",
      "metadata": {
        "id": "wTHU4IPogofK"
      },
      "source": [
        "## **Exploratory Data Analysis (EDA)**"
      ]
    },
    {
      "cell_type": "markdown",
      "metadata": {
        "id": "gU_-9VCyskuV"
      },
      "source": [
        "### **Univariate Analysis** "
      ]
    },
    {
      "cell_type": "markdown",
      "metadata": {
        "id": "n7q6zvvomO2u"
      },
      "source": [
        "OUTLIER DETECTION"
      ]
    },
    {
      "cell_type": "markdown",
      "metadata": {
        "id": "sUS3cdn7mO2u"
      },
      "source": [
        "IQR (Inter Quartile Range) approach to finding the outliers is the most commonly used and most trusted approach used in the research field"
      ]
    },
    {
      "cell_type": "code",
      "execution_count": null,
      "metadata": {
        "id": "3FXeuDBXU3Dv"
      },
      "outputs": [],
      "source": [
        "# Let's create a function to plot a boxplot and a histogram along the same scale to visualize the outliers\n",
        "\n",
        "\n",
        "def histogram_boxplot(data, feature, figsize=(12, 7), kde=False, bins=None):\n",
        "    \"\"\"\n",
        "    Boxplot and histogram combined\n",
        "\n",
        "    data: dataframe\n",
        "    feature: dataframe column\n",
        "    figsize: size of figure (default (12,7))\n",
        "    kde: whether to the show density curve (default False)\n",
        "    bins: number of bins for histogram (default None)\n",
        "    \"\"\"\n",
        "    f2, (ax_box2, ax_hist2) = plt.subplots(\n",
        "        nrows=2,  # Number of rows of the subplot grid= 2\n",
        "        sharex=True,  # x-axis will be shared among all subplots\n",
        "        gridspec_kw={\"height_ratios\": (0.25, 0.75)},\n",
        "        figsize=figsize,\n",
        "    )  # creating the 2 subplots\n",
        "    sns.boxplot(\n",
        "        data=data, x=feature, ax=ax_box2, showmeans=True, color=\"violet\"\n",
        "    )  # boxplot will be created and a star will indicate the mean value of the column\n",
        "    sns.histplot(\n",
        "        data=data, x=feature, kde=kde, ax=ax_hist2, bins=bins, palette=\"winter\"\n",
        "    ) if bins else sns.histplot(\n",
        "        data=data, x=feature, kde=kde, ax=ax_hist2\n",
        "    )  # For histogram\n",
        "    ax_hist2.axvline(\n",
        "        data[feature].mean(), color=\"green\", linestyle=\"--\"\n",
        "    )  # Add mean to the histogram\n",
        "    ax_hist2.axvline(\n",
        "        data[feature].median(), color=\"black\", linestyle=\"-\"\n",
        "    )  # Add median to the histogram"
      ]
    },
    {
      "cell_type": "markdown",
      "metadata": {
        "id": "JWcUpb3umO2v"
      },
      "source": [
        "### Visualizing and Treating the Outliers"
      ]
    },
    {
      "cell_type": "markdown",
      "metadata": {
        "id": "OsjzajqFmO2v"
      },
      "source": [
        "#### City Code Patient"
      ]
    },
    {
      "cell_type": "code",
      "execution_count": null,
      "metadata": {
        "id": "31zFJ4fCmO2v",
        "colab": {
          "base_uri": "https://localhost:8080/"
        },
        "outputId": "ed871c15-f30d-48ed-c1a9-4f93d7c8305e"
      },
      "outputs": [
        {
          "output_type": "display_data",
          "data": {
            "text/plain": [
              "<Figure size 864x504 with 2 Axes>"
            ],
            "image/png": "[encoded data removed]"
          },
          "metadata": {
            "needs_background": "light"
          }
        }
      ],
      "source": [
        "histogram_boxplot(data, \"City_Code_Patient\", kde=True, bins=30)"
      ]
    },
    {
      "cell_type": "code",
      "execution_count": null,
      "metadata": {
        "id": "iE4kRDP-mO2v",
        "colab": {
          "base_uri": "https://localhost:8080/"
        },
        "outputId": "cb85cd23-8494-48ff-be49-655844c3b3c8"
      },
      "outputs": [
        {
          "output_type": "stream",
          "name": "stdout",
          "text": [
            "upper limit 19.266723086127644\n",
            "lower limit -5.389027936630466\n"
          ]
        }
      ],
      "source": [
        "# IQR for City_Code_Patient\n",
        "\n",
        "upper_limit = data['City_Code_Patient'].mean() + 3*data['City_Code_Patient'].std()\n",
        "lower_limit = data['City_Code_Patient'].mean() - 3*data['City_Code_Patient'].std()\n",
        "\n",
        "data['City_Code_Patient'] = np.where(\n",
        "    data['City_Code_Patient']>upper_limit,\n",
        "    upper_limit,\n",
        "    np.where(\n",
        "        data['City_Code_Patient']<lower_limit,\n",
        "        lower_limit,\n",
        "        data['City_Code_Patient']\n",
        "    )\n",
        ")\n",
        "\n",
        "print(\"upper limit\",data['City_Code_Patient'].mean() + 3*data['City_Code_Patient'].std())\n",
        "print(\"lower limit\",data['City_Code_Patient'].mean() - 3*data['City_Code_Patient'].std())\n"
      ]
    },
    {
      "cell_type": "code",
      "execution_count": null,
      "metadata": {
        "id": "GKV11V_OmO2v",
        "colab": {
          "base_uri": "https://localhost:8080/"
        },
        "outputId": "7d2e50ed-2f4c-4e89-af45-09c0edc53e82"
      },
      "outputs": [
        {
          "output_type": "display_data",
          "data": {
            "text/plain": [
              "<Figure size 864x504 with 2 Axes>"
            ],
            "image/png": "[encoded data removed]"
          },
          "metadata": {
            "needs_background": "light"
          }
        }
      ],
      "source": [
        "histogram_boxplot(data, \"City_Code_Patient\", kde=True, bins=30)"
      ]
    },
    {
      "cell_type": "markdown",
      "metadata": {
        "id": "zwYRba3GCmMR"
      },
      "source": [
        "#### **Visitors with Patient**"
      ]
    },
    {
      "cell_type": "code",
      "execution_count": null,
      "metadata": {
        "id": "45-b0yudsw8V",
        "colab": {
          "base_uri": "https://localhost:8080/"
        },
        "outputId": "162e9276-e5ce-4aca-9649-1bd19dfb2683"
      },
      "outputs": [
        {
          "output_type": "display_data",
          "data": {
            "text/plain": [
              "<Figure size 864x504 with 2 Axes>"
            ],
            "image/png": "[encoded data removed]"
          },
          "metadata": {
            "needs_background": "light"
          }
        }
      ],
      "source": [
        "histogram_boxplot(data, \"Visitors with Patient\", kde=True, bins=30)"
      ]
    },
    {
      "cell_type": "markdown",
      "metadata": {
        "id": "50OlffmvmO2v"
      },
      "source": [
        "- **Observations**:\n",
        "\n",
        "The distribution of the number of visitors with the patient is highly skewed towards right.\n",
        "2 and 4 are the most common number of visitors with patients."
      ]
    },
    {
      "cell_type": "code",
      "execution_count": null,
      "metadata": {
        "id": "7DK20INTmO2w",
        "colab": {
          "base_uri": "https://localhost:8080/"
        },
        "outputId": "1c78fa82-3300-4996-c3a9-49f1a09cc81a"
      },
      "outputs": [
        {
          "output_type": "stream",
          "name": "stdout",
          "text": [
            "upper limit 7.786585845753165\n",
            "lower limit -1.3072102440609745\n"
          ]
        }
      ],
      "source": [
        "# IQR for Visitors with Patient\n",
        "\n",
        "upper_limit = data['Visitors with Patient'].mean() + 3*data['Visitors with Patient'].std()\n",
        "lower_limit = data['Visitors with Patient'].mean() - 3*data['Visitors with Patient'].std()\n",
        "\n",
        "\n",
        "data['Visitors with Patient'] = np.where(\n",
        "    data['Visitors with Patient']>upper_limit,\n",
        "    upper_limit,\n",
        "    np.where(\n",
        "        data['Visitors with Patient']<lower_limit,\n",
        "        lower_limit,\n",
        "        data['Visitors with Patient']\n",
        "    )\n",
        ")\n",
        "\n",
        "print(\"upper limit\",data['Visitors with Patient'].mean() + 3*data['Visitors with Patient'].std())\n",
        "print(\"lower limit\",data['Visitors with Patient'].mean() - 3*data['Visitors with Patient'].std())\n"
      ]
    },
    {
      "cell_type": "code",
      "execution_count": null,
      "metadata": {
        "id": "4ovBrtOmmO2w",
        "colab": {
          "base_uri": "https://localhost:8080/"
        },
        "outputId": "b696f76d-213b-46e5-aa10-c09a1e7a7e0f"
      },
      "outputs": [
        {
          "output_type": "display_data",
          "data": {
            "text/plain": [
              "<Figure size 864x504 with 2 Axes>"
            ],
            "image/png": "[encoded data removed]"
          },
          "metadata": {
            "needs_background": "light"
          }
        }
      ],
      "source": [
        "histogram_boxplot(data, 'Visitors with Patient', kde=True, bins=30)"
      ]
    },
    {
      "cell_type": "markdown",
      "metadata": {
        "id": "mslxGfgxmO2w"
      },
      "source": [
        "#### Admission_Deposit"
      ]
    },
    {
      "cell_type": "code",
      "execution_count": null,
      "metadata": {
        "id": "hp4im_WQmO2w",
        "colab": {
          "base_uri": "https://localhost:8080/"
        },
        "outputId": "e5d3f876-6389-43e6-dfdd-e5efc5d0d1ca"
      },
      "outputs": [
        {
          "output_type": "display_data",
          "data": {
            "text/plain": [
              "<Figure size 864x504 with 2 Axes>"
            ],
            "image/png": "[encoded data removed]"
          },
          "metadata": {
            "needs_background": "light"
          }
        }
      ],
      "source": [
        "histogram_boxplot(data, \"Admission_Deposit\", kde=True, bins=30)"
      ]
    },
    {
      "cell_type": "markdown",
      "metadata": {
        "id": "1iuWUHFtC40E"
      },
      "source": [
        "**Observations:**\n",
        "\n",
        "- The ** admission Deposits is normally distributed**. There are few patients paying high amount of admission fees and few patients paying low amount of admission fees."
      ]
    },
    {
      "cell_type": "code",
      "execution_count": null,
      "metadata": {
        "id": "cx9p35y8mO2w",
        "colab": {
          "base_uri": "https://localhost:8080/"
        },
        "outputId": "c75a6b57-5b5f-4230-ad0b-2445e2a773e3"
      },
      "outputs": [
        {
          "output_type": "stream",
          "name": "stdout",
          "text": [
            "upper limit 8010.366813154476\n",
            "lower limit 1798.2663776955633\n"
          ]
        }
      ],
      "source": [
        "# IQR for Admission Deposit\n",
        "\n",
        "upper_limit = data['Admission_Deposit'].mean() + 3*data['Admission_Deposit'].std()\n",
        "lower_limit=data['Admission_Deposit'].mean() - 3*data['Admission_Deposit'].std()\n",
        "\n",
        "data['Admission_Deposit'] = np.where(\n",
        "    data['Admission_Deposit']>upper_limit,\n",
        "    upper_limit,\n",
        "    np.where(\n",
        "        data['Admission_Deposit']<lower_limit,\n",
        "        lower_limit,\n",
        "        data['Admission_Deposit']\n",
        "    )\n",
        ")\n",
        "\n",
        "print(\"upper limit\",data['Admission_Deposit'].mean() + 3*data['Admission_Deposit'].std())\n",
        "print(\"lower limit\",data['Admission_Deposit'].mean() - 3*data['Admission_Deposit'].std())\n"
      ]
    },
    {
      "cell_type": "code",
      "execution_count": null,
      "metadata": {
        "id": "bhXnsyy4mO2w",
        "colab": {
          "base_uri": "https://localhost:8080/"
        },
        "outputId": "09d66841-5ded-4417-932b-519f464abfba"
      },
      "outputs": [
        {
          "output_type": "display_data",
          "data": {
            "text/plain": [
              "<Figure size 864x504 with 2 Axes>"
            ],
            "image/png": "[encoded data removed]"
          },
          "metadata": {
            "needs_background": "light"
          }
        }
      ],
      "source": [
        "histogram_boxplot(data, \"Admission_Deposit\", kde=True, bins=30)"
      ]
    },
    {
      "cell_type": "markdown",
      "metadata": {
        "id": "dnawqWwiDGAN"
      },
      "source": [
        "#### **Average_Stay**"
      ]
    },
    {
      "cell_type": "code",
      "execution_count": null,
      "metadata": {
        "id": "zaFuytims4mK",
        "colab": {
          "base_uri": "https://localhost:8080/"
        },
        "outputId": "aef247e5-77e5-4df2-8cc6-34ce235973d8"
      },
      "outputs": [
        {
          "output_type": "display_data",
          "data": {
            "text/plain": [
              "<Figure size 864x504 with 2 Axes>"
            ],
            "image/png": "[encoded data removed]"
          },
          "metadata": {
            "needs_background": "light"
          }
        }
      ],
      "source": [
        "histogram_boxplot(data, \"Average_Stay\", kde=True, bins=30)"
      ]
    },
    {
      "cell_type": "markdown",
      "metadata": {
        "id": "YDwBBE2eDOxo"
      },
      "source": [
        "**Observations:**\n",
        "\n",
        "- The distribution of the number of Average_Stay is **highly skewed towards right**.\n",
        "- There are fewer number of patients staying more than 10 days in the hospital and very few who stay for more than 40 days. This might be because the majority of patients are admitted for moderate or minor illness.\n",
        "- The peak of the distribution shows that the the most of the patients stay for 25-30 days in the hospital. From the Histogram, the outliers are found at the point beyond 60 average stay days\n"
      ]
    },
    {
      "cell_type": "code",
      "execution_count": null,
      "metadata": {
        "id": "vqb8-zhXmO2x",
        "colab": {
          "base_uri": "https://localhost:8080/"
        },
        "outputId": "6f22509a-f4e6-49ce-c71d-7961cb3d109a"
      },
      "outputs": [
        {
          "output_type": "stream",
          "name": "stdout",
          "text": [
            "upper limit 96.53755627117832\n",
            "lower limit -30.077140837472292\n"
          ]
        }
      ],
      "source": [
        "# IQR for Admission Deposit\n",
        "\n",
        "upper_limit = data['Average_Stay'].mean() + 3*data['Average_Stay'].std()\n",
        "lower_limit = data['Average_Stay'].mean() - 3*data['Average_Stay'].std()\n",
        "\n",
        "data['Average_Stay'] = np.where(\n",
        "    data['Average_Stay']>upper_limit,\n",
        "    upper_limit,\n",
        "    np.where(\n",
        "        data['Average_Stay']<lower_limit,\n",
        "        lower_limit,\n",
        "        data['Average_Stay']\n",
        "    )\n",
        ")\n",
        "\n",
        "print(\"upper limit\",data['Average_Stay'].mean() + 3*data['Average_Stay'].std())\n",
        "print(\"lower limit\",data['Average_Stay'].mean() - 3*data['Average_Stay'].std())"
      ]
    },
    {
      "cell_type": "code",
      "execution_count": null,
      "metadata": {
        "id": "ziauowGymO2x",
        "colab": {
          "base_uri": "https://localhost:8080/"
        },
        "outputId": "c1dd4593-7e85-476a-8877-efadd33a74e9"
      },
      "outputs": [
        {
          "output_type": "display_data",
          "data": {
            "text/plain": [
              "<Figure size 864x504 with 2 Axes>"
            ],
            "image/png": "[encoded data removed]"
          },
          "metadata": {
            "needs_background": "light"
          }
        }
      ],
      "source": [
        "histogram_boxplot(data, \"Average_Stay\", kde=True, bins=30)"
      ]
    },
    {
      "cell_type": "code",
      "execution_count": null,
      "metadata": {
        "id": "EXRBKGT4mO2x",
        "colab": {
          "base_uri": "https://localhost:8080/"
        },
        "outputId": "506c4b54-d19d-43da-dc74-befd0d6ad849"
      },
      "outputs": [
        {
          "output_type": "execute_result",
          "data": {
            "text/plain": [
              "count   0.00000\n",
              "mean        NaN\n",
              "std         NaN\n",
              "min         NaN\n",
              "25%         NaN\n",
              "50%         NaN\n",
              "75%         NaN\n",
              "max         NaN\n",
              "Name: Average_Stay, dtype: float64"
            ]
          },
          "metadata": {},
          "execution_count": 37
        }
      ],
      "source": [
        "# Let's check the zscores\n",
        "\n",
        "from scipy import stats\n",
        "data['Average_Stay'] = stats.zscore(data['Average_Stay'])\n",
        "data['Average_Stay'].describe().round(3)"
      ]
    },
    {
      "cell_type": "markdown",
      "metadata": {
        "id": "INvH7TNLmO2x"
      },
      "source": [
        "The scaled results show a mean of 0.000 and a standard deviation of 1.000, indicating that the transformed values fit the z-scale model. The max value of 2 and it's below the z-score limit of +3."
      ]
    },
    {
      "cell_type": "code",
      "execution_count": null,
      "metadata": {
        "id": "Mx71HGaLmO2x",
        "colab": {
          "base_uri": "https://localhost:8080/"
        },
        "outputId": "7e30cf1f-d73b-4b53-f61a-1a9c8c1dd7f2"
      },
      "outputs": [
        {
          "output_type": "execute_result",
          "data": {
            "text/plain": [
              "count   186260.00000\n",
              "mean         0.00000\n",
              "std          1.00000\n",
              "min         -1.44500\n",
              "25%         -0.71500\n",
              "50%          0.25800\n",
              "75%          0.25800\n",
              "max          3.27100\n",
              "Name: City_Code_Patient, dtype: float64"
            ]
          },
          "metadata": {},
          "execution_count": 38
        }
      ],
      "source": [
        "data['City_Code_Patient'] = stats.zscore(data['City_Code_Patient'])\n",
        "data['City_Code_Patient'].describe().round(3)"
      ]
    },
    {
      "cell_type": "markdown",
      "metadata": {
        "id": "uZdQ0EY2mO2x"
      },
      "source": [
        "The scaled results show a mean of 0.000 and a standard deviation of 1.000, indicating that the transformed values fit the z-scale model. The max value of 3 and the z-score limit of +3."
      ]
    },
    {
      "cell_type": "code",
      "execution_count": null,
      "metadata": {
        "id": "W2EwRUbnmO2y",
        "colab": {
          "base_uri": "https://localhost:8080/"
        },
        "outputId": "58d407fe-3bbb-41f8-c43a-c5ecf282e214"
      },
      "outputs": [
        {
          "output_type": "execute_result",
          "data": {
            "text/plain": [
              "count   0.00000\n",
              "mean        NaN\n",
              "std         NaN\n",
              "min         NaN\n",
              "25%         NaN\n",
              "50%         NaN\n",
              "75%         NaN\n",
              "max         NaN\n",
              "Name: Visitors with Patient, dtype: float64"
            ]
          },
          "metadata": {},
          "execution_count": 39
        }
      ],
      "source": [
        "data['Visitors with Patient'] = stats.zscore(data['Visitors with Patient'])\n",
        "data['Visitors with Patient'].describe().round(3)"
      ]
    },
    {
      "cell_type": "markdown",
      "metadata": {
        "id": "XM3NbzOmmO2y"
      },
      "source": [
        "The scaled results show a mean of 0.000 and a standard deviation of 1.000, indicating that the transformed values fit the z-scale model. The max value of 4 this is an indication of the presence of outliers. we can accept this as it's just a little above  the z-score limit of +3."
      ]
    },
    {
      "cell_type": "code",
      "execution_count": null,
      "metadata": {
        "id": "_8s7hNOmmO2y",
        "colab": {
          "base_uri": "https://localhost:8080/"
        },
        "outputId": "a2ca3167-d159-4ab8-9412-8987dcec6645"
      },
      "outputs": [
        {
          "output_type": "execute_result",
          "data": {
            "text/plain": [
              "count   0.00000\n",
              "mean        NaN\n",
              "std         NaN\n",
              "min         NaN\n",
              "25%         NaN\n",
              "50%         NaN\n",
              "75%         NaN\n",
              "max         NaN\n",
              "Name: Admission_Deposit, dtype: float64"
            ]
          },
          "metadata": {},
          "execution_count": 40
        }
      ],
      "source": [
        "data['Admission_Deposit'] = stats.zscore(data['Admission_Deposit'])\n",
        "data['Admission_Deposit'].describe().round(3)"
      ]
    },
    {
      "cell_type": "markdown",
      "metadata": {
        "id": "vUDvvMpcmO2y"
      },
      "source": [
        "The scaled results show a mean of 0.000 and a standard deviation of 1.000, indicating that the transformed values fit the z-scale model. The max value of 2.95 and it's below the z-score limit of +3."
      ]
    },
    {
      "cell_type": "code",
      "execution_count": null,
      "metadata": {
        "id": "LhzO_O54mO2y",
        "colab": {
          "base_uri": "https://localhost:8080/"
        },
        "outputId": "e317b5b3-08e1-49df-c797-62d73a225a35"
      },
      "outputs": [
        {
          "output_type": "execute_result",
          "data": {
            "text/plain": [
              "(186260, 19)"
            ]
          },
          "metadata": {},
          "execution_count": 41
        }
      ],
      "source": [
        "data.shape"
      ]
    },
    {
      "cell_type": "markdown",
      "metadata": {
        "id": "h0jpYW5kmO2y"
      },
      "source": [
        "**Thus, we have been able to remove outliers to a statiscally acceptable range.**"
      ]
    },
    {
      "cell_type": "markdown",
      "metadata": {
        "id": "n5PnzTiBuJA5"
      },
      "source": [
        "### **Bivariate Analysis**"
      ]
    },
    {
      "cell_type": "code",
      "execution_count": null,
      "metadata": {
        "id": "ARmMlB5IO3UQ",
        "colab": {
          "base_uri": "https://localhost:8080/"
        },
        "outputId": "d6d6a467-2717-4154-b12f-8f20adee903d"
      },
      "outputs": [
        {
          "output_type": "execute_result",
          "data": {
            "text/plain": [
              "<matplotlib.axes._subplots.AxesSubplot at 0x7f1a09591ee0>"
            ]
          },
          "metadata": {},
          "execution_count": 42
        },
        {
          "output_type": "display_data",
          "data": {
            "text/plain": [
              "<Figure size 1080x504 with 2 Axes>"
            ],
            "image/png": "[encoded data removed]"
          },
          "metadata": {
            "needs_background": "light"
          }
        }
      ],
      "source": [
        "#finding the correlation between various columns of the dataset\n",
        "import seaborn as sns\n",
        "import matplotlib.pyplot as plt\n",
        "plt.figure(figsize=(15,7))\n",
        "sns.heatmap(data.corr(), annot=True, vmin=-1, vmax=1, fmt=\".2f\",cmap=\"Spectral\")"
      ]
    },
    {
      "cell_type": "markdown",
      "metadata": {
        "id": "VXjMP0xgPHoW"
      },
      "source": [
        "**Observations:** \n",
        "- The heatmap shows that there is **correlation between Average Stay and Visitors with Patient variables**.\n",
        "- Most of the continuous variables shows no correlation with the target variable Stay which indicates that the **categorical variables might be more important for the prediction.**"
      ]
    },
    {
      "cell_type": "code",
      "execution_count": null,
      "metadata": {
        "id": "TbM2637QiV0D"
      },
      "outputs": [],
      "source": [
        "# function to plot stacked bar plots\n",
        "\n",
        "\n",
        "def stacked_barplot(data, predictor, target):\n",
        "    \"\"\"\n",
        "    Print the category counts and plot a stacked bar chart\n",
        "\n",
        "    data: dataframe\n",
        "    predictor: independent variable\n",
        "    target: target variable\n",
        "    \"\"\"\n",
        "    count = data[predictor].nunique()\n",
        "    sorter = data[target].value_counts().index[-1]\n",
        "    tab1 = pd.crosstab(data[predictor], data[target], margins=True).sort_values(\n",
        "        by=sorter, ascending=False\n",
        "    )\n",
        "    print(tab1)\n",
        "    print(\"-\" * 120)\n",
        "    tab = pd.crosstab(data[predictor], data[target], normalize=\"index\").sort_values(\n",
        "        by=sorter, ascending=False\n",
        "    )\n",
        "    tab.plot(kind=\"bar\", stacked=True, figsize=(count + 1, 5))\n",
        "    plt.legend(\n",
        "        loc=\"lower left\",\n",
        "        frameon=False,\n",
        "    )\n",
        "    plt.legend(loc=\"upper left\", bbox_to_anchor=(1, 1))\n",
        "    plt.show()"
      ]
    },
    {
      "cell_type": "markdown",
      "metadata": {
        "id": "_7g781gtwOV2"
      },
      "source": [
        "**Let's start by checking the distribution of the LOS for the various wards**"
      ]
    },
    {
      "cell_type": "code",
      "execution_count": null,
      "metadata": {
        "id": "UH3lFpuU4I6B",
        "colab": {
          "base_uri": "https://localhost:8080/"
        },
        "outputId": "7d60b0ae-a59c-4538-bf31-901a7d4525eb"
      },
      "outputs": [
        {
          "output_type": "stream",
          "name": "stdout",
          "text": [
            "Department          TB & Chest disease  anesthesia  gynecology  radiotherapy  \\\n",
            "Ward_Facility_Code                                                             \n",
            "All                               5497       18154      144443         17370   \n",
            "F                                 2111        7251       50973          5889   \n",
            "C                                  284         496       18565          2743   \n",
            "E                                  913        3904       24558          2525   \n",
            "D                                 1115        3504       22454          3141   \n",
            "B                                  633        1576       15999          1741   \n",
            "A                                  441        1423       11894          1331   \n",
            "\n",
            "Department          surgery     All  \n",
            "Ward_Facility_Code                   \n",
            "All                     796  186260  \n",
            "F                       208   66432  \n",
            "C                       207   22295  \n",
            "E                       143   32043  \n",
            "D                       121   30335  \n",
            "B                        64   20013  \n",
            "A                        53   15142  \n",
            "------------------------------------------------------------------------------------------------------------------------\n"
          ]
        },
        {
          "output_type": "display_data",
          "data": {
            "text/plain": [
              "<Figure size 504x360 with 1 Axes>"
            ],
            "image/png": "[encoded data removed]"
          },
          "metadata": {
            "needs_background": "light"
          }
        }
      ],
      "source": [
        "stacked_barplot(data, \"Ward_Facility_Code\", \"Department\")"
      ]
    },
    {
      "cell_type": "markdown",
      "metadata": {
        "id": "26J9ZLFC4WO7"
      },
      "source": [
        "**Observations:**\n",
        "\n",
        "- **All the Ward Facilities are are mostly used by the gynecology department.**\n",
        "- While all the Wards have patients with all other diseases the Surgery department does not make use of any of the wards for patients undergoing surgery."
      ]
    },
    {
      "cell_type": "code",
      "execution_count": null,
      "metadata": {
        "id": "CQFnGvwVmO2z",
        "colab": {
          "base_uri": "https://localhost:8080/"
        },
        "outputId": "29f5eb10-c6f8-464b-b429-3aa1342adf2a"
      },
      "outputs": [
        {
          "output_type": "stream",
          "name": "stdout",
          "text": [
            "Stay     0-10  11-20  21-30  31-40  41-50  51-60  61-70  71-80  81-90  91-100  \\\n",
            "Age                                                                             \n",
            "All     11807  43053  52740  33037   6918  21841   1650   6429   3060    1727   \n",
            "41-50    2452   8308  10938   6683   1549   4463    320   1318    557     369   \n",
            "31-40    2497   8932  11333   6654   1432   4060    313   1135    497     288   \n",
            "51-60    1751   6475   8067   5216   1028   3630    284   1083    512     313   \n",
            "71-80    1287   5010   6385   4205    872   2951    249    946    462     262   \n",
            "61-70    1245   4755   5777   3694    737   2715    185    771    393     203   \n",
            "21-30    1568   5692   6268   3791    745   2225    149    604    317     140   \n",
            "81-90     267    943   1311   1025    233    729     73    268    142      90   \n",
            "11-20     563   2217   1977   1258    214    718     44    187    121      30   \n",
            "91-100     51    141    172    142     44    113     21     43     17      12   \n",
            "0-10      126    580    512    369     64    237     12     74     42      20   \n",
            "\n",
            "Stay    > 100     All  \n",
            "Age                    \n",
            "All      3997  186259  \n",
            "41-50     730   37687  \n",
            "31-40     607   37748  \n",
            "51-60     702   29061  \n",
            "71-80     701   23330  \n",
            "61-70     551   21026  \n",
            "21-30     317   21816  \n",
            "81-90     205    5286  \n",
            "11-20      98    7427  \n",
            "91-100     30     786  \n",
            "0-10       56    2092  \n",
            "------------------------------------------------------------------------------------------------------------------------\n"
          ]
        },
        {
          "output_type": "display_data",
          "data": {
            "text/plain": [
              "<Figure size 792x360 with 1 Axes>"
            ],
            "image/png": "[encoded data removed]"
          },
          "metadata": {
            "needs_background": "light"
          }
        }
      ],
      "source": [
        "stacked_barplot(data, \"Age\", \"Stay\")     \n",
        "plt.show()"
      ]
    },
    {
      "cell_type": "markdown",
      "metadata": {
        "id": "pmchw-cfmO2z"
      },
      "source": [
        "**Observations :**"
      ]
    },
    {
      "cell_type": "markdown",
      "metadata": {
        "id": "A6ZuSaDOmO2z"
      },
      "source": [
        "- 11 to 40 stay days range are more prominent across all age ranges\n",
        "- Age range 0 to 20 years has the highest stay days of 11 to 20 days\n",
        "- Age range 0 to 10 also has the least stay days of 0 to 10 days"
      ]
    },
    {
      "cell_type": "markdown",
      "metadata": {
        "id": "So2J-eKbxLXE"
      },
      "source": [
        "**Usually, the more severe the illness, the more the LOS, let's check the distribution of severe patients in various wards**"
      ]
    },
    {
      "cell_type": "code",
      "execution_count": null,
      "metadata": {
        "id": "W-_Kr-34iXUp",
        "scrolled": false,
        "colab": {
          "base_uri": "https://localhost:8080/"
        },
        "outputId": "021d869d-9c67-4cbe-cc8d-30d18bb1d4a2"
      },
      "outputs": [
        {
          "output_type": "stream",
          "name": "stdout",
          "text": [
            "Severity of Illness  Ext  Extreme  Minor  Moderate     All\n",
            "Ward_Facility_Code                                        \n",
            "F                      1    12791  15254     38386   66432\n",
            "All                    1    38546  40891    106822  186260\n",
            "A                      0     3233   3210      8699   15142\n",
            "B                      0     4593   4148     11272   20013\n",
            "C                      0     5392   3919     12984   22295\n",
            "D                      0     6565   6481     17289   30335\n",
            "E                      0     5972   7879     18192   32043\n",
            "------------------------------------------------------------------------------------------------------------------------\n"
          ]
        },
        {
          "output_type": "display_data",
          "data": {
            "text/plain": [
              "<Figure size 504x360 with 1 Axes>"
            ],
            "image/png": "[encoded data removed]"
          },
          "metadata": {
            "needs_background": "light"
          }
        }
      ],
      "source": [
        "stacked_barplot(data, \"Ward_Facility_Code\", \"Severity of Illness\")"
      ]
    },
    {
      "cell_type": "markdown",
      "metadata": {
        "id": "KiDH49bWIAJF"
      },
      "source": [
        "**Observations :**\n",
        "\n",
        "- Ward C has the most extreme case and large number of moderate cases as well as the longest length of stay in the hospital. It might require more staff and resources as compared to other wards.\n",
        "- Ward E has a large number of minor cases and Ward E has ."
      ]
    },
    {
      "cell_type": "markdown",
      "metadata": {
        "id": "fTjAF7lA2A9v"
      },
      "source": [
        "## **Data Preparation for Model Building**\n",
        "\n",
        "- Before we proceed to build a model, we'll have to encode categorical features.\n",
        "- Separate the independent variables and dependent Variable.\n",
        "- We'll split the data into train and test to be able to evaluate the model that we train on the training data."
      ]
    },
    {
      "cell_type": "code",
      "execution_count": null,
      "metadata": {
        "id": "yMI86dRpmO20",
        "colab": {
          "base_uri": "https://localhost:8080/"
        },
        "outputId": "bc713553-bed7-4c88-a926-04d39054024e"
      },
      "outputs": [
        {
          "output_type": "execute_result",
          "data": {
            "text/plain": [
              "array(['0-10', '41-50', '31-40', '11-20', '51-60', '21-30', '71-80',\n",
              "       '> 100', '81-90', '61-70', '91-100', nan], dtype=object)"
            ]
          },
          "metadata": {},
          "execution_count": 47
        }
      ],
      "source": [
        "data.Stay.unique()"
      ]
    },
    {
      "cell_type": "code",
      "execution_count": null,
      "metadata": {
        "id": "06gbY-47mO20",
        "colab": {
          "base_uri": "https://localhost:8080/"
        },
        "outputId": "2fd653c1-bf10-4ec2-faa9-b4a4e03ff053"
      },
      "outputs": [
        {
          "output_type": "execute_result",
          "data": {
            "text/plain": [
              "21-30    28.31541\n",
              "11-20    23.11459\n",
              "31-40    17.73713\n",
              "51-60    11.72614\n",
              "0-10      6.33902\n",
              "41-50     3.71418\n",
              "71-80     3.45165\n",
              "> 100     2.14594\n",
              "81-90     1.64287\n",
              "91-100    0.92720\n",
              "61-70     0.88586\n",
              "Name: Stay, dtype: float64"
            ]
          },
          "metadata": {},
          "execution_count": 48
        }
      ],
      "source": [
        "data[\"Stay\"].value_counts(1)*100"
      ]
    },
    {
      "cell_type": "markdown",
      "metadata": {
        "id": "pAcB6ynDmO20"
      },
      "source": [
        "The count shows that the median length of stay (24%) falls between 21-30 and 31-40 days\n",
        "\n",
        "Thus, 0-30 = Short Stay and > 30 = Long Stay"
      ]
    },
    {
      "cell_type": "code",
      "execution_count": null,
      "metadata": {
        "id": "YxRq5P90mO20"
      },
      "outputs": [],
      "source": [
        "#Let's restructure the target vaiable (Stay) to align with the observed categories\n",
        "data['Stay_days'] = data['Stay'].replace({'0-10':'0-30', '11-20':'0-30','21-30':'0-30', '31-40':'> 30',\\\n",
        "                                          '41-50':'> 30', '51-60':'> 30', '71-80':'> 30', '> 100':'> 30',\\\n",
        "                                          '81-90':'> 30', '61-70':'> 30','91-100':'> 30'\n",
        "      })"
      ]
    },
    {
      "cell_type": "code",
      "execution_count": null,
      "metadata": {
        "id": "tIUamY9jmO20",
        "colab": {
          "base_uri": "https://localhost:8080/"
        },
        "outputId": "55486066-eb0f-474c-b0b6-26ae0d439b08"
      },
      "outputs": [
        {
          "output_type": "execute_result",
          "data": {
            "text/plain": [
              "array(['0-30', '> 30', nan], dtype=object)"
            ]
          },
          "metadata": {},
          "execution_count": 50
        }
      ],
      "source": [
        "data.Stay_days.unique()"
      ]
    },
    {
      "cell_type": "code",
      "execution_count": null,
      "metadata": {
        "id": "9ecUqQOnmO20",
        "colab": {
          "base_uri": "https://localhost:8080/"
        },
        "outputId": "071d3b23-31ab-4c2d-92c0-b5f152bde78a"
      },
      "outputs": [
        {
          "output_type": "execute_result",
          "data": {
            "text/plain": [
              "array([0, 1, 2])"
            ]
          },
          "metadata": {},
          "execution_count": 51
        }
      ],
      "source": [
        "# Import label encoder\n",
        "from sklearn import preprocessing\n",
        "\n",
        "# label_encoder object knows how to understand word labels.\n",
        "label_encoder = preprocessing.LabelEncoder()\n",
        "\n",
        "# Encode labels in column 'species'.\n",
        "data['Stay_days']= label_encoder.fit_transform(data['Stay_days'])\n",
        "\n",
        "data['Stay_days'].unique()"
      ]
    },
    {
      "cell_type": "code",
      "execution_count": null,
      "metadata": {
        "id": "abvjQS76mO20",
        "colab": {
          "base_uri": "https://localhost:8080/",
          "height": 409
        },
        "outputId": "93f95721-4650-4cd6-a53f-2e3ef8b16216"
      },
      "outputs": [
        {
          "output_type": "execute_result",
          "data": {
            "text/plain": [
              "   case_id  Hospital_code Hospital_type_code  City_Code_Hospital  \\\n",
              "0        1              8                  c                   3   \n",
              "1        2              2                  c                   5   \n",
              "2        3             10                  e                   1   \n",
              "3        4             26                  b                   2   \n",
              "4        5             26                  b                   2   \n",
              "\n",
              "  Hospital_region_code  Available Extra Rooms in Hospital    Department  \\\n",
              "0                    Z                                  3  radiotherapy   \n",
              "1                    Z                                  2  radiotherapy   \n",
              "2                    X                                  2    anesthesia   \n",
              "3                    Y                                  2  radiotherapy   \n",
              "4                    Y                                  2  radiotherapy   \n",
              "\n",
              "  Ward_Type Ward_Facility_Code  Bed Grade  patientid  City_Code_Patient  \\\n",
              "0         R                  F    2.00000      31397            0.01488   \n",
              "1         S                  F    2.00000      31397            0.01488   \n",
              "2         S                  E    2.00000      31397            0.01488   \n",
              "3         R                  D    2.00000      31397            0.01488   \n",
              "4         S                  D    2.00000      31397            0.01488   \n",
              "\n",
              "  Type of Admission Severity of Illness  Visitors with Patient    Age  \\\n",
              "0         Emergency             Extreme                    NaN  51-60   \n",
              "1            Trauma             Extreme                    NaN  51-60   \n",
              "2            Trauma             Extreme                    NaN  51-60   \n",
              "3            Trauma             Extreme                    NaN  51-60   \n",
              "4            Trauma             Extreme                    NaN  51-60   \n",
              "\n",
              "   Admission_Deposit   Stay  Average_Stay  Stay_days  \n",
              "0                NaN   0-10           NaN          0  \n",
              "1                NaN  41-50           NaN          1  \n",
              "2                NaN  31-40           NaN          1  \n",
              "3                NaN  41-50           NaN          1  \n",
              "4                NaN  41-50           NaN          1  "
            ],
            "text/html": [
              "\n",
              "  <div id=\"df-4a8623ce-b08a-4b58-8733-f6190dbc2a2c\">\n",
              "    <div class=\"colab-df-container\">\n",
              "      <div>\n",
              "<style scoped>\n",
              "    .dataframe tbody tr th:only-of-type {\n",
              "        vertical-align: middle;\n",
              "    }\n",
              "\n",
              "    .dataframe tbody tr th {\n",
              "        vertical-align: top;\n",
              "    }\n",
              "\n",
              "    .dataframe thead th {\n",
              "        text-align: right;\n",
              "    }\n",
              "</style>\n",
              "<table border=\"1\" class=\"dataframe\">\n",
              "  <thead>\n",
              "    <tr style=\"text-align: right;\">\n",
              "      <th></th>\n",
              "      <th>case_id</th>\n",
              "      <th>Hospital_code</th>\n",
              "      <th>Hospital_type_code</th>\n",
              "      <th>City_Code_Hospital</th>\n",
              "      <th>Hospital_region_code</th>\n",
              "      <th>Available Extra Rooms in Hospital</th>\n",
              "      <th>Department</th>\n",
              "      <th>Ward_Type</th>\n",
              "      <th>Ward_Facility_Code</th>\n",
              "      <th>Bed Grade</th>\n",
              "      <th>patientid</th>\n",
              "      <th>City_Code_Patient</th>\n",
              "      <th>Type of Admission</th>\n",
              "      <th>Severity of Illness</th>\n",
              "      <th>Visitors with Patient</th>\n",
              "      <th>Age</th>\n",
              "      <th>Admission_Deposit</th>\n",
              "      <th>Stay</th>\n",
              "      <th>Average_Stay</th>\n",
              "      <th>Stay_days</th>\n",
              "    </tr>\n",
              "  </thead>\n",
              "  <tbody>\n",
              "    <tr>\n",
              "      <th>0</th>\n",
              "      <td>1</td>\n",
              "      <td>8</td>\n",
              "      <td>c</td>\n",
              "      <td>3</td>\n",
              "      <td>Z</td>\n",
              "      <td>3</td>\n",
              "      <td>radiotherapy</td>\n",
              "      <td>R</td>\n",
              "      <td>F</td>\n",
              "      <td>2.00000</td>\n",
              "      <td>31397</td>\n",
              "      <td>0.01488</td>\n",
              "      <td>Emergency</td>\n",
              "      <td>Extreme</td>\n",
              "      <td>NaN</td>\n",
              "      <td>51-60</td>\n",
              "      <td>NaN</td>\n",
              "      <td>0-10</td>\n",
              "      <td>NaN</td>\n",
              "      <td>0</td>\n",
              "    </tr>\n",
              "    <tr>\n",
              "      <th>1</th>\n",
              "      <td>2</td>\n",
              "      <td>2</td>\n",
              "      <td>c</td>\n",
              "      <td>5</td>\n",
              "      <td>Z</td>\n",
              "      <td>2</td>\n",
              "      <td>radiotherapy</td>\n",
              "      <td>S</td>\n",
              "      <td>F</td>\n",
              "      <td>2.00000</td>\n",
              "      <td>31397</td>\n",
              "      <td>0.01488</td>\n",
              "      <td>Trauma</td>\n",
              "      <td>Extreme</td>\n",
              "      <td>NaN</td>\n",
              "      <td>51-60</td>\n",
              "      <td>NaN</td>\n",
              "      <td>41-50</td>\n",
              "      <td>NaN</td>\n",
              "      <td>1</td>\n",
              "    </tr>\n",
              "    <tr>\n",
              "      <th>2</th>\n",
              "      <td>3</td>\n",
              "      <td>10</td>\n",
              "      <td>e</td>\n",
              "      <td>1</td>\n",
              "      <td>X</td>\n",
              "      <td>2</td>\n",
              "      <td>anesthesia</td>\n",
              "      <td>S</td>\n",
              "      <td>E</td>\n",
              "      <td>2.00000</td>\n",
              "      <td>31397</td>\n",
              "      <td>0.01488</td>\n",
              "      <td>Trauma</td>\n",
              "      <td>Extreme</td>\n",
              "      <td>NaN</td>\n",
              "      <td>51-60</td>\n",
              "      <td>NaN</td>\n",
              "      <td>31-40</td>\n",
              "      <td>NaN</td>\n",
              "      <td>1</td>\n",
              "    </tr>\n",
              "    <tr>\n",
              "      <th>3</th>\n",
              "      <td>4</td>\n",
              "      <td>26</td>\n",
              "      <td>b</td>\n",
              "      <td>2</td>\n",
              "      <td>Y</td>\n",
              "      <td>2</td>\n",
              "      <td>radiotherapy</td>\n",
              "      <td>R</td>\n",
              "      <td>D</td>\n",
              "      <td>2.00000</td>\n",
              "      <td>31397</td>\n",
              "      <td>0.01488</td>\n",
              "      <td>Trauma</td>\n",
              "      <td>Extreme</td>\n",
              "      <td>NaN</td>\n",
              "      <td>51-60</td>\n",
              "      <td>NaN</td>\n",
              "      <td>41-50</td>\n",
              "      <td>NaN</td>\n",
              "      <td>1</td>\n",
              "    </tr>\n",
              "    <tr>\n",
              "      <th>4</th>\n",
              "      <td>5</td>\n",
              "      <td>26</td>\n",
              "      <td>b</td>\n",
              "      <td>2</td>\n",
              "      <td>Y</td>\n",
              "      <td>2</td>\n",
              "      <td>radiotherapy</td>\n",
              "      <td>S</td>\n",
              "      <td>D</td>\n",
              "      <td>2.00000</td>\n",
              "      <td>31397</td>\n",
              "      <td>0.01488</td>\n",
              "      <td>Trauma</td>\n",
              "      <td>Extreme</td>\n",
              "      <td>NaN</td>\n",
              "      <td>51-60</td>\n",
              "      <td>NaN</td>\n",
              "      <td>41-50</td>\n",
              "      <td>NaN</td>\n",
              "      <td>1</td>\n",
              "    </tr>\n",
              "  </tbody>\n",
              "</table>\n",
              "</div>\n",
              "      <button class=\"colab-df-convert\" onclick=\"convertToInteractive('df-4a8623ce-b08a-4b58-8733-f6190dbc2a2c')\"\n",
              "              title=\"Convert this dataframe to an interactive table.\"\n",
              "              style=\"display:none;\">\n",
              "        \n",
              "  <svg xmlns=\"http://www.w3.org/2000/svg\" height=\"24px\"viewBox=\"0 0 24 24\"\n",
              "       width=\"24px\">\n",
              "    <path d=\"M0 0h24v24H0V0z\" fill=\"none\"/>\n",
              "    <path d=\"M18.56 5.44l.94 2.06.94-2.06 2.06-.94-2.06-.94-.94-2.06-.94 2.06-2.06.94zm-11 1L8.5 8.5l.94-2.06 2.06-.94-2.06-.94L8.5 2.5l-.94 2.06-2.06.94zm10 10l.94 2.06.94-2.06 2.06-.94-2.06-.94-.94-2.06-.94 2.06-2.06.94z\"/><path d=\"M17.41 7.96l-1.37-1.37c-.4-.4-.92-.59-1.43-.59-.52 0-1.04.2-1.43.59L10.3 9.45l-7.72 7.72c-.78.78-.78 2.05 0 2.83L4 21.41c.39.39.9.59 1.41.59.51 0 1.02-.2 1.41-.59l7.78-7.78 2.81-2.81c.8-.78.8-2.07 0-2.86zM5.41 20L4 18.59l7.72-7.72 1.47 1.35L5.41 20z\"/>\n",
              "  </svg>\n",
              "      </button>\n",
              "      \n",
              "  <style>\n",
              "    .colab-df-container {\n",
              "      display:flex;\n",
              "      flex-wrap:wrap;\n",
              "      gap: 12px;\n",
              "    }\n",
              "\n",
              "    .colab-df-convert {\n",
              "      background-color: #E8F0FE;\n",
              "      border: none;\n",
              "      border-radius: 50%;\n",
              "      cursor: pointer;\n",
              "      display: none;\n",
              "      fill: #1967D2;\n",
              "      height: 32px;\n",
              "      padding: 0 0 0 0;\n",
              "      width: 32px;\n",
              "    }\n",
              "\n",
              "    .colab-df-convert:hover {\n",
              "      background-color: #E2EBFA;\n",
              "      box-shadow: 0px 1px 2px rgba(60, 64, 67, 0.3), 0px 1px 3px 1px rgba(60, 64, 67, 0.15);\n",
              "      fill: #174EA6;\n",
              "    }\n",
              "\n",
              "    [theme=dark] .colab-df-convert {\n",
              "      background-color: #3B4455;\n",
              "      fill: #D2E3FC;\n",
              "    }\n",
              "\n",
              "    [theme=dark] .colab-df-convert:hover {\n",
              "      background-color: #434B5C;\n",
              "      box-shadow: 0px 1px 3px 1px rgba(0, 0, 0, 0.15);\n",
              "      filter: drop-shadow(0px 1px 2px rgba(0, 0, 0, 0.3));\n",
              "      fill: #FFFFFF;\n",
              "    }\n",
              "  </style>\n",
              "\n",
              "      <script>\n",
              "        const buttonEl =\n",
              "          document.querySelector('#df-4a8623ce-b08a-4b58-8733-f6190dbc2a2c button.colab-df-convert');\n",
              "        buttonEl.style.display =\n",
              "          google.colab.kernel.accessAllowed ? 'block' : 'none';\n",
              "\n",
              "        async function convertToInteractive(key) {\n",
              "          const element = document.querySelector('#df-4a8623ce-b08a-4b58-8733-f6190dbc2a2c');\n",
              "          const dataTable =\n",
              "            await google.colab.kernel.invokeFunction('convertToInteractive',\n",
              "                                                     [key], {});\n",
              "          if (!dataTable) return;\n",
              "\n",
              "          const docLinkHtml = 'Like what you see? Visit the ' +\n",
              "            '<a target=\"_blank\" href=https://colab.research.google.com/notebooks/data_table.ipynb>data table notebook</a>'\n",
              "            + ' to learn more about interactive tables.';\n",
              "          element.innerHTML = '';\n",
              "          dataTable['output_type'] = 'display_data';\n",
              "          await google.colab.output.renderOutput(dataTable, element);\n",
              "          const docLink = document.createElement('div');\n",
              "          docLink.innerHTML = docLinkHtml;\n",
              "          element.appendChild(docLink);\n",
              "        }\n",
              "      </script>\n",
              "    </div>\n",
              "  </div>\n",
              "  "
            ]
          },
          "metadata": {},
          "execution_count": 52
        }
      ],
      "source": [
        "data.head()"
      ]
    },
    {
      "cell_type": "code",
      "execution_count": null,
      "metadata": {
        "id": "N4DgwUS5mO21"
      },
      "outputs": [],
      "source": [
        "#Dropping patientid and case_id from the data as it is an identifier and will not add value to the analysis\n",
        "X_drop = data.drop([],axis=1)\n",
        "X_drop = data.drop(['Stay','case_id', 'patientid', 'Average_Stay', 'Stay_days' ], axis=1)\n",
        "\n",
        "#Separating independent variables and the target variable\n",
        "y=data['Stay_days']"
      ]
    },
    {
      "cell_type": "code",
      "execution_count": null,
      "metadata": {
        "id": "LpM8blQKmO21"
      },
      "outputs": [],
      "source": [
        "# Creating dummy variables for the categorical columns\n",
        "#drop_first=True is used to avoid redundant variables\n",
        "X = pd.get_dummies(\n",
        "    X_drop,\n",
        "    columns=X_drop.select_dtypes(include=[\"object\", \"category\"]).columns.tolist(),\n",
        "    drop_first=True,\n",
        ")"
      ]
    },
    {
      "cell_type": "code",
      "execution_count": null,
      "metadata": {
        "id": "UvwEZBBTmO21",
        "colab": {
          "base_uri": "https://localhost:8080/",
          "height": 322
        },
        "outputId": "38c27806-8c7d-4d3d-df42-f1a6c48b84b6"
      },
      "outputs": [
        {
          "output_type": "execute_result",
          "data": {
            "text/plain": [
              "   Hospital_code  City_Code_Hospital  Available Extra Rooms in Hospital  \\\n",
              "0              8                   3                                  3   \n",
              "1              2                   5                                  2   \n",
              "2             10                   1                                  2   \n",
              "3             26                   2                                  2   \n",
              "4             26                   2                                  2   \n",
              "\n",
              "   Bed Grade  City_Code_Patient  Visitors with Patient  Admission_Deposit  \\\n",
              "0    2.00000            0.01488                    NaN                NaN   \n",
              "1    2.00000            0.01488                    NaN                NaN   \n",
              "2    2.00000            0.01488                    NaN                NaN   \n",
              "3    2.00000            0.01488                    NaN                NaN   \n",
              "4    2.00000            0.01488                    NaN                NaN   \n",
              "\n",
              "   Hospital_type_code_b  Hospital_type_code_c  Hospital_type_code_d  \\\n",
              "0                     0                     1                     0   \n",
              "1                     0                     1                     0   \n",
              "2                     0                     0                     0   \n",
              "3                     1                     0                     0   \n",
              "4                     1                     0                     0   \n",
              "\n",
              "   Hospital_type_code_e  Hospital_type_code_f  Hospital_type_code_g  \\\n",
              "0                     0                     0                     0   \n",
              "1                     0                     0                     0   \n",
              "2                     1                     0                     0   \n",
              "3                     0                     0                     0   \n",
              "4                     0                     0                     0   \n",
              "\n",
              "   Hospital_region_code_Y  Hospital_region_code_Z  Department_anesthesia  \\\n",
              "0                       0                       1                      0   \n",
              "1                       0                       1                      0   \n",
              "2                       0                       0                      1   \n",
              "3                       1                       0                      0   \n",
              "4                       1                       0                      0   \n",
              "\n",
              "   Department_gynecology  Department_radiotherapy  Department_surgery  \\\n",
              "0                      0                        1                   0   \n",
              "1                      0                        1                   0   \n",
              "2                      0                        0                   0   \n",
              "3                      0                        1                   0   \n",
              "4                      0                        1                   0   \n",
              "\n",
              "   Ward_Type_Q  Ward_Type_R  Ward_Type_S  Ward_Type_T  Ward_Type_U  \\\n",
              "0            0            1            0            0            0   \n",
              "1            0            0            1            0            0   \n",
              "2            0            0            1            0            0   \n",
              "3            0            1            0            0            0   \n",
              "4            0            0            1            0            0   \n",
              "\n",
              "   Ward_Facility_Code_B  Ward_Facility_Code_C  Ward_Facility_Code_D  \\\n",
              "0                     0                     0                     0   \n",
              "1                     0                     0                     0   \n",
              "2                     0                     0                     0   \n",
              "3                     0                     0                     1   \n",
              "4                     0                     0                     1   \n",
              "\n",
              "   Ward_Facility_Code_E  Ward_Facility_Code_F  Type of Admission_Trauma  \\\n",
              "0                     0                     1                         0   \n",
              "1                     0                     1                         1   \n",
              "2                     1                     0                         1   \n",
              "3                     0                     0                         1   \n",
              "4                     0                     0                         1   \n",
              "\n",
              "   Type of Admission_Urgent  Severity of Illness_Extreme  \\\n",
              "0                         0                            1   \n",
              "1                         0                            1   \n",
              "2                         0                            1   \n",
              "3                         0                            1   \n",
              "4                         0                            1   \n",
              "\n",
              "   Severity of Illness_Minor  Severity of Illness_Moderate  Age_11-20  \\\n",
              "0                          0                             0          0   \n",
              "1                          0                             0          0   \n",
              "2                          0                             0          0   \n",
              "3                          0                             0          0   \n",
              "4                          0                             0          0   \n",
              "\n",
              "   Age_21-30  Age_31-40  Age_41-50  Age_51-60  Age_61-70  Age_71-80  \\\n",
              "0          0          0          0          1          0          0   \n",
              "1          0          0          0          1          0          0   \n",
              "2          0          0          0          1          0          0   \n",
              "3          0          0          0          1          0          0   \n",
              "4          0          0          0          1          0          0   \n",
              "\n",
              "   Age_81-90  Age_91-100  \n",
              "0          0           0  \n",
              "1          0           0  \n",
              "2          0           0  \n",
              "3          0           0  \n",
              "4          0           0  "
            ],
            "text/html": [
              "\n",
              "  <div id=\"df-0544d437-0a23-4711-949e-17d3ccfb19ed\">\n",
              "    <div class=\"colab-df-container\">\n",
              "      <div>\n",
              "<style scoped>\n",
              "    .dataframe tbody tr th:only-of-type {\n",
              "        vertical-align: middle;\n",
              "    }\n",
              "\n",
              "    .dataframe tbody tr th {\n",
              "        vertical-align: top;\n",
              "    }\n",
              "\n",
              "    .dataframe thead th {\n",
              "        text-align: right;\n",
              "    }\n",
              "</style>\n",
              "<table border=\"1\" class=\"dataframe\">\n",
              "  <thead>\n",
              "    <tr style=\"text-align: right;\">\n",
              "      <th></th>\n",
              "      <th>Hospital_code</th>\n",
              "      <th>City_Code_Hospital</th>\n",
              "      <th>Available Extra Rooms in Hospital</th>\n",
              "      <th>Bed Grade</th>\n",
              "      <th>City_Code_Patient</th>\n",
              "      <th>Visitors with Patient</th>\n",
              "      <th>Admission_Deposit</th>\n",
              "      <th>Hospital_type_code_b</th>\n",
              "      <th>Hospital_type_code_c</th>\n",
              "      <th>Hospital_type_code_d</th>\n",
              "      <th>Hospital_type_code_e</th>\n",
              "      <th>Hospital_type_code_f</th>\n",
              "      <th>Hospital_type_code_g</th>\n",
              "      <th>Hospital_region_code_Y</th>\n",
              "      <th>Hospital_region_code_Z</th>\n",
              "      <th>Department_anesthesia</th>\n",
              "      <th>Department_gynecology</th>\n",
              "      <th>Department_radiotherapy</th>\n",
              "      <th>Department_surgery</th>\n",
              "      <th>Ward_Type_Q</th>\n",
              "      <th>Ward_Type_R</th>\n",
              "      <th>Ward_Type_S</th>\n",
              "      <th>Ward_Type_T</th>\n",
              "      <th>Ward_Type_U</th>\n",
              "      <th>Ward_Facility_Code_B</th>\n",
              "      <th>Ward_Facility_Code_C</th>\n",
              "      <th>Ward_Facility_Code_D</th>\n",
              "      <th>Ward_Facility_Code_E</th>\n",
              "      <th>Ward_Facility_Code_F</th>\n",
              "      <th>Type of Admission_Trauma</th>\n",
              "      <th>Type of Admission_Urgent</th>\n",
              "      <th>Severity of Illness_Extreme</th>\n",
              "      <th>Severity of Illness_Minor</th>\n",
              "      <th>Severity of Illness_Moderate</th>\n",
              "      <th>Age_11-20</th>\n",
              "      <th>Age_21-30</th>\n",
              "      <th>Age_31-40</th>\n",
              "      <th>Age_41-50</th>\n",
              "      <th>Age_51-60</th>\n",
              "      <th>Age_61-70</th>\n",
              "      <th>Age_71-80</th>\n",
              "      <th>Age_81-90</th>\n",
              "      <th>Age_91-100</th>\n",
              "    </tr>\n",
              "  </thead>\n",
              "  <tbody>\n",
              "    <tr>\n",
              "      <th>0</th>\n",
              "      <td>8</td>\n",
              "      <td>3</td>\n",
              "      <td>3</td>\n",
              "      <td>2.00000</td>\n",
              "      <td>0.01488</td>\n",
              "      <td>NaN</td>\n",
              "      <td>NaN</td>\n",
              "      <td>0</td>\n",
              "      <td>1</td>\n",
              "      <td>0</td>\n",
              "      <td>0</td>\n",
              "      <td>0</td>\n",
              "      <td>0</td>\n",
              "      <td>0</td>\n",
              "      <td>1</td>\n",
              "      <td>0</td>\n",
              "      <td>0</td>\n",
              "      <td>1</td>\n",
              "      <td>0</td>\n",
              "      <td>0</td>\n",
              "      <td>1</td>\n",
              "      <td>0</td>\n",
              "      <td>0</td>\n",
              "      <td>0</td>\n",
              "      <td>0</td>\n",
              "      <td>0</td>\n",
              "      <td>0</td>\n",
              "      <td>0</td>\n",
              "      <td>1</td>\n",
              "      <td>0</td>\n",
              "      <td>0</td>\n",
              "      <td>1</td>\n",
              "      <td>0</td>\n",
              "      <td>0</td>\n",
              "      <td>0</td>\n",
              "      <td>0</td>\n",
              "      <td>0</td>\n",
              "      <td>0</td>\n",
              "      <td>1</td>\n",
              "      <td>0</td>\n",
              "      <td>0</td>\n",
              "      <td>0</td>\n",
              "      <td>0</td>\n",
              "    </tr>\n",
              "    <tr>\n",
              "      <th>1</th>\n",
              "      <td>2</td>\n",
              "      <td>5</td>\n",
              "      <td>2</td>\n",
              "      <td>2.00000</td>\n",
              "      <td>0.01488</td>\n",
              "      <td>NaN</td>\n",
              "      <td>NaN</td>\n",
              "      <td>0</td>\n",
              "      <td>1</td>\n",
              "      <td>0</td>\n",
              "      <td>0</td>\n",
              "      <td>0</td>\n",
              "      <td>0</td>\n",
              "      <td>0</td>\n",
              "      <td>1</td>\n",
              "      <td>0</td>\n",
              "      <td>0</td>\n",
              "      <td>1</td>\n",
              "      <td>0</td>\n",
              "      <td>0</td>\n",
              "      <td>0</td>\n",
              "      <td>1</td>\n",
              "      <td>0</td>\n",
              "      <td>0</td>\n",
              "      <td>0</td>\n",
              "      <td>0</td>\n",
              "      <td>0</td>\n",
              "      <td>0</td>\n",
              "      <td>1</td>\n",
              "      <td>1</td>\n",
              "      <td>0</td>\n",
              "      <td>1</td>\n",
              "      <td>0</td>\n",
              "      <td>0</td>\n",
              "      <td>0</td>\n",
              "      <td>0</td>\n",
              "      <td>0</td>\n",
              "      <td>0</td>\n",
              "      <td>1</td>\n",
              "      <td>0</td>\n",
              "      <td>0</td>\n",
              "      <td>0</td>\n",
              "      <td>0</td>\n",
              "    </tr>\n",
              "    <tr>\n",
              "      <th>2</th>\n",
              "      <td>10</td>\n",
              "      <td>1</td>\n",
              "      <td>2</td>\n",
              "      <td>2.00000</td>\n",
              "      <td>0.01488</td>\n",
              "      <td>NaN</td>\n",
              "      <td>NaN</td>\n",
              "      <td>0</td>\n",
              "      <td>0</td>\n",
              "      <td>0</td>\n",
              "      <td>1</td>\n",
              "      <td>0</td>\n",
              "      <td>0</td>\n",
              "      <td>0</td>\n",
              "      <td>0</td>\n",
              "      <td>1</td>\n",
              "      <td>0</td>\n",
              "      <td>0</td>\n",
              "      <td>0</td>\n",
              "      <td>0</td>\n",
              "      <td>0</td>\n",
              "      <td>1</td>\n",
              "      <td>0</td>\n",
              "      <td>0</td>\n",
              "      <td>0</td>\n",
              "      <td>0</td>\n",
              "      <td>0</td>\n",
              "      <td>1</td>\n",
              "      <td>0</td>\n",
              "      <td>1</td>\n",
              "      <td>0</td>\n",
              "      <td>1</td>\n",
              "      <td>0</td>\n",
              "      <td>0</td>\n",
              "      <td>0</td>\n",
              "      <td>0</td>\n",
              "      <td>0</td>\n",
              "      <td>0</td>\n",
              "      <td>1</td>\n",
              "      <td>0</td>\n",
              "      <td>0</td>\n",
              "      <td>0</td>\n",
              "      <td>0</td>\n",
              "    </tr>\n",
              "    <tr>\n",
              "      <th>3</th>\n",
              "      <td>26</td>\n",
              "      <td>2</td>\n",
              "      <td>2</td>\n",
              "      <td>2.00000</td>\n",
              "      <td>0.01488</td>\n",
              "      <td>NaN</td>\n",
              "      <td>NaN</td>\n",
              "      <td>1</td>\n",
              "      <td>0</td>\n",
              "      <td>0</td>\n",
              "      <td>0</td>\n",
              "      <td>0</td>\n",
              "      <td>0</td>\n",
              "      <td>1</td>\n",
              "      <td>0</td>\n",
              "      <td>0</td>\n",
              "      <td>0</td>\n",
              "      <td>1</td>\n",
              "      <td>0</td>\n",
              "      <td>0</td>\n",
              "      <td>1</td>\n",
              "      <td>0</td>\n",
              "      <td>0</td>\n",
              "      <td>0</td>\n",
              "      <td>0</td>\n",
              "      <td>0</td>\n",
              "      <td>1</td>\n",
              "      <td>0</td>\n",
              "      <td>0</td>\n",
              "      <td>1</td>\n",
              "      <td>0</td>\n",
              "      <td>1</td>\n",
              "      <td>0</td>\n",
              "      <td>0</td>\n",
              "      <td>0</td>\n",
              "      <td>0</td>\n",
              "      <td>0</td>\n",
              "      <td>0</td>\n",
              "      <td>1</td>\n",
              "      <td>0</td>\n",
              "      <td>0</td>\n",
              "      <td>0</td>\n",
              "      <td>0</td>\n",
              "    </tr>\n",
              "    <tr>\n",
              "      <th>4</th>\n",
              "      <td>26</td>\n",
              "      <td>2</td>\n",
              "      <td>2</td>\n",
              "      <td>2.00000</td>\n",
              "      <td>0.01488</td>\n",
              "      <td>NaN</td>\n",
              "      <td>NaN</td>\n",
              "      <td>1</td>\n",
              "      <td>0</td>\n",
              "      <td>0</td>\n",
              "      <td>0</td>\n",
              "      <td>0</td>\n",
              "      <td>0</td>\n",
              "      <td>1</td>\n",
              "      <td>0</td>\n",
              "      <td>0</td>\n",
              "      <td>0</td>\n",
              "      <td>1</td>\n",
              "      <td>0</td>\n",
              "      <td>0</td>\n",
              "      <td>0</td>\n",
              "      <td>1</td>\n",
              "      <td>0</td>\n",
              "      <td>0</td>\n",
              "      <td>0</td>\n",
              "      <td>0</td>\n",
              "      <td>1</td>\n",
              "      <td>0</td>\n",
              "      <td>0</td>\n",
              "      <td>1</td>\n",
              "      <td>0</td>\n",
              "      <td>1</td>\n",
              "      <td>0</td>\n",
              "      <td>0</td>\n",
              "      <td>0</td>\n",
              "      <td>0</td>\n",
              "      <td>0</td>\n",
              "      <td>0</td>\n",
              "      <td>1</td>\n",
              "      <td>0</td>\n",
              "      <td>0</td>\n",
              "      <td>0</td>\n",
              "      <td>0</td>\n",
              "    </tr>\n",
              "  </tbody>\n",
              "</table>\n",
              "</div>\n",
              "      <button class=\"colab-df-convert\" onclick=\"convertToInteractive('df-0544d437-0a23-4711-949e-17d3ccfb19ed')\"\n",
              "              title=\"Convert this dataframe to an interactive table.\"\n",
              "              style=\"display:none;\">\n",
              "        \n",
              "  <svg xmlns=\"http://www.w3.org/2000/svg\" height=\"24px\"viewBox=\"0 0 24 24\"\n",
              "       width=\"24px\">\n",
              "    <path d=\"M0 0h24v24H0V0z\" fill=\"none\"/>\n",
              "    <path d=\"M18.56 5.44l.94 2.06.94-2.06 2.06-.94-2.06-.94-.94-2.06-.94 2.06-2.06.94zm-11 1L8.5 8.5l.94-2.06 2.06-.94-2.06-.94L8.5 2.5l-.94 2.06-2.06.94zm10 10l.94 2.06.94-2.06 2.06-.94-2.06-.94-.94-2.06-.94 2.06-2.06.94z\"/><path d=\"M17.41 7.96l-1.37-1.37c-.4-.4-.92-.59-1.43-.59-.52 0-1.04.2-1.43.59L10.3 9.45l-7.72 7.72c-.78.78-.78 2.05 0 2.83L4 21.41c.39.39.9.59 1.41.59.51 0 1.02-.2 1.41-.59l7.78-7.78 2.81-2.81c.8-.78.8-2.07 0-2.86zM5.41 20L4 18.59l7.72-7.72 1.47 1.35L5.41 20z\"/>\n",
              "  </svg>\n",
              "      </button>\n",
              "      \n",
              "  <style>\n",
              "    .colab-df-container {\n",
              "      display:flex;\n",
              "      flex-wrap:wrap;\n",
              "      gap: 12px;\n",
              "    }\n",
              "\n",
              "    .colab-df-convert {\n",
              "      background-color: #E8F0FE;\n",
              "      border: none;\n",
              "      border-radius: 50%;\n",
              "      cursor: pointer;\n",
              "      display: none;\n",
              "      fill: #1967D2;\n",
              "      height: 32px;\n",
              "      padding: 0 0 0 0;\n",
              "      width: 32px;\n",
              "    }\n",
              "\n",
              "    .colab-df-convert:hover {\n",
              "      background-color: #E2EBFA;\n",
              "      box-shadow: 0px 1px 2px rgba(60, 64, 67, 0.3), 0px 1px 3px 1px rgba(60, 64, 67, 0.15);\n",
              "      fill: #174EA6;\n",
              "    }\n",
              "\n",
              "    [theme=dark] .colab-df-convert {\n",
              "      background-color: #3B4455;\n",
              "      fill: #D2E3FC;\n",
              "    }\n",
              "\n",
              "    [theme=dark] .colab-df-convert:hover {\n",
              "      background-color: #434B5C;\n",
              "      box-shadow: 0px 1px 3px 1px rgba(0, 0, 0, 0.15);\n",
              "      filter: drop-shadow(0px 1px 2px rgba(0, 0, 0, 0.3));\n",
              "      fill: #FFFFFF;\n",
              "    }\n",
              "  </style>\n",
              "\n",
              "      <script>\n",
              "        const buttonEl =\n",
              "          document.querySelector('#df-0544d437-0a23-4711-949e-17d3ccfb19ed button.colab-df-convert');\n",
              "        buttonEl.style.display =\n",
              "          google.colab.kernel.accessAllowed ? 'block' : 'none';\n",
              "\n",
              "        async function convertToInteractive(key) {\n",
              "          const element = document.querySelector('#df-0544d437-0a23-4711-949e-17d3ccfb19ed');\n",
              "          const dataTable =\n",
              "            await google.colab.kernel.invokeFunction('convertToInteractive',\n",
              "                                                     [key], {});\n",
              "          if (!dataTable) return;\n",
              "\n",
              "          const docLinkHtml = 'Like what you see? Visit the ' +\n",
              "            '<a target=\"_blank\" href=https://colab.research.google.com/notebooks/data_table.ipynb>data table notebook</a>'\n",
              "            + ' to learn more about interactive tables.';\n",
              "          element.innerHTML = '';\n",
              "          dataTable['output_type'] = 'display_data';\n",
              "          await google.colab.output.renderOutput(dataTable, element);\n",
              "          const docLink = document.createElement('div');\n",
              "          docLink.innerHTML = docLinkHtml;\n",
              "          element.appendChild(docLink);\n",
              "        }\n",
              "      </script>\n",
              "    </div>\n",
              "  </div>\n",
              "  "
            ]
          },
          "metadata": {},
          "execution_count": 60
        }
      ],
      "source": [
        "X.head()"
      ]
    },
    {
      "cell_type": "code",
      "source": [
        "X.shape"
      ],
      "metadata": {
        "colab": {
          "base_uri": "https://localhost:8080/"
        },
        "id": "-jIJmEGxppYX",
        "outputId": "03ebbd0e-7810-4196-8987-48c1926dc8d5"
      },
      "execution_count": null,
      "outputs": [
        {
          "output_type": "execute_result",
          "data": {
            "text/plain": [
              "(186260, 43)"
            ]
          },
          "metadata": {},
          "execution_count": 58
        }
      ]
    },
    {
      "cell_type": "code",
      "execution_count": null,
      "metadata": {
        "id": "64GD5quVmO21",
        "colab": {
          "base_uri": "https://localhost:8080/",
          "height": 381
        },
        "outputId": "b124c21f-9892-4bef-8ab4-6ca27b9ae069"
      },
      "outputs": [
        {
          "output_type": "error",
          "ename": "ValueError",
          "evalue": "ignored",
          "traceback": [
            "\u001b[0;31m---------------------------------------------------------------------------\u001b[0m",
            "\u001b[0;31mValueError\u001b[0m                                Traceback (most recent call last)",
            "\u001b[0;32m<ipython-input-57-70707792a470>\u001b[0m in \u001b[0;36m<module>\u001b[0;34m\u001b[0m\n\u001b[1;32m      2\u001b[0m \u001b[0mscaler\u001b[0m \u001b[0;34m=\u001b[0m \u001b[0mMinMaxScaler\u001b[0m\u001b[0;34m(\u001b[0m\u001b[0;34m)\u001b[0m\u001b[0;34m\u001b[0m\u001b[0;34m\u001b[0m\u001b[0m\n\u001b[1;32m      3\u001b[0m \u001b[0mX_scaled\u001b[0m \u001b[0;34m=\u001b[0m \u001b[0mscaler\u001b[0m\u001b[0;34m.\u001b[0m\u001b[0mfit_transform\u001b[0m\u001b[0;34m(\u001b[0m\u001b[0mX\u001b[0m\u001b[0;34m)\u001b[0m\u001b[0;34m\u001b[0m\u001b[0;34m\u001b[0m\u001b[0m\n\u001b[0;32m----> 4\u001b[0;31m X_scaled = pd.DataFrame(X_scaled, columns=[\n\u001b[0m\u001b[1;32m      5\u001b[0m        \u001b[0;34m'Hospital_code'\u001b[0m\u001b[0;34m,\u001b[0m \u001b[0;34m'City_Code_Hospital'\u001b[0m\u001b[0;34m,\u001b[0m\u001b[0;34m\u001b[0m\u001b[0;34m\u001b[0m\u001b[0m\n\u001b[1;32m      6\u001b[0m        \u001b[0;34m'Available Extra Rooms in Hospital'\u001b[0m\u001b[0;34m,\u001b[0m \u001b[0;34m'Bed Grade'\u001b[0m\u001b[0;34m,\u001b[0m \u001b[0;34m'City_Code_Patient'\u001b[0m\u001b[0;34m,\u001b[0m\u001b[0;34m\u001b[0m\u001b[0;34m\u001b[0m\u001b[0m\n",
            "\u001b[0;32m/usr/local/lib/python3.8/dist-packages/pandas/core/frame.py\u001b[0m in \u001b[0;36m__init__\u001b[0;34m(self, data, index, columns, dtype, copy)\u001b[0m\n\u001b[1;32m    670\u001b[0m                 )\n\u001b[1;32m    671\u001b[0m             \u001b[0;32melse\u001b[0m\u001b[0;34m:\u001b[0m\u001b[0;34m\u001b[0m\u001b[0;34m\u001b[0m\u001b[0m\n\u001b[0;32m--> 672\u001b[0;31m                 mgr = ndarray_to_mgr(\n\u001b[0m\u001b[1;32m    673\u001b[0m                     \u001b[0mdata\u001b[0m\u001b[0;34m,\u001b[0m\u001b[0;34m\u001b[0m\u001b[0;34m\u001b[0m\u001b[0m\n\u001b[1;32m    674\u001b[0m                     \u001b[0mindex\u001b[0m\u001b[0;34m,\u001b[0m\u001b[0;34m\u001b[0m\u001b[0;34m\u001b[0m\u001b[0m\n",
            "\u001b[0;32m/usr/local/lib/python3.8/dist-packages/pandas/core/internals/construction.py\u001b[0m in \u001b[0;36mndarray_to_mgr\u001b[0;34m(values, index, columns, dtype, copy, typ)\u001b[0m\n\u001b[1;32m    322\u001b[0m     )\n\u001b[1;32m    323\u001b[0m \u001b[0;34m\u001b[0m\u001b[0m\n\u001b[0;32m--> 324\u001b[0;31m     \u001b[0m_check_values_indices_shape_match\u001b[0m\u001b[0;34m(\u001b[0m\u001b[0mvalues\u001b[0m\u001b[0;34m,\u001b[0m \u001b[0mindex\u001b[0m\u001b[0;34m,\u001b[0m \u001b[0mcolumns\u001b[0m\u001b[0;34m)\u001b[0m\u001b[0;34m\u001b[0m\u001b[0;34m\u001b[0m\u001b[0m\n\u001b[0m\u001b[1;32m    325\u001b[0m \u001b[0;34m\u001b[0m\u001b[0m\n\u001b[1;32m    326\u001b[0m     \u001b[0;32mif\u001b[0m \u001b[0mtyp\u001b[0m \u001b[0;34m==\u001b[0m \u001b[0;34m\"array\"\u001b[0m\u001b[0;34m:\u001b[0m\u001b[0;34m\u001b[0m\u001b[0;34m\u001b[0m\u001b[0m\n",
            "\u001b[0;32m/usr/local/lib/python3.8/dist-packages/pandas/core/internals/construction.py\u001b[0m in \u001b[0;36m_check_values_indices_shape_match\u001b[0;34m(values, index, columns)\u001b[0m\n\u001b[1;32m    391\u001b[0m         \u001b[0mpassed\u001b[0m \u001b[0;34m=\u001b[0m \u001b[0mvalues\u001b[0m\u001b[0;34m.\u001b[0m\u001b[0mshape\u001b[0m\u001b[0;34m\u001b[0m\u001b[0;34m\u001b[0m\u001b[0m\n\u001b[1;32m    392\u001b[0m         \u001b[0mimplied\u001b[0m \u001b[0;34m=\u001b[0m \u001b[0;34m(\u001b[0m\u001b[0mlen\u001b[0m\u001b[0;34m(\u001b[0m\u001b[0mindex\u001b[0m\u001b[0;34m)\u001b[0m\u001b[0;34m,\u001b[0m \u001b[0mlen\u001b[0m\u001b[0;34m(\u001b[0m\u001b[0mcolumns\u001b[0m\u001b[0;34m)\u001b[0m\u001b[0;34m)\u001b[0m\u001b[0;34m\u001b[0m\u001b[0;34m\u001b[0m\u001b[0m\n\u001b[0;32m--> 393\u001b[0;31m         \u001b[0;32mraise\u001b[0m \u001b[0mValueError\u001b[0m\u001b[0;34m(\u001b[0m\u001b[0;34mf\"Shape of passed values is {passed}, indices imply {implied}\"\u001b[0m\u001b[0;34m)\u001b[0m\u001b[0;34m\u001b[0m\u001b[0;34m\u001b[0m\u001b[0m\n\u001b[0m\u001b[1;32m    394\u001b[0m \u001b[0;34m\u001b[0m\u001b[0m\n\u001b[1;32m    395\u001b[0m \u001b[0;34m\u001b[0m\u001b[0m\n",
            "\u001b[0;31mValueError\u001b[0m: Shape of passed values is (186260, 43), indices imply (186260, 42)"
          ]
        }
      ],
      "source": [
        "from sklearn.preprocessing import MinMaxScaler\n",
        "scaler = MinMaxScaler()\n",
        "X_scaled = scaler.fit_transform(X)\n",
        "X_scaled = pd.DataFrame(X_scaled, columns=[\n",
        "       'Hospital_code', 'City_Code_Hospital',\n",
        "       'Available Extra Rooms in Hospital', 'Bed Grade', 'City_Code_Patient',\n",
        "       'Visitors with Patient', 'Admission_Deposit', 'Hospital_type_code_b',\n",
        "       'Hospital_type_code_c', 'Hospital_type_code_d', 'Hospital_type_code_e',\n",
        "       'Hospital_type_code_f', 'Hospital_type_code_g',\n",
        "       'Hospital_region_code_Y', 'Hospital_region_code_Z',\n",
        "       'Department_anesthesia', 'Department_gynecology',\n",
        "       'Department_radiotherapy', 'Department_surgery', 'Ward_Type_Q',\n",
        "       'Ward_Type_R', 'Ward_Type_S', 'Ward_Type_T', 'Ward_Type_U',\n",
        "       'Ward_Facility_Code_B', 'Ward_Facility_Code_C', 'Ward_Facility_Code_D',\n",
        "       'Ward_Facility_Code_E', 'Ward_Facility_Code_F',\n",
        "       'Type of Admission_Trauma', 'Type of Admission_Urgent',\n",
        "       'Severity of Illness_Minor', 'Severity of Illness_Moderate',\n",
        "       'Age_11-20', 'Age_21-30', 'Age_31-40', 'Age_41-50', 'Age_51-60',\n",
        "       'Age_61-70', 'Age_71-80', 'Age_81-90', 'Age_91-100'])\n"
      ]
    },
    {
      "cell_type": "code",
      "execution_count": null,
      "metadata": {
        "id": "x1cvrFmAmO21"
      },
      "outputs": [],
      "source": [
        "X_scaled.head()"
      ]
    },
    {
      "cell_type": "markdown",
      "metadata": {
        "id": "wcGa1KrUmO21"
      },
      "source": [
        "#### BALANCING THE DATASET"
      ]
    },
    {
      "cell_type": "code",
      "execution_count": null,
      "metadata": {
        "id": "Dwniau90mO21"
      },
      "outputs": [],
      "source": [
        "from imblearn.over_sampling import SMOTE\n",
        "\n",
        "#SMOTE\n",
        "smote_os = SMOTE(random_state = 42)\n",
        "X_scaled, y = smote_os.fit_resample(X, y)"
      ]
    },
    {
      "cell_type": "code",
      "execution_count": null,
      "metadata": {
        "id": "IjV8LEdEmO21"
      },
      "outputs": [],
      "source": [
        "pd.Series(y).value_counts()"
      ]
    },
    {
      "cell_type": "code",
      "execution_count": null,
      "metadata": {
        "id": "iSY4HGe0mO21"
      },
      "outputs": [],
      "source": [
        "# SEPARATE DATA\n",
        "X_train, X_test, y_train, y_test = train_test_split(X_scaled, y, test_size=0.20, random_state=1, stratify=y)"
      ]
    },
    {
      "cell_type": "markdown",
      "metadata": {
        "id": "wwDclxhA8ply"
      },
      "source": [
        "### **Model evaluation criterion**\n",
        "\n",
        "**The model can make two types of wrong predictions:**\n",
        "1. Predicting a Short Stay and the Patient have a Long Stay\n",
        "2. Predicting a Long Stay and the Patient have a Short Stay\n",
        "\n",
        "**Which case is more important?**\n",
        "* Predicting that the Patient will have a Short Stay but the actually have a Long Stay i.e. impacting the efficiency of the hospital management system as a result of improper planning. \n",
        "\n",
        "**How to reduce this loss i.e the need to reduce False Negatives?**\n",
        "* **Hospital would want `Recall` to be maximized**, greater the Recall higher the chances of minimizing false negatives. Hence, the focus should be on increasing Recall or minimizing the false negatives or in other words identifying the true positives (i.e. Class 1) so that the hospital can identify patients with the risk of staying longer. "
      ]
    },
    {
      "cell_type": "markdown",
      "metadata": {
        "id": "MnXMsJLgmO22"
      },
      "source": [
        "**Also, let's create a function to calculate and print the classification report and confusion matrix so that we don't have to rewrite the same code repeatedly for each model.**"
      ]
    },
    {
      "cell_type": "code",
      "execution_count": null,
      "metadata": {
        "id": "iofBVXMxmO22"
      },
      "outputs": [],
      "source": [
        "# Creating metric function \n",
        "\n",
        "def metrics_score(actual, predicted):\n",
        "    print(classification_report(actual, predicted, target_names=['0-30 days', '> 30 days']))\n",
        "    cm = confusion_matrix(actual, predicted)\n",
        "    plt.figure(figsize=(8,5))\n",
        "    sns.heatmap(cm, annot=True,  fmt='.2f', xticklabels=['Short Stay', 'Long Stay'], yticklabels=['Short Stay', 'Long Stay'])\n",
        "    plt.ylabel('Actual')\n",
        "    plt.xlabel('Predicted')\n",
        "    plt.show()"
      ]
    },
    {
      "cell_type": "markdown",
      "metadata": {
        "id": "36tMR3csmO22"
      },
      "source": [
        "## **Building the model**\n",
        "\n",
        "We will be building 4 different models:\n",
        "\n",
        "- **Logistic Regression**\n",
        "- **Decision Tree**\n",
        "- **Random Forest**\n",
        "- **XGBoost**\n"
      ]
    },
    {
      "cell_type": "markdown",
      "metadata": {
        "id": "QIYK6IJmmO22"
      },
      "source": [
        "### **Logistic Regression Model**"
      ]
    },
    {
      "cell_type": "markdown",
      "metadata": {
        "id": "0Y0FZfh8mO22"
      },
      "source": [
        "- Logistic Regression is a supervised learning algorithm that is used for **binary classification problems** i.e. where the dependent variable is categorical and has only two possible values. In logistic regression, we use the sigmoid function to calculate the probability of an event y, given some features x as:\n",
        "\n",
        "                                          P(y)=1/exp(1 + exp(-x))"
      ]
    },
    {
      "cell_type": "code",
      "execution_count": null,
      "metadata": {
        "id": "BJkjVT8lmO22"
      },
      "outputs": [],
      "source": [
        "# Fitting logistic regression model\n",
        "\n",
        "lg = LogisticRegression()\n",
        "lg.fit(X_train, y_train)"
      ]
    },
    {
      "cell_type": "markdown",
      "metadata": {
        "id": "ZcYCy4EBmO22"
      },
      "source": [
        "Let's check the model performance"
      ]
    },
    {
      "cell_type": "code",
      "execution_count": null,
      "metadata": {
        "id": "lp8ZKYELmO22"
      },
      "outputs": [],
      "source": [
        "# Checking the performance on the training data\n",
        "\n",
        "y_pred_train = lg.predict(X_train)\n",
        "\n",
        "metrics_score(y_train, y_pred_train)"
      ]
    },
    {
      "cell_type": "markdown",
      "metadata": {
        "id": "lYIYwjDqmO22"
      },
      "source": [
        "- The reported average includes the macro average which averages the unweighted mean per label, and the weighted average i.e. averaging the support-weighted mean per label.\n",
        "- In classification, the class of interest is considered the positive class. Here, the class of interest is 1 i.e. identifying patients that may have a Long Stay.\n",
        "\n",
        "**Reading the confusion matrix (clockwise):**\n",
        "\n",
        "* True Negative (Actual=0, Predicted=0): Model predicts that a patient will have a Short Stay  and the patient does have a Short Stay\n",
        "\n",
        "* False Positive (Actual=0, Predicted=1): Model predicts that a patient will have a Short Stay does and the patient have a Long Stay\n",
        "\n",
        "* False Negative (Actual=1, Predicted=0): Model predicts that a patient will have a Long Stay but the patient have a Short Stay\n",
        "\n",
        "* True Positive (Actual=1, Predicted=1): Model predicts that a patient will have a Long Stay and the patient have a Long Stay"
      ]
    },
    {
      "cell_type": "code",
      "execution_count": null,
      "metadata": {
        "scrolled": true,
        "id": "dV7NdLqnmO22"
      },
      "outputs": [],
      "source": [
        "# Checking the performance on the test dataset\n",
        "\n",
        "y_pred_test = lg.predict(X_test)\n",
        "\n",
        "metrics_score(y_test, y_pred_test)"
      ]
    },
    {
      "cell_type": "markdown",
      "metadata": {
        "id": "Iyc4EBHUmO23"
      },
      "source": [
        "**Observations:**\n",
        "- **We are getting an accuracy of around 74%** on train and test dataset.\n",
        "- However, **the recall for this model is only around 68% and precision of 78% for class 1 on train and test dataset.**\n",
        "- As the recall is low, **this model will not perform well** in differentiating out those patients who have long and short stay days, meaning it will eventually not help in reducing the patient hospital length of stay.\n"
      ]
    },
    {
      "cell_type": "markdown",
      "metadata": {
        "id": "dqGhwVehmO23"
      },
      "source": [
        "**Let's check the coefficients and find which variables are leading to Long Stay days and which can help to reduce it**:"
      ]
    },
    {
      "cell_type": "code",
      "execution_count": null,
      "metadata": {
        "scrolled": false,
        "id": "JNih_19UmO23"
      },
      "outputs": [],
      "source": [
        "# Printing the coefficients of logistic regression\n",
        "\n",
        "cols=X_train.columns\n",
        "\n",
        "coef_lg=lg.coef_\n",
        "\n",
        "pd.DataFrame(coef_lg,columns=cols).T.sort_values(by=0,ascending=False)"
      ]
    },
    {
      "cell_type": "markdown",
      "metadata": {
        "id": "ZrC9jduZmO23"
      },
      "source": [
        "**Observations:**\n",
        "\n",
        "\n",
        "**Features that may mostly increase the Length of Stay days are:**\n",
        "- Visitors with Patient\t    1.32884\n",
        "- Ward_Type_S\t            1.20037\n",
        "- Ward_Facility_Code_D      0.84706\n",
        "- Hospital_type_code_c\t    0.56760\n",
        "- Ward_Type_R\t            0.55851\n",
        "- Hospital_type_code_d      0.49349\n",
        "- Ward_Type_T\t            0.40514\n",
        "- Type of Admission_Trauma\t0.34485\n",
        "- Hospital_type_code_g\t    0.18138\n",
        "----\n",
        "- **Visitors with patient and Ward Type \"S\" has significant impact on the hospital length of stay**\n",
        "----\n",
        "**Features that may mostly reduce the Length of Stay days are:**\n",
        "- Age_31-40\t-0.72116\n",
        "- Severity of Illness_Minor\t-0.75552\n",
        "- Age_71-80\t-0.80493\n",
        "- Department_anesthesia\t-0.82475\n",
        "- Age_21-30\t-0.83247\n",
        "- Age_41-50\t-0.89677\n",
        "- Age_51-60\t-1.09070\n",
        "- Age_61-70\t-1.09354\n",
        "- Age_11-20\t-1.2563\n",
        "\n",
        "---\n",
        "- **The analysis shows that the younger the age, the more the likelyhood of not having a long stay**\n",
        "---\n",
        "- **Observations:**\n",
        "\n",
        "- Based on the Logistic Regression model, **Visitors wth patients and Ward Type are the most important features** in detecting whether a patient would stay long or not. So, the highest length of stay is among visitors with patient. \n",
        "\n",
        "- **This model also suggests that length of stay is dependent on Hospital Type C & D, Ward Facility_D, Type of Admission amongst others.** \n"
      ]
    },
    {
      "cell_type": "markdown",
      "metadata": {
        "id": "gJHm7jARmO23"
      },
      "source": [
        "The coefficients of the logistic regression model give us the log of odds, which is hard to interpret in the real world. We can convert the log of odds into real odds(**that is, the probability of success divided by the probability of failure**) by taking its exponential.\n",
        "\n",
        "### Finding the odds"
      ]
    },
    {
      "cell_type": "code",
      "execution_count": null,
      "metadata": {
        "id": "BH60GLIFmO23"
      },
      "outputs": [],
      "source": [
        "# Finding the odds\n",
        "odds = np.exp(lg.coef_[0])\n",
        "\n",
        "# Adding the odds to a dataframe and sorting the values\n",
        "pd.DataFrame(odds, X_train.columns, columns=['odds']).sort_values(by='odds', ascending=False) "
      ]
    },
    {
      "cell_type": "markdown",
      "metadata": {
        "id": "sQxNM7namO23"
      },
      "source": [
        "The odds are that these factors will mostly impact on the hospital length of stay on the logit function.\n",
        "\n",
        "- Visitors with Patient\t    3.77667\n",
        "- Ward_Type_S\t            3.32134\n",
        "- Ward_Facility_Code_D\t    2.33278\n",
        "- Hospital_type_code_c\t    1.76402\n",
        "- Ward_Type_R\t            1.74806\n",
        "- Hospital_type_code_d   \t1.63803\n",
        "- Ward_Type_T\t            1.49952\n",
        "- Type of Admission_Trauma\t1.41178"
      ]
    },
    {
      "cell_type": "markdown",
      "metadata": {
        "id": "q-0weycwmO24"
      },
      "source": [
        "### **Precision-Recall Curve for logistic regression**\n",
        "\n",
        "**Precision-Recall curves summarize the trade-off between the true positive rate and the positive predictive value for a predictive model using different probability thresholds.**"
      ]
    },
    {
      "cell_type": "code",
      "execution_count": null,
      "metadata": {
        "id": "UHgSu2OTmO24"
      },
      "outputs": [],
      "source": [
        "# Predict_prob gives the probability of each observation belonging to each class\n",
        "\n",
        "y_scores_lg=lg.predict_proba(X_train)\n",
        "\n",
        "precisions_lg, recalls_lg, thresholds_lg = precision_recall_curve(y_train, y_scores_lg[:,1])\n",
        "\n",
        "# Plot values of precisions, recalls, and thresholds\n",
        "plt.figure(figsize=(10,7))\n",
        "plt.plot(thresholds_lg, precisions_lg[:-1], 'b--', label='precision')\n",
        "plt.plot(thresholds_lg, recalls_lg[:-1], 'g--', label = 'recall')\n",
        "plt.xlabel('Threshold')\n",
        "plt.legend(loc='upper left')\n",
        "plt.ylim([0,1])\n",
        "plt.show()"
      ]
    },
    {
      "cell_type": "code",
      "execution_count": null,
      "metadata": {
        "id": "7byWgzplmO24"
      },
      "outputs": [],
      "source": [
        "# Calculating the exact threshold where precision and recall are equal.\n",
        "\n",
        "for i in np.arange(len(thresholds_lg)):\n",
        "    if precisions_lg[i]==recalls_lg[i]:\n",
        "        print(thresholds_lg[i])"
      ]
    },
    {
      "cell_type": "markdown",
      "metadata": {
        "id": "w91eaGclmO24"
      },
      "source": [
        "**Observation:**\n",
        "- We can see that precision and recall are balanced for a threshold of about ~**0.45**.\n",
        "\n",
        "**Let's find out the performance of the model at this threshold**"
      ]
    },
    {
      "cell_type": "code",
      "execution_count": null,
      "metadata": {
        "id": "BnUtROaMmO24"
      },
      "outputs": [],
      "source": [
        "optimal_threshold=.45\n",
        "y_pred_train = lg.predict_proba(X_train)\n",
        "metrics_score(y_train, y_pred_train[:,1]>optimal_threshold)"
      ]
    },
    {
      "cell_type": "markdown",
      "metadata": {
        "id": "qHC1u-ZOmO24"
      },
      "source": [
        "Observations:\n",
        "\n",
        "The model performance has improved. The recall has increased significantly for class 1.\n",
        "Let's check the performance on the test data."
      ]
    },
    {
      "cell_type": "code",
      "execution_count": null,
      "metadata": {
        "id": "pwMyhDXamO24"
      },
      "outputs": [],
      "source": [
        "optimal_threshold1=.45\n",
        "y_pred_test = lg.predict_proba(X_test)\n",
        "metrics_score(y_test, y_pred_test[:,1]>optimal_threshold1)"
      ]
    },
    {
      "cell_type": "markdown",
      "metadata": {
        "id": "OEPguK8kmO24"
      },
      "source": [
        "Observation:\n",
        "\n",
        "The model  performance is the same on both the train and test datasets.\n",
        "The recall of the test data has increased significantly while at the same time, the precision and accauracy remain unchanged and generalized.\n",
        "The average recall and precision for the model are good and can be able to differentiate between long and short stays  but let's see if we can get better performance using other algorithms."
      ]
    },
    {
      "cell_type": "markdown",
      "metadata": {
        "id": "meBT4aR0mO24"
      },
      "source": [
        "### **Decision Tree**"
      ]
    },
    {
      "cell_type": "code",
      "execution_count": null,
      "metadata": {
        "id": "uJpr6flLmO24"
      },
      "outputs": [],
      "source": [
        "# Building decision tree model\n",
        "\n",
        "model_dt= DecisionTreeClassifier(random_state=1,max_depth=8)\n",
        "model_dt.fit(X_train, y_train)"
      ]
    },
    {
      "cell_type": "markdown",
      "metadata": {
        "id": "dsgx_xfEmO25"
      },
      "source": [
        "**Let's check the model performance of decision tree**"
      ]
    },
    {
      "cell_type": "code",
      "execution_count": null,
      "metadata": {
        "id": "Jb3gK4ramO25"
      },
      "outputs": [],
      "source": [
        "# Checking performance on the training dataset\n",
        "\n",
        "pred_train_dt = model_dt.predict(X_train)\n",
        "\n",
        "metrics_score(y_train, pred_train_dt)"
      ]
    },
    {
      "cell_type": "markdown",
      "metadata": {
        "id": "sY6V-BzdmO25"
      },
      "source": [
        "**Observation:**\n",
        "* Model has performed very well on the training set with improved accuracy and less recall\n",
        "* As we know a decision tree will continue to grow and classify each data point correctly if no restrictions are applied as the trees will learn all the patterns in the training set.\n",
        "\n",
        "**Let's check the performance on test data to see if the model is overfitting.**"
      ]
    },
    {
      "cell_type": "code",
      "execution_count": null,
      "metadata": {
        "id": "WR-lc54YmO25"
      },
      "outputs": [],
      "source": [
        "pred_test_dt = model_dt.predict(X_test)\n",
        "metrics_score(y_test, pred_test_dt)"
      ]
    },
    {
      "cell_type": "markdown",
      "metadata": {
        "id": "F_V2Zq-dmO25"
      },
      "source": [
        "**Observation:**\n",
        "* The decision tree model remains the same on both the train & test data and is not overfitting\n",
        "* We can tune the hyperparameters to increase the performance "
      ]
    },
    {
      "cell_type": "markdown",
      "metadata": {
        "id": "G0rvW9OCmO25"
      },
      "source": [
        "**Let's visualize the decision tree** and observe the decision rules:"
      ]
    },
    {
      "cell_type": "code",
      "execution_count": null,
      "metadata": {
        "id": "QG9vi-nzmO25"
      },
      "outputs": [],
      "source": [
        "features = list(X_train.columns)\n",
        "\n",
        "plt.figure(figsize=(20,20))\n",
        "from sklearn import tree\n",
        "tree.plot_tree(model_dt,feature_names=features,max_depth =4, filled=True,fontsize=9,node_ids=True,class_names=True)\n",
        "plt.show()"
      ]
    },
    {
      "cell_type": "code",
      "execution_count": null,
      "metadata": {
        "id": "mI4dZfY3mO25"
      },
      "outputs": [],
      "source": [
        "# Importance of features in the tree building\n",
        "\n",
        "feature_names = list(X_train.columns)\n",
        "importances = model_dt.feature_importances_\n",
        "indices = np.argsort(importances)\n",
        "\n",
        "plt.figure(figsize=(8, 8))\n",
        "plt.title(\"Feature Importances\")\n",
        "plt.barh(range(len(indices)), importances[indices], color=\"violet\", align=\"center\")\n",
        "plt.yticks(range(len(indices)), [feature_names[i] for i in indices])\n",
        "plt.xlabel(\"Relative Importance\")\n",
        "plt.show()"
      ]
    },
    {
      "cell_type": "markdown",
      "metadata": {
        "id": "awThwCJOmO25"
      },
      "source": [
        "**Observation:**\n",
        "- **So,Visitors with patient is the most important feature** **followed by Ward Type and Extra Room Available, Severity of illness, Type of Admission and Admission deposit** which makes sense. \n"
      ]
    },
    {
      "cell_type": "markdown",
      "metadata": {
        "id": "BjSF76lAmO25"
      },
      "source": [
        "## **Random Forest**"
      ]
    },
    {
      "cell_type": "code",
      "execution_count": null,
      "metadata": {
        "id": "az_sNbAjmO25"
      },
      "outputs": [],
      "source": [
        "# Fitting the Random Forest classifier on the training data\n",
        "rf_estimator = RandomForestClassifier(random_state = 1)\n",
        "\n",
        "rf_estimator.fit(X_train, y_train)"
      ]
    },
    {
      "cell_type": "code",
      "execution_count": null,
      "metadata": {
        "id": "Gw5VQJjxmO26"
      },
      "outputs": [],
      "source": [
        "# Checking performance on the training data\n",
        "y_pred_train_rf = rf_estimator.predict(X_train)\n",
        "\n",
        "metrics_score(y_train, y_pred_train_rf)"
      ]
    },
    {
      "cell_type": "markdown",
      "metadata": {
        "id": "NS4sPakMmO26"
      },
      "source": [
        "**Observation:**\n",
        "- For all the metrics in the training dataset, the Random Forest gives a 100% score."
      ]
    },
    {
      "cell_type": "code",
      "execution_count": null,
      "metadata": {
        "id": "2k47hfaLmO26"
      },
      "outputs": [],
      "source": [
        "# Checking performance on the testing data\n",
        "y_pred_test_rf = rf_estimator.predict(X_test)\n",
        "\n",
        "metrics_score(y_test, y_pred_test_rf)"
      ]
    },
    {
      "cell_type": "markdown",
      "metadata": {
        "id": "MNiYvI2DmO26"
      },
      "source": [
        "**Observations:**\n",
        "\n",
        "- The Random Forest classifier **seems to be overfitting the training data**. The recall on the training data is 1, while the recall on the test data is only ~ 0.77 for class 1.\n",
        "- Precision is ~ 0.87 high for the test data. "
      ]
    },
    {
      "cell_type": "markdown",
      "metadata": {
        "id": "ZDufl6qHmO26"
      },
      "source": [
        "**Let's check the feature importance of the Random Forest**"
      ]
    },
    {
      "cell_type": "code",
      "execution_count": null,
      "metadata": {
        "id": "Aq_Qf9fomO26"
      },
      "outputs": [],
      "source": [
        "# Importance of features in the tree building\n",
        "\n",
        "feature_names = list(X_train.columns)\n",
        "importances = rf_estimator.feature_importances_\n",
        "indices = np.argsort(importances)\n",
        "\n",
        "plt.figure(figsize=(8, 8))\n",
        "plt.title(\"Feature Importances\")\n",
        "plt.barh(range(len(indices)), importances[indices], color=\"violet\", align=\"center\")\n",
        "plt.yticks(range(len(indices)), [feature_names[i] for i in indices])\n",
        "plt.xlabel(\"Relative Importance\")\n",
        "plt.show()"
      ]
    },
    {
      "cell_type": "markdown",
      "metadata": {
        "id": "4MM5-IKAmO26"
      },
      "source": [
        "**Observations:**\n",
        "- The Random Forest further verifies the results from the decision tree that the most important features are Visitors with Patient, Admission Deposit, Available Extra Room among others."
      ]
    },
    {
      "cell_type": "code",
      "execution_count": null,
      "metadata": {
        "id": "QTKkmKldmO27"
      },
      "outputs": [],
      "source": [
        "# making predictions with the naive bayes model\n",
        "Gaussian_Clasifier = GaussianNB()\n",
        "\n",
        "Gaussian_Clasifier = Gaussian_Clasifier.fit(X_train, y_train)"
      ]
    },
    {
      "cell_type": "code",
      "execution_count": null,
      "metadata": {
        "id": "cUrqdviqmO27"
      },
      "outputs": [],
      "source": [
        "# Checking performance on the training data\n",
        "y_pred_train_gaussian = Gaussian_Clasifier.predict(X_train)\n",
        "\n",
        "metrics_score(y_train, y_pred_train_gaussian)"
      ]
    },
    {
      "cell_type": "code",
      "execution_count": null,
      "metadata": {
        "id": "xoQQSVv_mO27"
      },
      "outputs": [],
      "source": [
        "# Checking performance on the training data\n",
        "y_pred_test_gaussian = Gaussian_Clasifier.predict(X_test)\n",
        "\n",
        "metrics_score(y_train, y_pred_train_gaussian)"
      ]
    },
    {
      "cell_type": "markdown",
      "metadata": {
        "id": "lVmfAKRYmO27"
      },
      "source": [
        "Both the train and test have the same level of performance 61% recall and 72% precision."
      ]
    },
    {
      "cell_type": "code",
      "execution_count": null,
      "metadata": {
        "scrolled": true,
        "id": "MlSKhcZxmO27"
      },
      "outputs": [],
      "source": [
        "# Fitting the Random Forest classifier on the training data\n",
        "XGBoost_Claasifier = XGBClassifier(random_state = 1)\n",
        "\n",
        "XGBoost_Claasifier.fit(X_train, y_train)"
      ]
    },
    {
      "cell_type": "code",
      "execution_count": null,
      "metadata": {
        "scrolled": false,
        "id": "N2PdMwwmmO27"
      },
      "outputs": [],
      "source": [
        "# Checking performance on the training data\n",
        "y_pred_train_XGBoost = XGBoost_Claasifier.predict(X_train)\n",
        "\n",
        "metrics_score(y_train, y_pred_train_XGBoost)"
      ]
    },
    {
      "cell_type": "markdown",
      "metadata": {
        "id": "jJXFiFR7mO27"
      },
      "source": [
        "**Observation:**\n",
        "- For all the metrics in the training dataset, the Random Forest gives a 100% score."
      ]
    },
    {
      "cell_type": "code",
      "execution_count": null,
      "metadata": {
        "scrolled": false,
        "id": "-3fKsTN-mO27"
      },
      "outputs": [],
      "source": [
        "# Checking performance on the testing data\n",
        "y_pred_test_XGBoost = XGBoost_Claasifier.predict(X_test)\n",
        "\n",
        "metrics_score(y_test, y_pred_test_XGBoost)"
      ]
    },
    {
      "cell_type": "markdown",
      "metadata": {
        "id": "MhQWCcdsmO27"
      },
      "source": [
        "**Observations:**\n",
        "\n",
        "- The XGoost classifier **is not overfitting the training data**. The recall on the training data is 73, while the recall on the test data is only ~ 0.72 for class 1.\n",
        "- Precision is high ~ 0.93 for the traning & test data as well. "
      ]
    },
    {
      "cell_type": "markdown",
      "metadata": {
        "id": "mh7QmWqQmO28"
      },
      "source": [
        "**Let's check the feature importance of the Random Forest**"
      ]
    },
    {
      "cell_type": "code",
      "execution_count": null,
      "metadata": {
        "id": "ohCYLQ5NmO28"
      },
      "outputs": [],
      "source": [
        "# Importance of features in the tree building\n",
        "\n",
        "feature_names = list(X_train.columns)\n",
        "importances = XGBoost_Claasifier.feature_importances_\n",
        "indices = np.argsort(importances)\n",
        "\n",
        "plt.figure(figsize=(8, 8))\n",
        "plt.title(\"Feature Importances\")\n",
        "plt.barh(range(len(indices)), importances[indices], color=\"violet\", align=\"center\")\n",
        "plt.yticks(range(len(indices)), [feature_names[i] for i in indices])\n",
        "plt.xlabel(\"Relative Importance\")\n",
        "plt.show()"
      ]
    },
    {
      "cell_type": "markdown",
      "metadata": {
        "id": "y1SBARXEmO28"
      },
      "source": [
        "**Observations:**\n",
        "- The XGBoost confirms that the Visitors with Patient, Ward Type, Admission Deposit, Type of Admission, Available Extra Room, Severity of sickness, Bed Grade and Age are the most important features to determining hospital Length of Stay."
      ]
    },
    {
      "cell_type": "markdown",
      "metadata": {
        "id": "U2IMYWBDmO28"
      },
      "source": [
        "#### Model Comparison"
      ]
    },
    {
      "cell_type": "code",
      "execution_count": null,
      "metadata": {
        "id": "T-45DV4vmO28"
      },
      "outputs": [],
      "source": [
        "# print the precision and recall scores\n",
        "\n",
        "print(\"Precision and Recall Scores:\")\n",
        "precision_recall_gaussian = precision_score(y_test, y_pred_test_gaussian), recall_score(y_test, y_pred_test_gaussian)\n",
        "print('Guassian: {}'.format(np.round(precision_recall_gaussian,2)))\n",
        "\n",
        "precision_recall_dt = precision_score(y_test, pred_test_dt), recall_score(y_test, pred_test_dt)\n",
        "print('Decision Tree : {}'.format(np.round(precision_recall_dt ,2)))\n",
        "\n",
        "precision_recall_rf = precision_score(y_test, y_pred_test_rf), recall_score(y_test, y_pred_test_rf)\n",
        "print('Random Forest: {}'.format(np.round(precision_recall_rf,2)))\n",
        "\n",
        "precision_recall_xgboost = precision_score(y_test, y_pred_test_XGBoost), recall_score(y_test, y_pred_test_XGBoost)\n",
        "print('XGBoost: {}'.format(np.round(precision_recall_xgboost,2)))"
      ]
    },
    {
      "cell_type": "markdown",
      "metadata": {
        "id": "Y09IA60jmO28"
      },
      "source": [
        "- **From the scores, the best model is the Random Forest based on 'recall score of 75%'**"
      ]
    },
    {
      "cell_type": "markdown",
      "metadata": {
        "id": "sYIyHVJtmO28"
      },
      "source": [
        "#### SAVE THE MODEL - Random Forest"
      ]
    },
    {
      "cell_type": "code",
      "execution_count": null,
      "metadata": {
        "id": "Pj1aU-3RmO28"
      },
      "outputs": [],
      "source": [
        "import pickle\n",
        "with open(\"pickle_model\", \"wb\") as file:\n",
        "    pickle.dump(rf_estimator, file)"
      ]
    },
    {
      "cell_type": "markdown",
      "metadata": {
        "id": "izin-lBrmO28"
      },
      "source": [
        "#### Reloading the Saved Model"
      ]
    },
    {
      "cell_type": "code",
      "execution_count": null,
      "metadata": {
        "id": "m1lCZ15EmO28"
      },
      "outputs": [],
      "source": [
        "with open(\"pickle_model\", \"rb\") as file:\n",
        "    model = pickle.load(file)\n",
        "    \n",
        "predictions = model.predict(X_test)\n",
        "X_test = pd.DataFrame(X_test)\n",
        "y_test = pd.DataFrame(y_test)\n",
        "predicted = pd.DataFrame(predictions)\n",
        "\n",
        "for i in range(len(predictions)):\n",
        "    complete_data = pd.concat([X_test, y_test], axis=1)\n",
        "    "
      ]
    },
    {
      "cell_type": "code",
      "execution_count": null,
      "metadata": {
        "id": "csJIkfaUmO29"
      },
      "outputs": [],
      "source": [
        "complete_data['Predicted'] = model.predict(X_test)\n",
        "complete_data.head()\n",
        "    "
      ]
    },
    {
      "cell_type": "markdown",
      "metadata": {
        "id": "bVu2js7mmO29"
      },
      "source": [
        "#### Exporting the data"
      ]
    },
    {
      "cell_type": "code",
      "execution_count": null,
      "metadata": {
        "id": "o_RZjRVKmO29"
      },
      "outputs": [],
      "source": [
        "data.to_csv('complete_data.csv')"
      ]
    },
    {
      "cell_type": "code",
      "execution_count": null,
      "metadata": {
        "id": "7u19I3chmO29"
      },
      "outputs": [],
      "source": []
    },
    {
      "cell_type": "markdown",
      "metadata": {
        "id": "qDjzhbupmO29"
      },
      "source": [
        "## **Business Insight & Recommendations:**"
      ]
    },
    {
      "cell_type": "markdown",
      "metadata": {
        "id": "MEOzKh-rmO29"
      },
      "source": [
        "- **DATA FINDING SUMMARY**\n",
        "\n",
        "- The data shows that there a total of 131,624 patients registered at the hospital of which 78% of them are from the Gynecological Department and 68% of them are between the child bearing age (21-60 years). According to the World Health Organization, the female reproductive age is between 15 to 49 years.\n",
        "\n",
        "- Also, the average length of stay is 25.5 days and a median of 24 days with available extra room in the hospital to be 3 rooms with a bed grade of 3 on avarage. \n",
        "\n",
        "- Considering the influx of patients into the hospital, it might be necessary to increase the number of available rooms to improve the efficency of patient management.\n",
        "\n",
        "- **PREDICTIVE MODEL**\n",
        "\n",
        "* We have been able to build a predictive model:\n",
        "\n",
        "  a) that the hospital can deploy to identify patients who are likely to have a long stay.\n",
        "  \n",
        "  b) that the hospital can use to find the key factors that contributes to patient having a long stay. \n",
        "  \n",
        "  c) based on which the hospital can take appropriate actions to make better policies for hospital administartion and patient management.\n",
        "  \n",
        "\n",
        "- **FACTORS THAT LEADS TO HOSPITAL LONG STAY**:\n",
        "----\n",
        "- **Visitors with Patient**\n",
        "- **Available Extra Room at the hospital**\n",
        "- **Severity of illness**\n",
        "- **Bed Grade**\n",
        "- **Ward Type**\n",
        "- **Age**\n",
        "- **Department-Gynecology**\n",
        "- **Type of Admission**\n",
        "- **Admission Deposit**\n",
        "- **Hospital location**\n",
        "- **Patient City**\n",
        "-----\n",
        "- **Visitors with patients**: The influx of patients in a hospital can impact the length of stay of a particular patient in a few different ways. One is that an overcrowded hospital can limit the resources available to care for the patients, so treatments may take longer. Another is that the wait to see a doctor, or to receive treatment, can be longer due to the increased number of patients. Finally, if the hospital has limited space, patients may have to wait longer for beds and other resources, resulting in longer stays.\n",
        "- **The hospital had a total of 131,624 patients admitted**. Although the date and time of admission is not given in the data for analysis, the number of patrients can lead to overcrowding which can also have a negative impact on the quality of care patients receive. For example, overcrowded hospitals have shown to have higher rates of hospital acquired infections due to limited access to cleaning resources, as well as an increased likelihood of medical errors due to overworked doctors and nurses. Additionally, limited resources can lead to poorer outcomes for patients such as delays in diagnosis and treatment, a lessened ability to access specialized care, and a general decrease in patient satisfaction. \n",
        "---\n",
        "\n",
        "- **Available Extra Room**: Studies have consistently shown that when a hospital has extra space available, patients tend to have significantly shorter lengths of stay than hospitals that are overcrowded. This is because extra room allows for more efficient and expansive treatment, faster diagnoses, and improved access to specialized and advanced care options. Additionally, the increased physical space allows for more effective communication between staff, and shorter queues for diagnostic testing and treatments. The lack of extra space also limits the ability of medical staff to communicate with each other effectively, leading to delays in care. \n",
        "- **There's an average of 3 extra rooms for 131,624 patients**.\n",
        "---\n",
        "- **Ward Type**: Ward type plays a role in hospital length of stay. For example, if a patient is admitted to a ward where there is no treatment, the patient's condition may not improve and the length of stay may be extended. Additionally, if a patient is admitted to a ward with limited resources or personnel, the patient may receive a lower quality of care, which may lead to longer hospital stays.\n",
        "- **Ward Type 'R' has most of the patients - 43% followed by 'Q' - 33% and 'S' - 24%**.\n",
        "----\n",
        "- **Severity of illness**: The severity of illness can significantly affect the length of stay in a hospital. Generally, the more severe the illness, the longer the stay in the hospital will be. Additionally, the complexity of the illness, number of comorbidities, and other factors may also have an impact on the length of stay. \n",
        "- **55% of the patients has moderate illness, 26% has minor illness while 18% has extreme illness**.\n",
        "----\n",
        "- **Bed Grade**: The type of bed grade within the hospital can impact the length of stay in a hospital. Patients in higher bed grades typically receive more intensive and personalized care, which may lead to longer lengths of stay compared to lower bed grades. Additionally, higher bed grade resources are often in higher demand, which may lead to increased wait times for care, and a longer hospital stay.\n",
        "----\n",
        "- **Age**: Age can impact the length of stay in a hospital; in general, younger patients tend to recover faster than older patients, which could lead to a shorter hospital stay. Additionally, since older patients may have more chronic and complex medical conditions, they may require more comprehensive care, which could lead to an extended hospital stay.\n",
        "- **The age range from 21-60 years has a total of 68% while 60 yaers and above has 22% as less than 20 years has 12%. This is an indicattion that apart from the child bearing age group (15-49 years), there are geriatric and pediatric patients in the hospital**.\n",
        "---\n",
        "- **Department**: The department of a hospital can affect the length of stay in a number of ways. For instance, a high-acuity department, such as an intensive care unit or trauma center, typically has patients that need longer lengths of stay due to their need for more intensive and specialized care. Additionally, some departments, such as oncology, may require longer stays due to the nature of the treatments that patients need, as well as the need for further monitoring.\n",
        "- **Gynecological Department has 78% of the patients which is an indication that the patients are mostly women**.\n",
        "----\n",
        "- **Admission Deposit**: The deposit affects the length of stay because it sets the patient's expectation for how long they are expected to stay in the hospital. The deposit can be used as a tool for both communicating the expected length of stay and setting expectations for timely patient discharge, making sure that patients are discharged in a timely manner.\n",
        "----\n",
        "- **Type of Admission**: The type of admission can affect the length of hospital stay in several ways. For example, if someone is admitted through the emergency department they may stay longer than someone who is admitted through a doctor's order. Other factors that influence the length of hospital stay include the complexity of the condition being treated, the availability of the necessary treatment resources, and the patient's ability to follow their care plan when discharged. \n",
        "- **48% of the patients has trauma, 37% are admitted on Emergency as 15% are Urgent**\n",
        "-----\n",
        "- **Hospital Location**: The location of the hospital can affect the length of hospital stay as it can impact the availability of treatment resources and specialized expertise. For example, if a patient requires advanced care and the hospital is not close to a large metropolitan hospital with specialty services available, the patient may have to travel further for those services, resulting in a longer length of stay.\n",
        "----\n",
        "- **Patient city or location**:  The location of the city in which a patient lives may affect the length of hospital stay. For example, rural areas may not have the same availability of resources as urban areas, which may require patients to travel further for specialized care, leading to a longer length of stay. Additionally, if the hospital is in a very populated area, there may be greater patient demand, resulting in higher waiting times, leading to extended hospital stays."
      ]
    },
    {
      "cell_type": "code",
      "execution_count": null,
      "metadata": {
        "id": "hkYSDWehmO29"
      },
      "outputs": [],
      "source": []
    }
  ],
  "metadata": {
    "accelerator": "GPU",
    "colab": {
      "collapsed_sections": [
        "vh6pbSWLJ7pT",
        "uUEuNqtbPVT0",
        "wTHU4IPogofK",
        "gU_-9VCyskuV",
        "jeEmAqhGBlQ3",
        "zwYRba3GCmMR",
        "dnawqWwiDGAN",
        "n5PnzTiBuJA5",
        "fTjAF7lA2A9v",
        "wwDclxhA8ply",
        "GtfJkhgr2pMP",
        "hvDa_4-i2pMP",
        "16fOWNF62pMS",
        "RVWP-AHZ2pMT",
        "QDggSWcb2pMV",
        "ZOXNtE552pMW",
        "J0Nkflof9xLs",
        "sa8z6Ric93Qc",
        "lkXRAKBseIfT",
        "3h_IMznmkhTg",
        "eZg2DYmNeQ-2",
        "3u0gWZX1obu7",
        "XR43ExubwV-n",
        "Dpctb2GgwLAY",
        "mYlv2xRvvzFr",
        "cbgGiDdslXUn",
        "Wal3dM_29yLW",
        "icuGOdgBg9ZL"
      ],
      "provenance": [],
      "include_colab_link": true
    },
    "kernelspec": {
      "display_name": "Python 3 (ipykernel)",
      "language": "python",
      "name": "python3"
    },
    "language_info": {
      "codemirror_mode": {
        "name": "ipython",
        "version": 3
      },
      "file_extension": ".py",
      "mimetype": "text/x-python",
      "name": "python",
      "nbconvert_exporter": "python",
      "pygments_lexer": "ipython3",
      "version": "3.11.0 (main, Oct 24 2022, 18:26:48) [MSC v.1933 64 bit (AMD64)]"
    },
    "vscode": {
      "interpreter": {
        "hash": "27ce92cfbf1075c74d439ab60ca02431ede1daef6bc62f73e1388b40f2ee3a21"
      }
    }
  },
  "nbformat": 4,
  "nbformat_minor": 0
}